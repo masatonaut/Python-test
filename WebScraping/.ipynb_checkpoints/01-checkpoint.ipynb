{
 "cells": [
  {
   "cell_type": "code",
   "execution_count": 1,
   "id": "64bde61d-9aa9-47fc-a0f0-5bf7548bcbb4",
   "metadata": {},
   "outputs": [
    {
     "name": "stdout",
     "output_type": "stream",
     "text": [
      "Updating Homebrew...\n",
      "\u001b[34m==>\u001b[0m \u001b[1mAuto-updated Homebrew!\u001b[0m\n",
      "Updated 2 taps (homebrew/core and homebrew/services).\n",
      "\u001b[34m==>\u001b[0m \u001b[1mNew Formulae\u001b[0m\n",
      "abricate                   graphqurl                  pari-seadata-big\n",
      "actionlint                 grepip                     parliament\n",
      "aerc                       grokj2k                    parquet-cli\n",
      "age                        grokmirror                 pcalc\n",
      "aida-header                gtkmm4                     pcp\n",
      "airspyhf                   gtksourceview5             pdf2djvu\n",
      "alda                       gtop                       pdftilecut\n",
      "alembic                    h2c                        pdm\n",
      "alerter                    h2spec                     pgxnclient\n",
      "aliddns                    haruhi-dl                  phive\n",
      "all-repos                  haskell-language-server    php-cs-fixer@2\n",
      "amfora                     hblock                     php@7.4\n",
      "ansible@2.9                hcl2json                   phpbrew\n",
      "ansilove                   heppdt2                    pickle\n",
      "apache-pulsar              hexo                       pillow\n",
      "apt                        himalaya                   pkg-config-wrapper\n",
      "archey4                    htmlq                      pkgconf\n",
      "argocd-autopilot           htmltest                   pkger\n",
      "argocd-vault-plugin        hubble                     plow\n",
      "artillery                  i2c-tools                  poppler-qt5\n",
      "arturo                     iconsur                    postgresql@12\n",
      "as-tree                    imath                      postgresql@13\n",
      "at-spi2-atk                indicators                 principalmapper\n",
      "at-spi2-core               influxdb-cli               procps\n",
      "atkmm@2.28                 influxdb@1                 proj@7\n",
      "atop                       inframap                   projectm\n",
      "attr                       ipinfo-cli                 protoc-gen-go-grpc\n",
      "atuin                      iproute2                   psalm\n",
      "autoconf@2.69              iputils                    ptpython\n",
      "autorestic                 iredis                     pure\n",
      "avahi                      isl@0.18                   px\n",
      "aws-console                isort                      py-spy\n",
      "aws-rotate-key             jello                      pydocstyle\n",
      "aws-sso-util               jellyfish                  pyflow\n",
      "aws-vault                  joplin-cli                 pyoxidizer\n",
      "baidupcs-go                jpdfbookmarks              pyqt-3d\n",
      "bandit                     jpeg-xl                    pyqt-builder\n",
      "bas55                      jql                        pyqt-networkauth\n",
      "bash_unit                  jrsonnet                   pyright\n",
      "basis_universal            json5                      pyside@2\n",
      "bat-extras                 julia                      python-launcher\n",
      "bbtools                    k2tf                       python-tabulate\n",
      "bgpq4                      k3sup                      python-tk@3.10\n",
      "bioperl                    kalker                     python-tk@3.9\n",
      "bit-git                    kcgi                       python@3.10\n",
      "blaze                      keptn                      pythran\n",
      "bosh-cli                   kertish-dfs                pywhat\n",
      "bottom                     khiva                      qodem\n",
      "box2d                      ki                         qt-libiodbc\n",
      "bpython                    kickstart                  qt-mariadb\n",
      "bpytop                     klee                       qt-mysql\n",
      "brook                      kn                         qt-percona-server\n",
      "bubblewrap                 ko                         qt-postgresql\n",
      "buildpulse-test-reporter   kotlin-language-server     qt-unixodbc\n",
      "bupstash                   kube-linter                qthreads\n",
      "ca-certificates            kube-score                 qwt-qt5\n",
      "cadence-workflow           kubecm                     rain\n",
      "cadical                    kubeconform                range2cidr\n",
      "caire                      kubergrunt                 rbw\n",
      "cairomm@1.14               kubevela                   rdkit\n",
      "cargo-audit                lab                        red-tldr\n",
      "cargo-bloat                lastz                      regipy\n",
      "cargo-edit                 latino                     reproc\n",
      "cargo-llvm-lines           ld-find-code-refs          revive\n",
      "cargo-outdated             leaf-proxy                 rhit\n",
      "cargo-watch                lefthook                   richmd\n",
      "cassandra@3                lexbor                     rm-improved\n",
      "cfn-flip                   libaec                     rmw\n",
      "cfn-format                 libavif                    rollup\n",
      "charmcraft                 libbsd                     ronn\n",
      "chars                      libcap                     rosa-cli\n",
      "checkov                    libcap-ng                  rover\n",
      "cherrytree                 libdrm                     rpg-cli\n",
      "chrpath                    libfuse                    rsc_2fa\n",
      "cidr2range                 libfuse@2                  rtl_433\n",
      "cilium-cli                 libmd                      rttr\n",
      "ciphey                     libmng                     ruby@2.7\n",
      "clang-format@11            libmobi                    s4cmd\n",
      "clarinet                   libnghttp2                 sail\n",
      "clash                      libnsl                     samba\n",
      "clazy                      libpciaccess               saml2aws\n",
      "clickhouse-cpp             libpinyin                  scorecard\n",
      "clickhouse-odbc            libpipeline                scotch\n",
      "cloudflare-wrangler        libprelude                 scry\n",
      "cloudiscovery              librespot                  search-that-hash\n",
      "clusterctl                 librist                    selene\n",
      "cmake-docs                 librttopo                  seqkit\n",
      "code-minimap               libsigrok                  sextractor\n",
      "coin3d                     libsigrokdecode            showkey\n",
      "colima                     libslirp                   sigrok-cli\n",
      "condure                    libtirpc                   simde\n",
      "conftest                   libunwind                  singularity\n",
      "conmon                     libva                      six\n",
      "copier                     libvdpau                   slides\n",
      "corepack                   libvnc                     slirp4netns\n",
      "cosign                     libxls                     smu\n",
      "counterfeiter              libxml++@4                 snowpack\n",
      "cpplint                    libxml++@5                 soapyrtlsdr\n",
      "cppzmq                     libxp                      soapysdr\n",
      "cpufetch                   licensefinder              solana\n",
      "crackpkcs                  lilypond                   spaceship\n",
      "crane                      lima                       spack\n",
      "crcany                     linux-headers@4.15         spdx-sbom-generator\n",
      "cri-tools                  linux-pam                  spectra\n",
      "crispy-doom                liqoctl                    spirv-llvm-translator\n",
      "cruft                      lit                        spot\n",
      "crun                       llvm@11                    sql-lint\n",
      "csvtk                      llvm@12                    sqlancer\n",
      "cue                        lm-sensors                 sqlbench\n",
      "curlie                     locust                     sqlc\n",
      "cvs-fast-export            logswan                    sqlx-cli\n",
      "cyral-gimme-db-token       lp_solve                   sqsmover\n",
      "darglint                   lsix                       storj-uplink\n",
      "dasel                      lttng-ust                  stp\n",
      "datafusion                 lua@5.3                    strace\n",
      "datalad                    luajit-openresty           stylua\n",
      "datree                     lunzip                     svgbob\n",
      "ddcctl                     luv                        sysstat\n",
      "delve                      ly                         systemd\n",
      "demumble                   lychee                     t-rec\n",
      "detect-secrets             lziprecover                tailscale\n",
      "device-mapper              macchina                   taskwarrior-tui\n",
      "djl-serving                macos-term-size            tbb@2020\n",
      "dnsx                       magic_enum                 tctl\n",
      "doc8                       mailcatcher                tendermint\n",
      "docui                      mapcidr                    terminator\n",
      "docuum                     marcli                     terracognita\n",
      "dog                        mariadb@10.5               terraform-rover\n",
      "dory                       markdownlint-cli           terraform@0.13\n",
      "dotbot                     marp-cli                   texlive\n",
      "dotenv-linter              massdns                    tfk8s\n",
      "dotnet                     mathlibtools               tfsec\n",
      "dprint                     matplotplusplus            tfupdate\n",
      "driftctl                   matterbridge               tgenv\n",
      "drill                      maturin                    thrax\n",
      "dstask                     mbedtls@2                  threemux\n",
      "dua-cli                    md4c                       tilt\n",
      "duf                        mdzk                       timg\n",
      "easy-rsa                   mermaid-cli                tm\n",
      "efm-langserver             mesa-glu                   tmuxp\n",
      "ehco                       microsocks                 tomcat@9\n",
      "eigenpy                    mimalloc                   toml11\n",
      "elan-init                  minisat                    tracker\n",
      "elfutils                   mmtabbarview               trec_eval\n",
      "enkits                     moar                       tree-sitter\n",
      "envoy                      mockery                    trojan-go\n",
      "enzyme                     mongocli                   truffle\n",
      "epr                        mongosh                    tssh\n",
      "erlang@23                  moto                       twty\n",
      "esbuild                    mpdecimal                  tz\n",
      "evernote2md                mr2                        uftrace\n",
      "f2                         mrbayes                    umple\n",
      "f3d                        msc-generator              universal-ctags\n",
      "fabric-installer           msgpack-cxx                utf8cpp\n",
      "fann                       muffet                     uuu\n",
      "fanyi                      multi-git-status           v2ray\n",
      "fastq-tools                multitime                  vala-language-server\n",
      "fcp                        murex                      vc\n",
      "feroxbuster                mx                         vespa-cli\n",
      "fheroes2                   name-that-hash             viddy\n",
      "firefoxpwa                 nanoflann                  vint\n",
      "fizz                       nbsdgames                  virtualenv\n",
      "flamebearer                ncc                        virtualenvwrapper\n",
      "fleet-cli                  ncnn                       vite\n",
      "flow-cli                   ncspot                     vitess\n",
      "fluid-synth@2.1            neovim-qt                  viu\n",
      "flux                       neovim-remote              vsh\n",
      "fnlfmt                     net-tools                  vue-cli\n",
      "fnm                        newrelic-infra-agent       vulture\n",
      "foreman                    nicotine-plus              waffle\n",
      "forge                      node@14                    wangle\n",
      "fpart                      node@16                    wasmtime\n",
      "frum                       nomino                     wayland\n",
      "fst                        notcurses                  wayland-protocols\n",
      "func-e                     nox                        waypoint\n",
      "fuse-overlayfs             ns-3                       webhook\n",
      "g2o                        nsh                        west\n",
      "gallery-dl                 nuclei                     wildmidi\n",
      "gcalcli                    numactl                    wllvm\n",
      "gcc@10                     oakc                       xauth\n",
      "gdu                        obfs4proxy                 xbitmaps\n",
      "geph4                      ocaml-zarith               xcb-util\n",
      "ghc@9                      oksh                       xcb-util-cursor\n",
      "ghostunnel                 onedrive                   xcb-util-image\n",
      "git-cliff                  open-adventure             xcb-util-keysyms\n",
      "git-credential-libsecret   openalpr                   xcb-util-renderutil\n",
      "git-svn                    openexr@2                  xcb-util-wm\n",
      "git-xargs                  openfpgaloader             xcbeautify\n",
      "gitbackup                  openj9                     xcinfo\n",
      "gitlab-ci-local            openjdk@8                  xcprojectlint\n",
      "gitlint                    openliberty-jakartaee8     xfig\n",
      "gitwatch                   openliberty-microprofile4  xinput\n",
      "giza                       openliberty-webprofile8    xkeyboardconfig\n",
      "glab                       openmama                   xorgrgb\n",
      "glibc                      openmodelica               xplr\n",
      "gnupg@2.2                  opensearch                 xray\n",
      "go-boring                  opensearch-dashboards      xsel\n",
      "go-critic                  openssl@3                  xterm\n",
      "go@1.15                    or-tools                   yh\n",
      "go@1.16                    oras                       ykdl\n",
      "gofumpt                    orgalorg                   youtube-dlc\n",
      "gojq                       organize-tool              youtubedr\n",
      "gomodifytags               osc-cli                    youtubeuploader\n",
      "googletest                 osinfo-db                  yq@3\n",
      "gopass-jsonapi             osinfo-db-tools            yt-dlp\n",
      "gopls                      osmcoastline               yubikey-agent\n",
      "goproxy                    ots                        zellij\n",
      "goredo                     overdrive                  zet\n",
      "gosec                      ox                         zinit\n",
      "gost                       pandoc-plot                zlib-ng\n",
      "gotests                    pari-elldata               zsh-async\n",
      "gpg-tui                    pari-galdata               zsh-vi-mode\n",
      "gping                      pari-galpol                zsh-you-should-use\n",
      "gradle@6                   pari-seadata\n",
      "\u001b[34m==>\u001b[0m \u001b[1mUpdated Formulae\u001b[0m\n",
      "Updated 5228 formulae.\n",
      "\u001b[34m==>\u001b[0m \u001b[1mRenamed Formulae\u001b[0m\n",
      "badtouch -> authoscope\n",
      "envoy@1.17 -> envoy@1.18\n",
      "fcct -> butane\n",
      "glibmm@2.64 -> glibmm@2.66\n",
      "grakn -> typedb\n",
      "gtk+4 -> gtk4\n",
      "ht-rust -> xh\n",
      "kafkacat -> kcat\n",
      "kde-extra-cmake-modules -> extra-cmake-modules\n",
      "kde-karchive -> karchive\n",
      "kde-kdoctools -> kdoctools\n",
      "kde-ki18n -> ki18n\n",
      "kde-threadweaver -> threadweaver\n",
      "libsasl2 -> cyrus-sasl\n",
      "linux-headers -> linux-headers@4.4\n",
      "minizip2 -> minizip-ng\n",
      "now-cli -> vercel-cli\n",
      "pangomm@2.42 -> pangomm@2.46\n",
      "parallelstl -> onedpl\n",
      "prest -> prestd\n",
      "prestosql -> trino\n",
      "pyqt5 -> pyqt@5\n",
      "qt5 -> qt@5\n",
      "selenium-server-standalone -> selenium-server\n",
      "weboob -> woob\n",
      "wxmac -> wxwidgets\n",
      "wxmac@3.0 -> wxwidgets@3.0\n",
      "\u001b[34m==>\u001b[0m \u001b[1mDeleted Formulae\u001b[0m\n",
      "atlassian-cli                            mysql-connector-c++@1.1\n",
      "aurora-cli                               ocamlsdl\n",
      "avian                                    ori\n",
      "boost@1.55                               osquery\n",
      "boost@1.57                               pandoc-citeproc\n",
      "boost@1.59                               pgplot\n",
      "boost@1.60                               procyon-decompiler\n",
      "confluent-platform                       protobuf-swift\n",
      "curl-openssl                             protobuf@3.7\n",
      "dtrx                                     rmtrash\n",
      "erlang@20                                scw@1\n",
      "fmsx                                     stlviewer\n",
      "geant4                                   terraform-provisioner-ansible\n",
      "giter8                                   tj\n",
      "gobby                                    unp64\n",
      "godep                                    unrar\n",
      "libinfinity                              vavrdiasm\n",
      "llvm@6                                   woboq_codebrowser\n",
      "meson-internal                           xspin\n",
      "\n",
      "\u001b[34m==>\u001b[0m \u001b[1mTapping homebrew/cask\u001b[0m\n",
      "Cloning into '/usr/local/Homebrew/Library/Taps/homebrew/homebrew-cask'...\n",
      "remote: Enumerating objects: 603071, done.\u001b[K\n",
      "remote: Counting objects: 100% (24/24), done.\u001b[K\n",
      "remote: Compressing objects: 100% (22/22), done.\u001b[K\n",
      "remote: Total 603071 (delta 10), reused 6 (delta 2), pack-reused 603047\u001b[K\n",
      "Receiving objects: 100% (603071/603071), 269.18 MiB | 20.14 MiB/s, done.\n",
      "Resolving deltas: 100% (426358/426358), done.\n",
      "Tapped 3923 casks (4,004 files, 288.5MB).\n",
      "\u001b[34m==>\u001b[0m \u001b[1mDownloading https://chromedriver.storage.googleapis.com/95.0.4638.69/chromed\u001b[0m\n",
      "######################################################################## 100.0%\n",
      "\u001b[32m==>\u001b[0m \u001b[1mInstalling Cask \u001b[32mchromedriver\u001b[39m\u001b[0m\n",
      "\u001b[34m==>\u001b[0m \u001b[1mLinking Binary 'chromedriver' to '/usr/local/bin/chromedriver'\u001b[0m\n",
      "🍺  chromedriver was successfully installed!\n"
     ]
    }
   ],
   "source": [
    "!brew install chromedriver"
   ]
  },
  {
   "cell_type": "code",
   "execution_count": 2,
   "id": "463a9630-d77b-4d24-98fe-274149a7cf8f",
   "metadata": {},
   "outputs": [],
   "source": [
    "from selenium import webdriver"
   ]
  },
  {
   "cell_type": "code",
   "execution_count": 13,
   "id": "834af505-36e3-4455-8f45-c57b455d1ce3",
   "metadata": {},
   "outputs": [],
   "source": [
    "from time import sleep"
   ]
  },
  {
   "cell_type": "code",
   "execution_count": 19,
   "id": "738c4228-ced4-4576-b8a8-3640046c7f75",
   "metadata": {},
   "outputs": [],
   "source": [
    "browser = webdriver.Chrome()"
   ]
  },
  {
   "cell_type": "code",
   "execution_count": 18,
   "id": "42415b3c-a313-4bab-bdc7-a2240dbb7a15",
   "metadata": {},
   "outputs": [],
   "source": [
    "# browser.get('https://www.google.com/')"
   ]
  },
  {
   "cell_type": "code",
   "execution_count": 20,
   "id": "79c1b12f-f5bc-47e8-add3-752a2ba2ff56",
   "metadata": {},
   "outputs": [],
   "source": [
    "url = 'https://scraping-for-beginner.herokuapp.com/login_page'\n",
    "browser.get(url)"
   ]
  },
  {
   "cell_type": "code",
   "execution_count": 28,
   "id": "9ae1ceae-06df-41e8-ba35-c3ee75727a05",
   "metadata": {},
   "outputs": [
    {
     "name": "stderr",
     "output_type": "stream",
     "text": [
      "<ipython-input-28-925637e145db>:1: DeprecationWarning: find_element_by_* commands are deprecated. Please use find_element() instead\n",
      "  elem_username = browser.find_element_by_id('username')\n"
     ]
    }
   ],
   "source": [
    "elem_username = browser.find_element_by_id('username')"
   ]
  },
  {
   "cell_type": "code",
   "execution_count": 29,
   "id": "d81cb54d-88bb-4820-a634-0d84cda11295",
   "metadata": {},
   "outputs": [
    {
     "data": {
      "text/plain": [
       "<selenium.webdriver.remote.webelement.WebElement (session=\"3d8f9b141759156281830513bd1cdea5\", element=\"bf4ace27-501a-4e5a-8f40-63f87e58a0f2\")>"
      ]
     },
     "execution_count": 29,
     "metadata": {},
     "output_type": "execute_result"
    }
   ],
   "source": [
    "elem_username"
   ]
  },
  {
   "cell_type": "code",
   "execution_count": 30,
   "id": "3f4ce959-aaa2-477f-87b4-8d61770a00bc",
   "metadata": {},
   "outputs": [],
   "source": [
    "elem_username.send_keys('imanishi')"
   ]
  },
  {
   "cell_type": "code",
   "execution_count": 31,
   "id": "f3a20340-260b-4b32-835b-bfec8bf4709c",
   "metadata": {},
   "outputs": [
    {
     "name": "stderr",
     "output_type": "stream",
     "text": [
      "<ipython-input-31-dd5a137c954b>:1: DeprecationWarning: find_element_by_* commands are deprecated. Please use find_element() instead\n",
      "  elem_password = browser.find_element_by_id('password')\n"
     ]
    }
   ],
   "source": [
    "elem_password = browser.find_element_by_id('password')"
   ]
  },
  {
   "cell_type": "code",
   "execution_count": 32,
   "id": "b2053ad4-7468-46af-b793-73503006067f",
   "metadata": {},
   "outputs": [
    {
     "data": {
      "text/plain": [
       "<selenium.webdriver.remote.webelement.WebElement (session=\"3d8f9b141759156281830513bd1cdea5\", element=\"cb7c84be-a304-40af-b0c8-0ab4820bdf80\")>"
      ]
     },
     "execution_count": 32,
     "metadata": {},
     "output_type": "execute_result"
    }
   ],
   "source": [
    "elem_password"
   ]
  },
  {
   "cell_type": "code",
   "execution_count": 33,
   "id": "0cf5645d-4a13-4532-ae91-947ca0fb022d",
   "metadata": {},
   "outputs": [],
   "source": [
    "elem_password.send_keys('kohei')"
   ]
  },
  {
   "cell_type": "code",
   "execution_count": 34,
   "id": "63f3719a-41a4-49e8-8302-3310e1f9d601",
   "metadata": {},
   "outputs": [
    {
     "name": "stderr",
     "output_type": "stream",
     "text": [
      "<ipython-input-34-8e3e79a32d3f>:1: DeprecationWarning: find_element_by_* commands are deprecated. Please use find_element() instead\n",
      "  elem_login_btn = browser.find_element_by_id('login-btn')\n"
     ]
    }
   ],
   "source": [
    "elem_login_btn = browser.find_element_by_id('login-btn')"
   ]
  },
  {
   "cell_type": "code",
   "execution_count": 35,
   "id": "b08a3be7-1b79-44c6-b5b7-951801073190",
   "metadata": {},
   "outputs": [
    {
     "data": {
      "text/plain": [
       "<selenium.webdriver.remote.webelement.WebElement (session=\"3d8f9b141759156281830513bd1cdea5\", element=\"b7866390-b90e-45a0-ae42-da578b3c2c32\")>"
      ]
     },
     "execution_count": 35,
     "metadata": {},
     "output_type": "execute_result"
    }
   ],
   "source": [
    "elem_login_btn"
   ]
  },
  {
   "cell_type": "code",
   "execution_count": 36,
   "id": "4408c311-ed2a-4ac9-bd0c-10a179a90134",
   "metadata": {},
   "outputs": [],
   "source": [
    "elem_login_btn.click()"
   ]
  },
  {
   "cell_type": "code",
   "execution_count": 37,
   "id": "60e4a7c4-d847-4826-bbcd-dd5abfe39d38",
   "metadata": {},
   "outputs": [],
   "source": [
    "browser.quit()"
   ]
  },
  {
   "cell_type": "code",
   "execution_count": 38,
   "id": "15f43094-0486-4f4f-91bc-9c7d565b42f2",
   "metadata": {},
   "outputs": [
    {
     "name": "stderr",
     "output_type": "stream",
     "text": [
      "<ipython-input-38-4d4e1a3f83ce>:6: DeprecationWarning: find_element_by_* commands are deprecated. Please use find_element() instead\n",
      "  elem_username = browser.find_element_by_id('username')\n",
      "<ipython-input-38-4d4e1a3f83ce>:9: DeprecationWarning: find_element_by_* commands are deprecated. Please use find_element() instead\n",
      "  elem_password = browser.find_element_by_id('password')\n",
      "<ipython-input-38-4d4e1a3f83ce>:13: DeprecationWarning: find_element_by_* commands are deprecated. Please use find_element() instead\n",
      "  elem_login_btn = browser.find_element_by_id('login-btn')\n"
     ]
    }
   ],
   "source": [
    "browser = webdriver.Chrome()\n",
    "url = 'https://scraping-for-beginner.herokuapp.com/login_page'\n",
    "browser.get(url)\n",
    "sleep(4)\n",
    "\n",
    "elem_username = browser.find_element_by_id('username')\n",
    "elem_username.send_keys('imanishi')\n",
    "\n",
    "elem_password = browser.find_element_by_id('password')\n",
    "elem_password.send_keys('kohei')\n",
    "\n",
    "sleep(1)\n",
    "elem_login_btn = browser.find_element_by_id('login-btn')\n",
    "elem_login_btn.click()"
   ]
  },
  {
   "cell_type": "code",
   "execution_count": 39,
   "id": "65bcd785-2498-4475-8be2-ed2a6d36f591",
   "metadata": {},
   "outputs": [],
   "source": [
    "from selenium.webdriver.chrome.options import Options"
   ]
  },
  {
   "cell_type": "code",
   "execution_count": 40,
   "id": "170fb7c5-5d02-492b-b0c2-6ed7d19cd51c",
   "metadata": {},
   "outputs": [],
   "source": [
    "options = Options()"
   ]
  },
  {
   "cell_type": "code",
   "execution_count": 41,
   "id": "299693a2-6357-449e-bfcf-a9f221d97dc9",
   "metadata": {},
   "outputs": [],
   "source": [
    "options.add_argument('--headless')"
   ]
  },
  {
   "cell_type": "code",
   "execution_count": 42,
   "id": "9031a259-cf0e-42a9-9e98-3a21e882e8cd",
   "metadata": {},
   "outputs": [],
   "source": [
    "browser = webdriver.Chrome(options=options)\n",
    "url = 'https://scraping-for-beginner.herokuapp.com/login_page'\n",
    "browser.get(url)"
   ]
  },
  {
   "cell_type": "code",
   "execution_count": 43,
   "id": "fbbd9dc5-2b33-47cd-87e9-9a55d3e47d35",
   "metadata": {},
   "outputs": [
    {
     "name": "stderr",
     "output_type": "stream",
     "text": [
      "<ipython-input-43-c859313eca7e>:1: DeprecationWarning: find_element_by_* commands are deprecated. Please use find_element() instead\n",
      "  elem_username = browser.find_element_by_id('username')\n"
     ]
    }
   ],
   "source": [
    "elem_username = browser.find_element_by_id('username')\n",
    "elem_username.send_keys('imanishi')"
   ]
  },
  {
   "cell_type": "code",
   "execution_count": 44,
   "id": "85367d0f-46d2-4ab0-88cc-8cd5cd5fdae6",
   "metadata": {},
   "outputs": [],
   "source": [
    "browser.quit()"
   ]
  },
  {
   "cell_type": "code",
   "execution_count": null,
   "id": "97f258ce-58fb-48d1-8b4d-8c5da4136f20",
   "metadata": {},
   "outputs": [],
   "source": []
  }
 ],
 "metadata": {
  "kernelspec": {
   "display_name": "Python 3",
   "language": "python",
   "name": "python3"
  },
  "language_info": {
   "codemirror_mode": {
    "name": "ipython",
    "version": 3
   },
   "file_extension": ".py",
   "mimetype": "text/x-python",
   "name": "python",
   "nbconvert_exporter": "python",
   "pygments_lexer": "ipython3",
   "version": "3.8.8"
  }
 },
 "nbformat": 4,
 "nbformat_minor": 5
}
