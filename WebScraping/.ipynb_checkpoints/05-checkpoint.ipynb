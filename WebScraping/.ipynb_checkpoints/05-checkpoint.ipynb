{
 "cells": [
  {
   "cell_type": "code",
   "execution_count": 1,
   "id": "18a7fce1-d0f4-42d8-9ca6-74211ee192be",
   "metadata": {},
   "outputs": [],
   "source": [
    "import requests\n",
    "from bs4 import BeautifulSoup"
   ]
  },
  {
   "cell_type": "code",
   "execution_count": 3,
   "id": "6a44412d-8469-4ffc-930b-2e776db3fcbd",
   "metadata": {},
   "outputs": [],
   "source": [
    "url = 'https://scraping-for-beginner.herokuapp.com/image'\n",
    "res = requests.get(url)"
   ]
  },
  {
   "cell_type": "code",
   "execution_count": 5,
   "id": "6a3a7791-eec1-4674-b3c1-8b17bf87e214",
   "metadata": {},
   "outputs": [
    {
     "data": {
      "text/plain": [
       "<Response [200]>"
      ]
     },
     "execution_count": 5,
     "metadata": {},
     "output_type": "execute_result"
    }
   ],
   "source": [
    "res"
   ]
  },
  {
   "cell_type": "code",
   "execution_count": 6,
   "id": "66439b01-cbdf-40c2-b0a2-ac394663b14c",
   "metadata": {},
   "outputs": [
    {
     "data": {
      "text/plain": [
       "<!DOCTYPE html>\n",
       "\n",
       "<html dir=\"ltr\" lang=\"en\">\n",
       "<head>\n",
       "<meta charset=\"utf-8\"/>\n",
       "<title>Webスクレイピング入門者のためのサイト</title>\n",
       "<!-- Compiled and minified CSS -->\n",
       "<link href=\"https://cdnjs.cloudflare.com/ajax/libs/materialize/1.0.0-rc.2/css/materialize.min.css\" rel=\"stylesheet\"/>\n",
       "<link href=\"https://fonts.googleapis.com/icon?family=Material+Icons\" rel=\"stylesheet\"/> \b\n",
       "  <link href=\"static/assets/css/style.css\" rel=\"stylesheet\"/>\n",
       "<link href=\"static/assets/css/image.css\" rel=\"stylesheet\"/>\n",
       "</head>\n",
       "<body>\n",
       "<!-- Navbar -->\n",
       "<div class=\"navbar-fixed\">\n",
       "<!-- Dropdown Structure -->\n",
       "<nav class=\"\">\n",
       "<div class=\"nav-wrapper row\">\n",
       "<div class=\"col s5 l4 offset-s1 offset-l1\">\n",
       "<a class=\"brand-logo\" href=\"\b/\">Webスクレイピング入門</a>\n",
       "</div>\n",
       "<div class=\"col s5 l6\">\n",
       "<ul class=\"right hide-on-med-and-down\" id=\"nav-mobile\">\n",
       "<li><a class=\"\" href=\"\b/login_page\">ログイン</a></li>\n",
       "<li><a class=\"\" href=\"/ranking/\">ランキング</a></li>\n",
       "<li><a class=\"\" href=\"/image\">画像</a></li>\n",
       "<li><a class=\"\" href=\"/udemy\">Udemy</a></li>\n",
       "<li><a class=\"\" href=\"https://scraping-for-beginner.readthedocs.io/\" target=\"”_blank”\">サンプルコード</a></li>\n",
       "</ul>\n",
       "</div>\n",
       "</div>\n",
       "</nav>\n",
       "</div>\n",
       "<div class=\"section\"></div>\n",
       "<!-- Header -->\n",
       "<!-- <div class=\"header\">\n",
       "  <img src=\"/static/assets/img/camera_icon.png\" width=\"100px\">\n",
       "  <h4 class=\"grey-text text-darken-3\">写真一覧</h4>\n",
       "</div> -->\n",
       "<!-- Photo Grid -->\n",
       "<div class=\"container\">\n",
       "<div class=\"row card\">\n",
       "<div class=\"col s12 m6 l4\"><img class=\"materialbox responsive-img card\" src=\"/static/assets/img/img1.JPG\"/></div>\n",
       "<div class=\"col s12 m6 l4\"><img class=\"materialbox responsive-img card\" src=\"/static/assets/img/img2.JPG\"/></div>\n",
       "<div class=\"col s12 m6 l4\"><img class=\"materialbox responsive-img card\" src=\"/static/assets/img/img3.JPG\"/></div>\n",
       "<div class=\"col s12 m6 l4\"><img class=\"materialbox responsive-img card\" src=\"/static/assets/img/img4.JPG\"/></div>\n",
       "<div class=\"col s12 m6 l4\"><img class=\"materialbox responsive-img card\" src=\"/static/assets/img/img5.JPG\"/></div>\n",
       "<div class=\"col s12 m6 l4\"><img class=\"materialbox responsive-img card\" src=\"/static/assets/img/img6.JPG\"/></div>\n",
       "<div class=\"col s12 m6 l4\"><img class=\"materialbox responsive-img card\" src=\"/static/assets/img/img7.JPG\"/></div>\n",
       "<div class=\"col s12 m6 l4\"><img class=\"materialbox responsive-img card\" src=\"/static/assets/img/img8.JPG\"/></div>\n",
       "<div class=\"col s12 m6 l4\"><img class=\"materialbox responsive-img card\" src=\"/static/assets/img/img9.JPG\"/></div>\n",
       "<div class=\"col s12 m6 l4\"><img class=\"materialbox responsive-img card\" src=\"/static/assets/img/img10.JPG\"/></div>\n",
       "<div class=\"col s12 m6 l4\"><img class=\"materialbox responsive-img card\" src=\"/static/assets/img/img11.JPG\"/></div>\n",
       "<div class=\"col s12 m6 l4\"><img class=\"materialbox responsive-img card\" src=\"/static/assets/img/img12.JPG\"/></div>\n",
       "<div class=\"col s12 m6 l4\"><img class=\"materialbox responsive-img card\" src=\"/static/assets/img/img13.JPG\"/></div>\n",
       "<div class=\"col s12 m6 l4\"><img class=\"materialbox responsive-img card\" src=\"/static/assets/img/img14.JPG\"/></div>\n",
       "<div class=\"col s12 m6 l4\"><img class=\"materialbox responsive-img card\" src=\"/static/assets/img/img15.JPG\"/></div>\n",
       "<div class=\"col s12 m6 l4\"><img class=\"materialbox responsive-img card\" src=\"/static/assets/img/img16.JPG\"/></div>\n",
       "<div class=\"col s12 m6 l4\"><img class=\"materialbox responsive-img card\" src=\"/static/assets/img/img17.JPG\"/></div>\n",
       "<div class=\"col s12 m6 l4\"><img class=\"materialbox responsive-img card\" src=\"/static/assets/img/img18.JPG\"/></div>\n",
       "<div class=\"col s12 m6 l4\"><img class=\"materialbox responsive-img card\" src=\"/static/assets/img/img19.JPG\"/></div>\n",
       "<div class=\"col s12 m6 l4\"><img class=\"materialbox responsive-img card\" src=\"/static/assets/img/img20.JPG\"/></div>\n",
       "<div class=\"col s12 m6 l4\"><img class=\"materialbox responsive-img card\" src=\"/static/assets/img/img21.JPG\"/></div>\n",
       "<div class=\"col s12 m6 l4\"><img class=\"materialbox responsive-img card\" src=\"/static/assets/img/img22.JPG\"/></div>\n",
       "<div class=\"col s12 m6 l4\"><img class=\"materialbox responsive-img card\" src=\"/static/assets/img/img23.JPG\"/></div>\n",
       "<div class=\"col s12 m6 l4\"><img class=\"materialbox responsive-img card\" src=\"/static/assets/img/img24.JPG\"/></div>\n",
       "</div>\n",
       "</div>\n",
       "<div class=\"section\"></div>\n",
       "<div class=\"section\"></div>\n",
       "<!-- Compiled and minified JavaScript -->\n",
       "<script src=\"https://code.jquery.com/jquery-3.3.1.min.js\"></script>\n",
       "<script src=\"https://cdnjs.cloudflare.com/ajax/libs/materialize/1.0.0-rc.2/js/materialize.min.js\"></script>\n",
       "<script>\n",
       "  $(document).ready(function() {\n",
       "    $(\".dropdown-trigger\").dropdown();\n",
       "    $('.materialbox').materialbox();\n",
       "  });\n",
       "</script>\n",
       "</body>\n",
       "</html>"
      ]
     },
     "execution_count": 6,
     "metadata": {},
     "output_type": "execute_result"
    }
   ],
   "source": [
    "soup = BeautifulSoup(res.text, 'html.parser')\n",
    "soup"
   ]
  },
  {
   "cell_type": "code",
   "execution_count": 8,
   "id": "576395c4-7d6f-420d-b13a-0c1b6d49d6b8",
   "metadata": {},
   "outputs": [
    {
     "data": {
      "text/plain": [
       "'/static/assets/img/img1.JPG'"
      ]
     },
     "execution_count": 8,
     "metadata": {},
     "output_type": "execute_result"
    }
   ],
   "source": [
    "img_tag = soup.find('img')\n",
    "img_tag['src']"
   ]
  },
  {
   "cell_type": "code",
   "execution_count": 9,
   "id": "4536d60b-eb38-4670-8ea0-8d8d19a1eecd",
   "metadata": {},
   "outputs": [
    {
     "data": {
      "text/plain": [
       "'https://scraping-for-beginner.herokuapp.com/static/assets/img/img1.JPG'"
      ]
     },
     "execution_count": 9,
     "metadata": {},
     "output_type": "execute_result"
    }
   ],
   "source": [
    "root_url = 'https://scraping-for-beginner.herokuapp.com'\n",
    "img_url = root_url + img_tag['src']\n",
    "img_url"
   ]
  },
  {
   "cell_type": "code",
   "execution_count": 11,
   "id": "1590d264-d726-4934-aaea-b64d3321329a",
   "metadata": {},
   "outputs": [],
   "source": [
    "from PIL import Image\n",
    "import io"
   ]
  },
  {
   "cell_type": "code",
   "execution_count": 18,
   "id": "43e6729d-2d57-430b-841a-2970bcd05c6d",
   "metadata": {},
   "outputs": [
    {
     "data": {
      "text/plain": [
       "<_io.BytesIO at 0x7ff52c6e9a40>"
      ]
     },
     "execution_count": 18,
     "metadata": {},
     "output_type": "execute_result"
    }
   ],
   "source": [
    "io.BytesIO(requests.get(img_url).content)"
   ]
  },
  {
   "cell_type": "code",
   "execution_count": 16,
   "id": "04865cf4-3bb9-4642-96c5-ff2103e159ca",
   "metadata": {},
   "outputs": [
    {
     "data": {
      "text/plain": [
       "<Response [200]>"
      ]
     },
     "execution_count": 16,
     "metadata": {},
     "output_type": "execute_result"
    }
   ],
   "source": [
    "requests.get(img_url)"
   ]
  },
  {
   "cell_type": "code",
   "execution_count": 23,
   "id": "3c31b462-581b-4f7a-bbb6-3f143e79d21d",
   "metadata": {},
   "outputs": [],
   "source": [
    "img = Image.open(io.BytesIO(requests.get(img_url).content))\n",
    "img.save('img/sample.jpg')"
   ]
  },
  {
   "cell_type": "code",
   "execution_count": 24,
   "id": "89e4a9b8-dfc7-4aab-a5fc-e47c7ddf9680",
   "metadata": {},
   "outputs": [],
   "source": [
    "soup = BeautifulSoup(res.text, 'html.parser')\n",
    "img_tags = soup.find_all('img')\n",
    "\n",
    "for i, img_tag in enumerate(img_tags):\n",
    "    root_url = 'https://scraping-for-beginner.herokuapp.com'\n",
    "    img_url = root_url + img_tag['src']\n",
    "\n",
    "    img = Image.open(io.BytesIO(requests.get(img_url).content))\n",
    "    img.save(f'img/{i}.jpg')"
   ]
  }
 ],
 "metadata": {
  "kernelspec": {
   "display_name": "Python 3",
   "language": "python",
   "name": "python3"
  },
  "language_info": {
   "codemirror_mode": {
    "name": "ipython",
    "version": 3
   },
   "file_extension": ".py",
   "mimetype": "text/x-python",
   "name": "python",
   "nbconvert_exporter": "python",
   "pygments_lexer": "ipython3",
   "version": "3.8.8"
  }
 },
 "nbformat": 4,
 "nbformat_minor": 5
}
