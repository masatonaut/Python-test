{
 "cells": [
  {
   "cell_type": "code",
   "execution_count": 122,
   "id": "20fb786e-70b4-4036-bb44-b87caa465cf2",
   "metadata": {},
   "outputs": [],
   "source": [
    "import pandas as pd\n",
    "from glob import glob"
   ]
  },
  {
   "cell_type": "code",
   "execution_count": 123,
   "id": "a649f4b5-1a2c-4ec3-bafb-47e243d09d7f",
   "metadata": {},
   "outputs": [
    {
     "data": {
      "text/plain": [
       "['sources/order_new/order_C_20210203.xlsx',\n",
       " 'sources/order_new/order_D_20210203.xlsx',\n",
       " 'sources/order_new/order_A_20210203.xlsx',\n",
       " 'sources/order_new/order_B_20210203.xlsx']"
      ]
     },
     "execution_count": 123,
     "metadata": {},
     "output_type": "execute_result"
    }
   ],
   "source": [
    "filepaths_order = glob('sources/order_new/order*.xlsx')\n",
    "filepaths_order"
   ]
  },
  {
   "cell_type": "code",
   "execution_count": 124,
   "id": "759ab3de-92a2-4013-b6d3-d2d05efe83b6",
   "metadata": {},
   "outputs": [
    {
     "data": {
      "text/plain": [
       "'sources/order_new/order_C_20210203.xlsx'"
      ]
     },
     "execution_count": 124,
     "metadata": {},
     "output_type": "execute_result"
    }
   ],
   "source": [
    "filepath = filepaths_order[0]\n",
    "filepath"
   ]
  },
  {
   "cell_type": "code",
   "execution_count": 125,
   "id": "a511003d-64e8-4e12-a9b2-5f5ee8f8bba0",
   "metadata": {},
   "outputs": [
    {
     "data": {
      "text/html": [
       "<div>\n",
       "<style scoped>\n",
       "    .dataframe tbody tr th:only-of-type {\n",
       "        vertical-align: middle;\n",
       "    }\n",
       "\n",
       "    .dataframe tbody tr th {\n",
       "        vertical-align: top;\n",
       "    }\n",
       "\n",
       "    .dataframe thead th {\n",
       "        text-align: right;\n",
       "    }\n",
       "</style>\n",
       "<table border=\"1\" class=\"dataframe\">\n",
       "  <thead>\n",
       "    <tr style=\"text-align: right;\">\n",
       "      <th></th>\n",
       "      <th>焼酎</th>\n",
       "      <th>白ワイン</th>\n",
       "      <th>ブランデー</th>\n",
       "    </tr>\n",
       "  </thead>\n",
       "  <tbody>\n",
       "    <tr>\n",
       "      <th>0</th>\n",
       "      <td>8</td>\n",
       "      <td>18</td>\n",
       "      <td>2</td>\n",
       "    </tr>\n",
       "  </tbody>\n",
       "</table>\n",
       "</div>"
      ],
      "text/plain": [
       "   焼酎  白ワイン  ブランデー\n",
       "0   8    18      2"
      ]
     },
     "execution_count": 125,
     "metadata": {},
     "output_type": "execute_result"
    }
   ],
   "source": [
    "df_order =  pd.read_excel(filepath)\n",
    "df_order"
   ]
  },
  {
   "cell_type": "code",
   "execution_count": 126,
   "id": "b2990be1-157c-47b0-bc80-47a1cb2f8d41",
   "metadata": {},
   "outputs": [
    {
     "data": {
      "text/plain": [
       "{'焼酎': {0: 8}, '白ワイン': {0: 18}, 'ブランデー': {0: 2}}"
      ]
     },
     "execution_count": 126,
     "metadata": {},
     "output_type": "execute_result"
    }
   ],
   "source": [
    "df_order.to_dict()"
   ]
  },
  {
   "cell_type": "code",
   "execution_count": 127,
   "id": "105c8e0b-67ca-4915-a0cb-438afcf2d071",
   "metadata": {},
   "outputs": [
    {
     "data": {
      "text/plain": [
       "dict_items([('焼酎', {0: 8}), ('白ワイン', {0: 18}), ('ブランデー', {0: 2})])"
      ]
     },
     "execution_count": 127,
     "metadata": {},
     "output_type": "execute_result"
    }
   ],
   "source": [
    "df_order.to_dict().items()"
   ]
  },
  {
   "cell_type": "code",
   "execution_count": 128,
   "id": "514b5e47-ba72-4631-af25-3a7d8f934cb9",
   "metadata": {},
   "outputs": [],
   "source": [
    "from collections import defaultdict"
   ]
  },
  {
   "cell_type": "code",
   "execution_count": 129,
   "id": "ca73ad43-685d-4963-be98-498ea9571d2f",
   "metadata": {},
   "outputs": [],
   "source": [
    "order = defaultdict(int)"
   ]
  },
  {
   "cell_type": "code",
   "execution_count": 130,
   "id": "d9aac161-6bce-4760-a77a-9a78f8df6df1",
   "metadata": {},
   "outputs": [
    {
     "name": "stdout",
     "output_type": "stream",
     "text": [
      "焼酎 {0: 8}\n",
      "白ワイン {0: 18}\n",
      "ブランデー {0: 2}\n"
     ]
    }
   ],
   "source": [
    "for key, value in df_order.to_dict().items():\n",
    "    print(key, value)"
   ]
  },
  {
   "cell_type": "code",
   "execution_count": 131,
   "id": "79a1b4a1-643e-467e-9711-e662a415825c",
   "metadata": {},
   "outputs": [
    {
     "name": "stdout",
     "output_type": "stream",
     "text": [
      "焼酎 8\n",
      "白ワイン 18\n",
      "ブランデー 2\n"
     ]
    }
   ],
   "source": [
    "for key, value in df_order.to_dict().items():\n",
    "    order[key] += value[0]\n",
    "    print(key, value[0])"
   ]
  },
  {
   "cell_type": "code",
   "execution_count": 132,
   "id": "5cfcab90-6335-4345-a613-e9db0623cae9",
   "metadata": {},
   "outputs": [
    {
     "data": {
      "text/plain": [
       "defaultdict(int, {'焼酎': 8, '白ワイン': 18, 'ブランデー': 2})"
      ]
     },
     "execution_count": 132,
     "metadata": {},
     "output_type": "execute_result"
    }
   ],
   "source": [
    "order"
   ]
  },
  {
   "cell_type": "code",
   "execution_count": 133,
   "id": "9030c0ee-440f-4d0e-a8df-f6c366ad1539",
   "metadata": {},
   "outputs": [
    {
     "data": {
      "text/html": [
       "<div>\n",
       "<style scoped>\n",
       "    .dataframe tbody tr th:only-of-type {\n",
       "        vertical-align: middle;\n",
       "    }\n",
       "\n",
       "    .dataframe tbody tr th {\n",
       "        vertical-align: top;\n",
       "    }\n",
       "\n",
       "    .dataframe thead th {\n",
       "        text-align: right;\n",
       "    }\n",
       "</style>\n",
       "<table border=\"1\" class=\"dataframe\">\n",
       "  <thead>\n",
       "    <tr style=\"text-align: right;\">\n",
       "      <th></th>\n",
       "      <th>焼酎</th>\n",
       "      <th>赤ワイン</th>\n",
       "      <th>白ワイン</th>\n",
       "    </tr>\n",
       "  </thead>\n",
       "  <tbody>\n",
       "    <tr>\n",
       "      <th>0</th>\n",
       "      <td>3</td>\n",
       "      <td>4</td>\n",
       "      <td>6</td>\n",
       "    </tr>\n",
       "  </tbody>\n",
       "</table>\n",
       "</div>"
      ],
      "text/plain": [
       "   焼酎  赤ワイン  白ワイン\n",
       "0   3     4     6"
      ]
     },
     "execution_count": 133,
     "metadata": {},
     "output_type": "execute_result"
    }
   ],
   "source": [
    "filepath = filepaths_order[1]\n",
    "df_order =  pd.read_excel(filepath)\n",
    "df_order"
   ]
  },
  {
   "cell_type": "code",
   "execution_count": 134,
   "id": "530a2e3e-5cb0-49cc-b3aa-87f6fd815d69",
   "metadata": {},
   "outputs": [],
   "source": [
    "for key, value in df_order.to_dict().items():\n",
    "    order[key] += value[0]"
   ]
  },
  {
   "cell_type": "code",
   "execution_count": 135,
   "id": "d02375ee-8185-4bc9-bffa-c71a59e096d8",
   "metadata": {},
   "outputs": [
    {
     "data": {
      "text/plain": [
       "defaultdict(int, {'焼酎': 11, '白ワイン': 24, 'ブランデー': 2, '赤ワイン': 4})"
      ]
     },
     "execution_count": 135,
     "metadata": {},
     "output_type": "execute_result"
    }
   ],
   "source": [
    "order"
   ]
  },
  {
   "cell_type": "code",
   "execution_count": 136,
   "id": "591a736c-3255-4a4b-9bd5-005845b141f7",
   "metadata": {},
   "outputs": [],
   "source": [
    "import os\n",
    "import shutil"
   ]
  },
  {
   "cell_type": "code",
   "execution_count": 138,
   "id": "17b308a3-b613-4c46-a440-3459abac47f9",
   "metadata": {},
   "outputs": [
    {
     "data": {
      "text/plain": [
       "['order_C_20210203.xlsx',\n",
       " 'order_D_20210203.xlsx',\n",
       " 'order_A_20210203.xlsx',\n",
       " 'order_B_20210203.xlsx']"
      ]
     },
     "execution_count": 138,
     "metadata": {},
     "output_type": "execute_result"
    }
   ],
   "source": [
    "os.listdir('sources/order_new/')"
   ]
  },
  {
   "cell_type": "code",
   "execution_count": 139,
   "id": "9c1fbf67-cffc-49cd-b457-c9c908427634",
   "metadata": {},
   "outputs": [
    {
     "data": {
      "text/plain": [
       "[]"
      ]
     },
     "execution_count": 139,
     "metadata": {},
     "output_type": "execute_result"
    }
   ],
   "source": [
    "os.listdir('sources/order_old/')"
   ]
  },
  {
   "cell_type": "code",
   "execution_count": 141,
   "id": "68651adb-655d-4dd4-96a5-427006ad6697",
   "metadata": {},
   "outputs": [
    {
     "data": {
      "text/plain": [
       "'sources/order_old/order_C_20210203.xlsx'"
      ]
     },
     "execution_count": 141,
     "metadata": {},
     "output_type": "execute_result"
    }
   ],
   "source": [
    "filepath = filepaths_order[0]\n",
    "shutil.move(filepath, 'sources/order_old/')"
   ]
  },
  {
   "cell_type": "code",
   "execution_count": 160,
   "id": "08d5daf9-a867-4912-88a1-cd1926b708af",
   "metadata": {},
   "outputs": [],
   "source": [
    "def update_order(order, filepath):\n",
    "    # 注文表読み込み\n",
    "    df_order =  pd.read_excel(filepath)\n",
    "    for key, value in df_order.to_dict().items():\n",
    "        order[key] += value[0]\n",
    "\n",
    "    # ファイルの移動\n",
    "    shutil.move(filepath, 'sources/order_old/')\n",
    "    return order"
   ]
  },
  {
   "cell_type": "code",
   "execution_count": 161,
   "id": "528f489b-29ed-497d-b3d7-23e4891d88fd",
   "metadata": {},
   "outputs": [],
   "source": [
    "order = defaultdict(int)"
   ]
  },
  {
   "cell_type": "code",
   "execution_count": 170,
   "id": "f8a51d97-53e9-4b23-8c3e-5f9bab056b7a",
   "metadata": {},
   "outputs": [],
   "source": [
    "order = defaultdict(int)\n",
    "\n",
    "for filepath in filepaths_order:\n",
    "    order = update_order(order, filepath)"
   ]
  },
  {
   "cell_type": "code",
   "execution_count": 171,
   "id": "de4183b2-c8d2-4f6c-9320-4626c76870fc",
   "metadata": {},
   "outputs": [
    {
     "data": {
      "text/plain": [
       "defaultdict(int,\n",
       "            {'焼酎': 16,\n",
       "             '白ワイン': 54,\n",
       "             'ブランデー': 2,\n",
       "             '赤ワイン': 4,\n",
       "             'ウィスキー': 7,\n",
       "             '缶チューハイ': 23})"
      ]
     },
     "execution_count": 171,
     "metadata": {},
     "output_type": "execute_result"
    }
   ],
   "source": [
    "order"
   ]
  },
  {
   "cell_type": "code",
   "execution_count": 172,
   "id": "218f413f-b372-4be9-a85b-41f8d479f467",
   "metadata": {},
   "outputs": [
    {
     "data": {
      "text/html": [
       "<div>\n",
       "<style scoped>\n",
       "    .dataframe tbody tr th:only-of-type {\n",
       "        vertical-align: middle;\n",
       "    }\n",
       "\n",
       "    .dataframe tbody tr th {\n",
       "        vertical-align: top;\n",
       "    }\n",
       "\n",
       "    .dataframe thead th {\n",
       "        text-align: right;\n",
       "    }\n",
       "</style>\n",
       "<table border=\"1\" class=\"dataframe\">\n",
       "  <thead>\n",
       "    <tr style=\"text-align: right;\">\n",
       "      <th></th>\n",
       "      <th>日付</th>\n",
       "      <th>曜日</th>\n",
       "      <th>日本酒</th>\n",
       "      <th>焼酎</th>\n",
       "      <th>赤ワイン</th>\n",
       "      <th>白ワイン</th>\n",
       "      <th>ウィスキー</th>\n",
       "      <th>ブランデー</th>\n",
       "      <th>缶チューハイ</th>\n",
       "    </tr>\n",
       "  </thead>\n",
       "  <tbody>\n",
       "    <tr>\n",
       "      <th>12</th>\n",
       "      <td>2021-02-02</td>\n",
       "      <td>Tue</td>\n",
       "      <td>66</td>\n",
       "      <td>48</td>\n",
       "      <td>38</td>\n",
       "      <td>70</td>\n",
       "      <td>31</td>\n",
       "      <td>18</td>\n",
       "      <td>98</td>\n",
       "    </tr>\n",
       "    <tr>\n",
       "      <th>13</th>\n",
       "      <td>2021-02-03</td>\n",
       "      <td>Wed</td>\n",
       "      <td>66</td>\n",
       "      <td>32</td>\n",
       "      <td>34</td>\n",
       "      <td>16</td>\n",
       "      <td>24</td>\n",
       "      <td>16</td>\n",
       "      <td>75</td>\n",
       "    </tr>\n",
       "    <tr>\n",
       "      <th>14</th>\n",
       "      <td>2021-02-03</td>\n",
       "      <td>Wed</td>\n",
       "      <td>66</td>\n",
       "      <td>16</td>\n",
       "      <td>30</td>\n",
       "      <td>-38</td>\n",
       "      <td>17</td>\n",
       "      <td>14</td>\n",
       "      <td>52</td>\n",
       "    </tr>\n",
       "  </tbody>\n",
       "</table>\n",
       "</div>"
      ],
      "text/plain": [
       "           日付   曜日  日本酒  焼酎  赤ワイン  白ワイン  ウィスキー  ブランデー  缶チューハイ\n",
       "12 2021-02-02  Tue   66  48    38    70     31     18      98\n",
       "13 2021-02-03  Wed   66  32    34    16     24     16      75\n",
       "14 2021-02-03  Wed   66  16    30   -38     17     14      52"
      ]
     },
     "execution_count": 172,
     "metadata": {},
     "output_type": "execute_result"
    }
   ],
   "source": [
    "filepath_stock = 'sources/stock.xlsx'\n",
    "df_stock = pd.read_excel(filepath_stock)\n",
    "\n",
    "df_stock.tail(3)"
   ]
  },
  {
   "cell_type": "code",
   "execution_count": 173,
   "id": "1a971620-ebe1-4140-a667-1b3fa4895955",
   "metadata": {},
   "outputs": [
    {
     "data": {
      "text/html": [
       "<div>\n",
       "<style scoped>\n",
       "    .dataframe tbody tr th:only-of-type {\n",
       "        vertical-align: middle;\n",
       "    }\n",
       "\n",
       "    .dataframe tbody tr th {\n",
       "        vertical-align: top;\n",
       "    }\n",
       "\n",
       "    .dataframe thead th {\n",
       "        text-align: right;\n",
       "    }\n",
       "</style>\n",
       "<table border=\"1\" class=\"dataframe\">\n",
       "  <thead>\n",
       "    <tr style=\"text-align: right;\">\n",
       "      <th></th>\n",
       "      <th>0</th>\n",
       "    </tr>\n",
       "  </thead>\n",
       "  <tbody>\n",
       "    <tr>\n",
       "      <th>0</th>\n",
       "      <td>10</td>\n",
       "    </tr>\n",
       "    <tr>\n",
       "      <th>1</th>\n",
       "      <td>4</td>\n",
       "    </tr>\n",
       "    <tr>\n",
       "      <th>2</th>\n",
       "      <td>6</td>\n",
       "    </tr>\n",
       "  </tbody>\n",
       "</table>\n",
       "</div>"
      ],
      "text/plain": [
       "    0\n",
       "0  10\n",
       "1   4\n",
       "2   6"
      ]
     },
     "execution_count": 173,
     "metadata": {},
     "output_type": "execute_result"
    }
   ],
   "source": [
    "pd.DataFrame([10, 4, 6])"
   ]
  },
  {
   "cell_type": "code",
   "execution_count": 174,
   "id": "4ef649e5-486d-4a4f-98d1-df377024ab43",
   "metadata": {},
   "outputs": [
    {
     "data": {
      "text/html": [
       "<div>\n",
       "<style scoped>\n",
       "    .dataframe tbody tr th:only-of-type {\n",
       "        vertical-align: middle;\n",
       "    }\n",
       "\n",
       "    .dataframe tbody tr th {\n",
       "        vertical-align: top;\n",
       "    }\n",
       "\n",
       "    .dataframe thead th {\n",
       "        text-align: right;\n",
       "    }\n",
       "</style>\n",
       "<table border=\"1\" class=\"dataframe\">\n",
       "  <thead>\n",
       "    <tr style=\"text-align: right;\">\n",
       "      <th></th>\n",
       "      <th>0</th>\n",
       "    </tr>\n",
       "  </thead>\n",
       "  <tbody>\n",
       "    <tr>\n",
       "      <th>0</th>\n",
       "      <td>5</td>\n",
       "    </tr>\n",
       "    <tr>\n",
       "      <th>1</th>\n",
       "      <td>1</td>\n",
       "    </tr>\n",
       "    <tr>\n",
       "      <th>2</th>\n",
       "      <td>10</td>\n",
       "    </tr>\n",
       "  </tbody>\n",
       "</table>\n",
       "</div>"
      ],
      "text/plain": [
       "    0\n",
       "0   5\n",
       "1   1\n",
       "2  10"
      ]
     },
     "execution_count": 174,
     "metadata": {},
     "output_type": "execute_result"
    }
   ],
   "source": [
    "pd.DataFrame([5, 1, 10])"
   ]
  },
  {
   "cell_type": "code",
   "execution_count": 175,
   "id": "fd24663c-12f2-4271-9b3f-0045deded201",
   "metadata": {},
   "outputs": [
    {
     "data": {
      "text/html": [
       "<div>\n",
       "<style scoped>\n",
       "    .dataframe tbody tr th:only-of-type {\n",
       "        vertical-align: middle;\n",
       "    }\n",
       "\n",
       "    .dataframe tbody tr th {\n",
       "        vertical-align: top;\n",
       "    }\n",
       "\n",
       "    .dataframe thead th {\n",
       "        text-align: right;\n",
       "    }\n",
       "</style>\n",
       "<table border=\"1\" class=\"dataframe\">\n",
       "  <thead>\n",
       "    <tr style=\"text-align: right;\">\n",
       "      <th></th>\n",
       "      <th>0</th>\n",
       "    </tr>\n",
       "  </thead>\n",
       "  <tbody>\n",
       "    <tr>\n",
       "      <th>0</th>\n",
       "      <td>5</td>\n",
       "    </tr>\n",
       "    <tr>\n",
       "      <th>1</th>\n",
       "      <td>3</td>\n",
       "    </tr>\n",
       "    <tr>\n",
       "      <th>2</th>\n",
       "      <td>-4</td>\n",
       "    </tr>\n",
       "  </tbody>\n",
       "</table>\n",
       "</div>"
      ],
      "text/plain": [
       "   0\n",
       "0  5\n",
       "1  3\n",
       "2 -4"
      ]
     },
     "execution_count": 175,
     "metadata": {},
     "output_type": "execute_result"
    }
   ],
   "source": [
    "pd.DataFrame([10, 4, 6]) - pd.DataFrame([5, 1, 10])"
   ]
  },
  {
   "cell_type": "code",
   "execution_count": 176,
   "id": "1b36a4b3-e4c9-4b03-b25a-755ef7fc945d",
   "metadata": {},
   "outputs": [
    {
     "data": {
      "text/html": [
       "<div>\n",
       "<style scoped>\n",
       "    .dataframe tbody tr th:only-of-type {\n",
       "        vertical-align: middle;\n",
       "    }\n",
       "\n",
       "    .dataframe tbody tr th {\n",
       "        vertical-align: top;\n",
       "    }\n",
       "\n",
       "    .dataframe thead th {\n",
       "        text-align: right;\n",
       "    }\n",
       "</style>\n",
       "<table border=\"1\" class=\"dataframe\">\n",
       "  <thead>\n",
       "    <tr style=\"text-align: right;\">\n",
       "      <th></th>\n",
       "      <th>日本酒</th>\n",
       "      <th>焼酎</th>\n",
       "      <th>赤ワイン</th>\n",
       "      <th>白ワイン</th>\n",
       "      <th>ウィスキー</th>\n",
       "      <th>ブランデー</th>\n",
       "      <th>缶チューハイ</th>\n",
       "    </tr>\n",
       "  </thead>\n",
       "  <tbody>\n",
       "    <tr>\n",
       "      <th>14</th>\n",
       "      <td>66</td>\n",
       "      <td>16</td>\n",
       "      <td>30</td>\n",
       "      <td>-38</td>\n",
       "      <td>17</td>\n",
       "      <td>14</td>\n",
       "      <td>52</td>\n",
       "    </tr>\n",
       "  </tbody>\n",
       "</table>\n",
       "</div>"
      ],
      "text/plain": [
       "    日本酒  焼酎  赤ワイン  白ワイン  ウィスキー  ブランデー  缶チューハイ\n",
       "14   66  16    30   -38     17     14      52"
      ]
     },
     "execution_count": 176,
     "metadata": {},
     "output_type": "execute_result"
    }
   ],
   "source": [
    "stock = df_stock.iloc[-1:, 2:]\n",
    "stock"
   ]
  },
  {
   "cell_type": "code",
   "execution_count": 177,
   "id": "7928be29-5582-458f-9d67-7279f8fe049d",
   "metadata": {},
   "outputs": [
    {
     "data": {
      "text/plain": [
       "defaultdict(int,\n",
       "            {'焼酎': 16,\n",
       "             '白ワイン': 54,\n",
       "             'ブランデー': 2,\n",
       "             '赤ワイン': 4,\n",
       "             'ウィスキー': 7,\n",
       "             '缶チューハイ': 23})"
      ]
     },
     "execution_count": 177,
     "metadata": {},
     "output_type": "execute_result"
    }
   ],
   "source": [
    "order"
   ]
  },
  {
   "cell_type": "code",
   "execution_count": 178,
   "id": "ecf419d1-8a46-48fc-b54f-3640e05b8c6b",
   "metadata": {},
   "outputs": [
    {
     "data": {
      "text/html": [
       "<div>\n",
       "<style scoped>\n",
       "    .dataframe tbody tr th:only-of-type {\n",
       "        vertical-align: middle;\n",
       "    }\n",
       "\n",
       "    .dataframe tbody tr th {\n",
       "        vertical-align: top;\n",
       "    }\n",
       "\n",
       "    .dataframe thead th {\n",
       "        text-align: right;\n",
       "    }\n",
       "</style>\n",
       "<table border=\"1\" class=\"dataframe\">\n",
       "  <thead>\n",
       "    <tr style=\"text-align: right;\">\n",
       "      <th></th>\n",
       "      <th>焼酎</th>\n",
       "      <th>白ワイン</th>\n",
       "      <th>ブランデー</th>\n",
       "      <th>赤ワイン</th>\n",
       "      <th>ウィスキー</th>\n",
       "      <th>缶チューハイ</th>\n",
       "    </tr>\n",
       "  </thead>\n",
       "  <tbody>\n",
       "    <tr>\n",
       "      <th>0</th>\n",
       "      <td>16</td>\n",
       "      <td>54</td>\n",
       "      <td>2</td>\n",
       "      <td>4</td>\n",
       "      <td>7</td>\n",
       "      <td>23</td>\n",
       "    </tr>\n",
       "  </tbody>\n",
       "</table>\n",
       "</div>"
      ],
      "text/plain": [
       "   焼酎  白ワイン  ブランデー  赤ワイン  ウィスキー  缶チューハイ\n",
       "0  16    54      2     4      7      23"
      ]
     },
     "execution_count": 178,
     "metadata": {},
     "output_type": "execute_result"
    }
   ],
   "source": [
    "order = pd.DataFrame(order, index=[0])\n",
    "order"
   ]
  },
  {
   "cell_type": "code",
   "execution_count": 179,
   "id": "60f3377b-2f72-4de7-b4fb-3601bd222378",
   "metadata": {},
   "outputs": [
    {
     "data": {
      "text/plain": [
       "Index(['日本酒', '焼酎', '赤ワイン', '白ワイン', 'ウィスキー', 'ブランデー', '缶チューハイ'], dtype='object')"
      ]
     },
     "execution_count": 179,
     "metadata": {},
     "output_type": "execute_result"
    }
   ],
   "source": [
    "stock.columns"
   ]
  },
  {
   "cell_type": "code",
   "execution_count": 180,
   "id": "97215af7-94f4-4e10-a655-8ad62d8b4656",
   "metadata": {},
   "outputs": [],
   "source": [
    "order = pd.DataFrame(order, index=[0], columns=stock.columns)"
   ]
  },
  {
   "cell_type": "code",
   "execution_count": 181,
   "id": "4f13d961-6d18-4714-b84c-b6717a2ba426",
   "metadata": {},
   "outputs": [
    {
     "data": {
      "text/html": [
       "<div>\n",
       "<style scoped>\n",
       "    .dataframe tbody tr th:only-of-type {\n",
       "        vertical-align: middle;\n",
       "    }\n",
       "\n",
       "    .dataframe tbody tr th {\n",
       "        vertical-align: top;\n",
       "    }\n",
       "\n",
       "    .dataframe thead th {\n",
       "        text-align: right;\n",
       "    }\n",
       "</style>\n",
       "<table border=\"1\" class=\"dataframe\">\n",
       "  <thead>\n",
       "    <tr style=\"text-align: right;\">\n",
       "      <th></th>\n",
       "      <th>日本酒</th>\n",
       "      <th>焼酎</th>\n",
       "      <th>赤ワイン</th>\n",
       "      <th>白ワイン</th>\n",
       "      <th>ウィスキー</th>\n",
       "      <th>ブランデー</th>\n",
       "      <th>缶チューハイ</th>\n",
       "    </tr>\n",
       "  </thead>\n",
       "  <tbody>\n",
       "    <tr>\n",
       "      <th>0</th>\n",
       "      <td>NaN</td>\n",
       "      <td>16</td>\n",
       "      <td>4</td>\n",
       "      <td>54</td>\n",
       "      <td>7</td>\n",
       "      <td>2</td>\n",
       "      <td>23</td>\n",
       "    </tr>\n",
       "  </tbody>\n",
       "</table>\n",
       "</div>"
      ],
      "text/plain": [
       "   日本酒  焼酎  赤ワイン  白ワイン  ウィスキー  ブランデー  缶チューハイ\n",
       "0  NaN  16     4    54      7      2      23"
      ]
     },
     "execution_count": 181,
     "metadata": {},
     "output_type": "execute_result"
    }
   ],
   "source": [
    "order"
   ]
  },
  {
   "cell_type": "code",
   "execution_count": 182,
   "id": "9748b063-9071-43bb-80f0-2538eff4824d",
   "metadata": {},
   "outputs": [
    {
     "data": {
      "text/html": [
       "<div>\n",
       "<style scoped>\n",
       "    .dataframe tbody tr th:only-of-type {\n",
       "        vertical-align: middle;\n",
       "    }\n",
       "\n",
       "    .dataframe tbody tr th {\n",
       "        vertical-align: top;\n",
       "    }\n",
       "\n",
       "    .dataframe thead th {\n",
       "        text-align: right;\n",
       "    }\n",
       "</style>\n",
       "<table border=\"1\" class=\"dataframe\">\n",
       "  <thead>\n",
       "    <tr style=\"text-align: right;\">\n",
       "      <th></th>\n",
       "      <th>日本酒</th>\n",
       "      <th>焼酎</th>\n",
       "      <th>赤ワイン</th>\n",
       "      <th>白ワイン</th>\n",
       "      <th>ウィスキー</th>\n",
       "      <th>ブランデー</th>\n",
       "      <th>缶チューハイ</th>\n",
       "    </tr>\n",
       "  </thead>\n",
       "  <tbody>\n",
       "    <tr>\n",
       "      <th>0</th>\n",
       "      <td>0.0</td>\n",
       "      <td>16</td>\n",
       "      <td>4</td>\n",
       "      <td>54</td>\n",
       "      <td>7</td>\n",
       "      <td>2</td>\n",
       "      <td>23</td>\n",
       "    </tr>\n",
       "  </tbody>\n",
       "</table>\n",
       "</div>"
      ],
      "text/plain": [
       "   日本酒  焼酎  赤ワイン  白ワイン  ウィスキー  ブランデー  缶チューハイ\n",
       "0  0.0  16     4    54      7      2      23"
      ]
     },
     "execution_count": 182,
     "metadata": {},
     "output_type": "execute_result"
    }
   ],
   "source": [
    "order = order.fillna(0)\n",
    "order"
   ]
  },
  {
   "cell_type": "code",
   "execution_count": 183,
   "id": "0d36327a-428e-4cc1-8231-ff20a89cdf74",
   "metadata": {},
   "outputs": [
    {
     "data": {
      "text/html": [
       "<div>\n",
       "<style scoped>\n",
       "    .dataframe tbody tr th:only-of-type {\n",
       "        vertical-align: middle;\n",
       "    }\n",
       "\n",
       "    .dataframe tbody tr th {\n",
       "        vertical-align: top;\n",
       "    }\n",
       "\n",
       "    .dataframe thead th {\n",
       "        text-align: right;\n",
       "    }\n",
       "</style>\n",
       "<table border=\"1\" class=\"dataframe\">\n",
       "  <thead>\n",
       "    <tr style=\"text-align: right;\">\n",
       "      <th></th>\n",
       "      <th>日本酒</th>\n",
       "      <th>焼酎</th>\n",
       "      <th>赤ワイン</th>\n",
       "      <th>白ワイン</th>\n",
       "      <th>ウィスキー</th>\n",
       "      <th>ブランデー</th>\n",
       "      <th>缶チューハイ</th>\n",
       "    </tr>\n",
       "  </thead>\n",
       "  <tbody>\n",
       "    <tr>\n",
       "      <th>0</th>\n",
       "      <td>NaN</td>\n",
       "      <td>NaN</td>\n",
       "      <td>NaN</td>\n",
       "      <td>NaN</td>\n",
       "      <td>NaN</td>\n",
       "      <td>NaN</td>\n",
       "      <td>NaN</td>\n",
       "    </tr>\n",
       "    <tr>\n",
       "      <th>14</th>\n",
       "      <td>NaN</td>\n",
       "      <td>NaN</td>\n",
       "      <td>NaN</td>\n",
       "      <td>NaN</td>\n",
       "      <td>NaN</td>\n",
       "      <td>NaN</td>\n",
       "      <td>NaN</td>\n",
       "    </tr>\n",
       "  </tbody>\n",
       "</table>\n",
       "</div>"
      ],
      "text/plain": [
       "    日本酒  焼酎  赤ワイン  白ワイン  ウィスキー  ブランデー  缶チューハイ\n",
       "0   NaN NaN   NaN   NaN    NaN    NaN     NaN\n",
       "14  NaN NaN   NaN   NaN    NaN    NaN     NaN"
      ]
     },
     "execution_count": 183,
     "metadata": {},
     "output_type": "execute_result"
    }
   ],
   "source": [
    "stock - order"
   ]
  },
  {
   "cell_type": "code",
   "execution_count": 187,
   "id": "6f6db0fc-955d-4ae9-a249-6767f4e610a2",
   "metadata": {},
   "outputs": [],
   "source": [
    "stock = stock.reset_index(drop=True)"
   ]
  },
  {
   "cell_type": "code",
   "execution_count": 190,
   "id": "ba06975a-2b41-4792-b949-f5538bb88200",
   "metadata": {},
   "outputs": [
    {
     "data": {
      "text/html": [
       "<div>\n",
       "<style scoped>\n",
       "    .dataframe tbody tr th:only-of-type {\n",
       "        vertical-align: middle;\n",
       "    }\n",
       "\n",
       "    .dataframe tbody tr th {\n",
       "        vertical-align: top;\n",
       "    }\n",
       "\n",
       "    .dataframe thead th {\n",
       "        text-align: right;\n",
       "    }\n",
       "</style>\n",
       "<table border=\"1\" class=\"dataframe\">\n",
       "  <thead>\n",
       "    <tr style=\"text-align: right;\">\n",
       "      <th></th>\n",
       "      <th>日本酒</th>\n",
       "      <th>焼酎</th>\n",
       "      <th>赤ワイン</th>\n",
       "      <th>白ワイン</th>\n",
       "      <th>ウィスキー</th>\n",
       "      <th>ブランデー</th>\n",
       "      <th>缶チューハイ</th>\n",
       "    </tr>\n",
       "  </thead>\n",
       "  <tbody>\n",
       "    <tr>\n",
       "      <th>0</th>\n",
       "      <td>66.0</td>\n",
       "      <td>0</td>\n",
       "      <td>26</td>\n",
       "      <td>-92</td>\n",
       "      <td>10</td>\n",
       "      <td>12</td>\n",
       "      <td>29</td>\n",
       "    </tr>\n",
       "  </tbody>\n",
       "</table>\n",
       "</div>"
      ],
      "text/plain": [
       "    日本酒  焼酎  赤ワイン  白ワイン  ウィスキー  ブランデー  缶チューハイ\n",
       "0  66.0   0    26   -92     10     12      29"
      ]
     },
     "execution_count": 190,
     "metadata": {},
     "output_type": "execute_result"
    }
   ],
   "source": [
    "updated = stock - order\n",
    "updated"
   ]
  },
  {
   "cell_type": "code",
   "execution_count": 191,
   "id": "94b56556-97b9-4eb6-921f-88892f9c08a2",
   "metadata": {},
   "outputs": [
    {
     "data": {
      "text/html": [
       "<div>\n",
       "<style scoped>\n",
       "    .dataframe tbody tr th:only-of-type {\n",
       "        vertical-align: middle;\n",
       "    }\n",
       "\n",
       "    .dataframe tbody tr th {\n",
       "        vertical-align: top;\n",
       "    }\n",
       "\n",
       "    .dataframe thead th {\n",
       "        text-align: right;\n",
       "    }\n",
       "</style>\n",
       "<table border=\"1\" class=\"dataframe\">\n",
       "  <thead>\n",
       "    <tr style=\"text-align: right;\">\n",
       "      <th></th>\n",
       "      <th>Unnamed: 0</th>\n",
       "      <th>日本酒</th>\n",
       "      <th>焼酎</th>\n",
       "      <th>赤ワイン</th>\n",
       "      <th>白ワイン</th>\n",
       "      <th>ウィスキー</th>\n",
       "      <th>ブランデー</th>\n",
       "      <th>缶チューハイ</th>\n",
       "    </tr>\n",
       "  </thead>\n",
       "  <tbody>\n",
       "    <tr>\n",
       "      <th>0</th>\n",
       "      <td>閾値</td>\n",
       "      <td>30</td>\n",
       "      <td>20</td>\n",
       "      <td>20</td>\n",
       "      <td>20</td>\n",
       "      <td>30</td>\n",
       "      <td>10</td>\n",
       "      <td>40</td>\n",
       "    </tr>\n",
       "    <tr>\n",
       "      <th>1</th>\n",
       "      <td>追加量</td>\n",
       "      <td>100</td>\n",
       "      <td>80</td>\n",
       "      <td>100</td>\n",
       "      <td>100</td>\n",
       "      <td>80</td>\n",
       "      <td>80</td>\n",
       "      <td>120</td>\n",
       "    </tr>\n",
       "  </tbody>\n",
       "</table>\n",
       "</div>"
      ],
      "text/plain": [
       "  Unnamed: 0  日本酒  焼酎  赤ワイン  白ワイン  ウィスキー  ブランデー  缶チューハイ\n",
       "0         閾値   30  20    20    20     30     10      40\n",
       "1        追加量  100  80   100   100     80     80     120"
      ]
     },
     "execution_count": 191,
     "metadata": {},
     "output_type": "execute_result"
    }
   ],
   "source": [
    "filepath_master = 'sources/master.xlsx'\n",
    "df_master = pd.read_excel(filepath_master)\n",
    "df_master"
   ]
  },
  {
   "cell_type": "code",
   "execution_count": 194,
   "id": "53164ccc-44de-4a0c-926c-9c891e7506b6",
   "metadata": {},
   "outputs": [
    {
     "data": {
      "text/plain": [
       "日本酒       30\n",
       "焼酎        20\n",
       "赤ワイン      20\n",
       "白ワイン      20\n",
       "ウィスキー     30\n",
       "ブランデー     10\n",
       "缶チューハイ    40\n",
       "Name: 0, dtype: object"
      ]
     },
     "execution_count": 194,
     "metadata": {},
     "output_type": "execute_result"
    }
   ],
   "source": [
    "df_master.iloc[0 , 1:]"
   ]
  },
  {
   "cell_type": "code",
   "execution_count": 196,
   "id": "e3628356-8bba-4b2d-9c6a-7081a0a3b11e",
   "metadata": {},
   "outputs": [
    {
     "data": {
      "text/html": [
       "<div>\n",
       "<style scoped>\n",
       "    .dataframe tbody tr th:only-of-type {\n",
       "        vertical-align: middle;\n",
       "    }\n",
       "\n",
       "    .dataframe tbody tr th {\n",
       "        vertical-align: top;\n",
       "    }\n",
       "\n",
       "    .dataframe thead th {\n",
       "        text-align: right;\n",
       "    }\n",
       "</style>\n",
       "<table border=\"1\" class=\"dataframe\">\n",
       "  <thead>\n",
       "    <tr style=\"text-align: right;\">\n",
       "      <th></th>\n",
       "      <th>日本酒</th>\n",
       "      <th>焼酎</th>\n",
       "      <th>赤ワイン</th>\n",
       "      <th>白ワイン</th>\n",
       "      <th>ウィスキー</th>\n",
       "      <th>ブランデー</th>\n",
       "      <th>缶チューハイ</th>\n",
       "    </tr>\n",
       "  </thead>\n",
       "  <tbody>\n",
       "    <tr>\n",
       "      <th>0</th>\n",
       "      <td>30</td>\n",
       "      <td>20</td>\n",
       "      <td>20</td>\n",
       "      <td>20</td>\n",
       "      <td>30</td>\n",
       "      <td>10</td>\n",
       "      <td>40</td>\n",
       "    </tr>\n",
       "  </tbody>\n",
       "</table>\n",
       "</div>"
      ],
      "text/plain": [
       "   日本酒  焼酎  赤ワイン  白ワイン  ウィスキー  ブランデー  缶チューハイ\n",
       "0   30  20    20    20     30     10      40"
      ]
     },
     "execution_count": 196,
     "metadata": {},
     "output_type": "execute_result"
    }
   ],
   "source": [
    "threshold = df_master.iloc[:1 , 1:]\n",
    "threshold"
   ]
  },
  {
   "cell_type": "code",
   "execution_count": 199,
   "id": "08cdece2-bcf8-4bfd-9771-e8e8617ad5a1",
   "metadata": {},
   "outputs": [
    {
     "data": {
      "text/html": [
       "<div>\n",
       "<style scoped>\n",
       "    .dataframe tbody tr th:only-of-type {\n",
       "        vertical-align: middle;\n",
       "    }\n",
       "\n",
       "    .dataframe tbody tr th {\n",
       "        vertical-align: top;\n",
       "    }\n",
       "\n",
       "    .dataframe thead th {\n",
       "        text-align: right;\n",
       "    }\n",
       "</style>\n",
       "<table border=\"1\" class=\"dataframe\">\n",
       "  <thead>\n",
       "    <tr style=\"text-align: right;\">\n",
       "      <th></th>\n",
       "      <th>日本酒</th>\n",
       "      <th>焼酎</th>\n",
       "      <th>赤ワイン</th>\n",
       "      <th>白ワイン</th>\n",
       "      <th>ウィスキー</th>\n",
       "      <th>ブランデー</th>\n",
       "      <th>缶チューハイ</th>\n",
       "    </tr>\n",
       "  </thead>\n",
       "  <tbody>\n",
       "    <tr>\n",
       "      <th>0</th>\n",
       "      <td>66.0</td>\n",
       "      <td>0</td>\n",
       "      <td>26</td>\n",
       "      <td>-92</td>\n",
       "      <td>10</td>\n",
       "      <td>12</td>\n",
       "      <td>29</td>\n",
       "    </tr>\n",
       "  </tbody>\n",
       "</table>\n",
       "</div>"
      ],
      "text/plain": [
       "    日本酒  焼酎  赤ワイン  白ワイン  ウィスキー  ブランデー  缶チューハイ\n",
       "0  66.0   0    26   -92     10     12      29"
      ]
     },
     "execution_count": 199,
     "metadata": {},
     "output_type": "execute_result"
    }
   ],
   "source": [
    "updated"
   ]
  },
  {
   "cell_type": "code",
   "execution_count": 201,
   "id": "0b4cc1c4-703f-437a-bede-19aa9b145d97",
   "metadata": {},
   "outputs": [
    {
     "data": {
      "text/html": [
       "<div>\n",
       "<style scoped>\n",
       "    .dataframe tbody tr th:only-of-type {\n",
       "        vertical-align: middle;\n",
       "    }\n",
       "\n",
       "    .dataframe tbody tr th {\n",
       "        vertical-align: top;\n",
       "    }\n",
       "\n",
       "    .dataframe thead th {\n",
       "        text-align: right;\n",
       "    }\n",
       "</style>\n",
       "<table border=\"1\" class=\"dataframe\">\n",
       "  <thead>\n",
       "    <tr style=\"text-align: right;\">\n",
       "      <th></th>\n",
       "      <th>日本酒</th>\n",
       "      <th>焼酎</th>\n",
       "      <th>赤ワイン</th>\n",
       "      <th>白ワイン</th>\n",
       "      <th>ウィスキー</th>\n",
       "      <th>ブランデー</th>\n",
       "      <th>缶チューハイ</th>\n",
       "    </tr>\n",
       "  </thead>\n",
       "  <tbody>\n",
       "    <tr>\n",
       "      <th>0</th>\n",
       "      <td>False</td>\n",
       "      <td>True</td>\n",
       "      <td>False</td>\n",
       "      <td>True</td>\n",
       "      <td>True</td>\n",
       "      <td>False</td>\n",
       "      <td>True</td>\n",
       "    </tr>\n",
       "  </tbody>\n",
       "</table>\n",
       "</div>"
      ],
      "text/plain": [
       "     日本酒    焼酎   赤ワイン  白ワイン  ウィスキー  ブランデー  缶チューハイ\n",
       "0  False  True  False  True   True  False    True"
      ]
     },
     "execution_count": 201,
     "metadata": {},
     "output_type": "execute_result"
    }
   ],
   "source": [
    "updated < threshold"
   ]
  },
  {
   "cell_type": "code",
   "execution_count": 205,
   "id": "7fc46f3f-d531-456a-922b-c0c89c6d6f84",
   "metadata": {},
   "outputs": [
    {
     "data": {
      "text/plain": [
       "Index(['焼酎', '白ワイン', 'ウィスキー', '缶チューハイ'], dtype='object')"
      ]
     },
     "execution_count": 205,
     "metadata": {},
     "output_type": "execute_result"
    }
   ],
   "source": [
    "shortage_columns = updated[updated < threshold].dropna(axis=1).columns\n",
    "shortage_columns"
   ]
  },
  {
   "cell_type": "code",
   "execution_count": 209,
   "id": "f1ffe960-f592-4068-b3c6-78a21f9a809e",
   "metadata": {},
   "outputs": [
    {
     "data": {
      "text/html": [
       "<div>\n",
       "<style scoped>\n",
       "    .dataframe tbody tr th:only-of-type {\n",
       "        vertical-align: middle;\n",
       "    }\n",
       "\n",
       "    .dataframe tbody tr th {\n",
       "        vertical-align: top;\n",
       "    }\n",
       "\n",
       "    .dataframe thead th {\n",
       "        text-align: right;\n",
       "    }\n",
       "</style>\n",
       "<table border=\"1\" class=\"dataframe\">\n",
       "  <thead>\n",
       "    <tr style=\"text-align: right;\">\n",
       "      <th></th>\n",
       "      <th>焼酎</th>\n",
       "      <th>白ワイン</th>\n",
       "      <th>ウィスキー</th>\n",
       "      <th>缶チューハイ</th>\n",
       "    </tr>\n",
       "  </thead>\n",
       "  <tbody>\n",
       "    <tr>\n",
       "      <th>1</th>\n",
       "      <td>80</td>\n",
       "      <td>100</td>\n",
       "      <td>80</td>\n",
       "      <td>120</td>\n",
       "    </tr>\n",
       "  </tbody>\n",
       "</table>\n",
       "</div>"
      ],
      "text/plain": [
       "   焼酎  白ワイン  ウィスキー  缶チューハイ\n",
       "1  80   100     80     120"
      ]
     },
     "execution_count": 209,
     "metadata": {},
     "output_type": "execute_result"
    }
   ],
   "source": [
    "df_shortage = df_master.iloc[1:, 1:][shortage_columns]\n",
    "df_shortage"
   ]
  },
  {
   "cell_type": "code",
   "execution_count": 220,
   "id": "91eedd8f-f2ed-4dab-84d7-8c4e1e9c22c4",
   "metadata": {},
   "outputs": [],
   "source": [
    "order_text = ''\n",
    "\n",
    "for key, value in df_shortage.to_dict().items():\n",
    "    order_text += f'{key}を{value[1]}本、'\n",
    "# order_text += '発注お願いします。'"
   ]
  },
  {
   "cell_type": "code",
   "execution_count": 221,
   "id": "430cb731-9168-4c63-ae70-0a9f78a6e914",
   "metadata": {},
   "outputs": [
    {
     "data": {
      "text/plain": [
       "'焼酎を80本、白ワインを100本、ウィスキーを80本、缶チューハイを120本、'"
      ]
     },
     "execution_count": 221,
     "metadata": {},
     "output_type": "execute_result"
    }
   ],
   "source": [
    "order_text"
   ]
  },
  {
   "cell_type": "code",
   "execution_count": 238,
   "id": "528d73c8-c00b-4c4c-b2bb-5ce35ab3d7b2",
   "metadata": {},
   "outputs": [],
   "source": [
    "import json\n",
    "with open('sources/secret.json') as f:\n",
    "    address_password = json.load(f)"
   ]
  },
  {
   "cell_type": "code",
   "execution_count": 239,
   "id": "fb4041f0-b901-4697-a40e-18434afceb21",
   "metadata": {},
   "outputs": [],
   "source": [
    "import smtplib\n",
    "from email.mime.text import MIMEText\n",
    "from email.utils import formatdate\n",
    "\n",
    "from_addr = address_password['ADDRESS']\n",
    "password = address_password['PASSWORD']\n",
    "\n",
    "subject = '発注依頼'\n",
    "body = f'佐藤さん、在庫数が足りなくなってしまったため、{order_text}発注してください。'\n",
    "to_addr = 'gigpayown@macr2.com'\n",
    "\n",
    "# SMTPサーバに接続\n",
    "smtpobj = smtplib.SMTP('smtp.gmail.com', 587)\n",
    "smtpobj.starttls()\n",
    "smtpobj.login(from_addr, password)\n",
    "\n",
    "# メッセージ（メール）の作成\n",
    "msg = MIMEText(body)\n",
    "msg['Subject'] = subject\n",
    "msg['From'] = from_addr\n",
    "msg['To'] = to_addr\n",
    "msg['Date'] = formatdate()\n",
    "\n",
    "# 作成したメールを送信\n",
    "smtpobj.send_message(msg)\n",
    "smtpobj.close()"
   ]
  },
  {
   "cell_type": "code",
   "execution_count": 258,
   "id": "cda9ab1b-3a44-4184-8a1f-263bcd7446b2",
   "metadata": {},
   "outputs": [],
   "source": [
    "from datetime import datetime"
   ]
  },
  {
   "cell_type": "code",
   "execution_count": 259,
   "id": "76c4b4b6-c1e4-4545-9d82-a119c3b6f4de",
   "metadata": {},
   "outputs": [],
   "source": [
    "today = datetime.today()"
   ]
  },
  {
   "cell_type": "code",
   "execution_count": 260,
   "id": "a09c9807-ff65-4377-ac0f-f1893d09fb95",
   "metadata": {},
   "outputs": [
    {
     "name": "stdout",
     "output_type": "stream",
     "text": [
      "Sat\n"
     ]
    }
   ],
   "source": [
    "print(today.strftime('%a'))"
   ]
  },
  {
   "cell_type": "code",
   "execution_count": 261,
   "id": "b6b963ae-c618-423e-a62f-a345a54147a0",
   "metadata": {},
   "outputs": [],
   "source": [
    "updated['日付'] = today\n",
    "updated['曜日'] = today.strftime('%a')"
   ]
  },
  {
   "cell_type": "code",
   "execution_count": 262,
   "id": "9bf41e14-0903-4ecf-950c-4d80591e32b2",
   "metadata": {},
   "outputs": [
    {
     "data": {
      "text/html": [
       "<div>\n",
       "<style scoped>\n",
       "    .dataframe tbody tr th:only-of-type {\n",
       "        vertical-align: middle;\n",
       "    }\n",
       "\n",
       "    .dataframe tbody tr th {\n",
       "        vertical-align: top;\n",
       "    }\n",
       "\n",
       "    .dataframe thead th {\n",
       "        text-align: right;\n",
       "    }\n",
       "</style>\n",
       "<table border=\"1\" class=\"dataframe\">\n",
       "  <thead>\n",
       "    <tr style=\"text-align: right;\">\n",
       "      <th></th>\n",
       "      <th>日付</th>\n",
       "      <th>曜日</th>\n",
       "      <th>日本酒</th>\n",
       "      <th>焼酎</th>\n",
       "      <th>赤ワイン</th>\n",
       "      <th>白ワイン</th>\n",
       "      <th>ウィスキー</th>\n",
       "      <th>ブランデー</th>\n",
       "      <th>缶チューハイ</th>\n",
       "    </tr>\n",
       "  </thead>\n",
       "  <tbody>\n",
       "    <tr>\n",
       "      <th>12</th>\n",
       "      <td>2021-02-02</td>\n",
       "      <td>Tue</td>\n",
       "      <td>66</td>\n",
       "      <td>48</td>\n",
       "      <td>38</td>\n",
       "      <td>70</td>\n",
       "      <td>31</td>\n",
       "      <td>18</td>\n",
       "      <td>98</td>\n",
       "    </tr>\n",
       "    <tr>\n",
       "      <th>13</th>\n",
       "      <td>2021-02-03</td>\n",
       "      <td>Wed</td>\n",
       "      <td>66</td>\n",
       "      <td>32</td>\n",
       "      <td>34</td>\n",
       "      <td>16</td>\n",
       "      <td>24</td>\n",
       "      <td>16</td>\n",
       "      <td>75</td>\n",
       "    </tr>\n",
       "    <tr>\n",
       "      <th>14</th>\n",
       "      <td>2021-02-03</td>\n",
       "      <td>Wed</td>\n",
       "      <td>66</td>\n",
       "      <td>16</td>\n",
       "      <td>30</td>\n",
       "      <td>-38</td>\n",
       "      <td>17</td>\n",
       "      <td>14</td>\n",
       "      <td>52</td>\n",
       "    </tr>\n",
       "  </tbody>\n",
       "</table>\n",
       "</div>"
      ],
      "text/plain": [
       "           日付   曜日  日本酒  焼酎  赤ワイン  白ワイン  ウィスキー  ブランデー  缶チューハイ\n",
       "12 2021-02-02  Tue   66  48    38    70     31     18      98\n",
       "13 2021-02-03  Wed   66  32    34    16     24     16      75\n",
       "14 2021-02-03  Wed   66  16    30   -38     17     14      52"
      ]
     },
     "execution_count": 262,
     "metadata": {},
     "output_type": "execute_result"
    }
   ],
   "source": [
    "df_stock.tail(3)"
   ]
  },
  {
   "cell_type": "code",
   "execution_count": 263,
   "id": "206de2d5-b4cd-4c5a-bcbc-28fcc5b5668f",
   "metadata": {},
   "outputs": [
    {
     "data": {
      "text/html": [
       "<div>\n",
       "<style scoped>\n",
       "    .dataframe tbody tr th:only-of-type {\n",
       "        vertical-align: middle;\n",
       "    }\n",
       "\n",
       "    .dataframe tbody tr th {\n",
       "        vertical-align: top;\n",
       "    }\n",
       "\n",
       "    .dataframe thead th {\n",
       "        text-align: right;\n",
       "    }\n",
       "</style>\n",
       "<table border=\"1\" class=\"dataframe\">\n",
       "  <thead>\n",
       "    <tr style=\"text-align: right;\">\n",
       "      <th></th>\n",
       "      <th>日本酒</th>\n",
       "      <th>焼酎</th>\n",
       "      <th>赤ワイン</th>\n",
       "      <th>白ワイン</th>\n",
       "      <th>ウィスキー</th>\n",
       "      <th>ブランデー</th>\n",
       "      <th>缶チューハイ</th>\n",
       "      <th>日付</th>\n",
       "      <th>曜日</th>\n",
       "    </tr>\n",
       "  </thead>\n",
       "  <tbody>\n",
       "    <tr>\n",
       "      <th>0</th>\n",
       "      <td>66.0</td>\n",
       "      <td>0</td>\n",
       "      <td>26</td>\n",
       "      <td>-92</td>\n",
       "      <td>10</td>\n",
       "      <td>12</td>\n",
       "      <td>29</td>\n",
       "      <td>2021-11-13 19:10:25.534871</td>\n",
       "      <td>Sat</td>\n",
       "    </tr>\n",
       "  </tbody>\n",
       "</table>\n",
       "</div>"
      ],
      "text/plain": [
       "    日本酒  焼酎  赤ワイン  白ワイン  ウィスキー  ブランデー  缶チューハイ                         日付   曜日\n",
       "0  66.0   0    26   -92     10     12      29 2021-11-13 19:10:25.534871  Sat"
      ]
     },
     "execution_count": 263,
     "metadata": {},
     "output_type": "execute_result"
    }
   ],
   "source": [
    "updated"
   ]
  },
  {
   "cell_type": "code",
   "execution_count": 264,
   "id": "b143e0c0-4b8e-46be-bbc1-60bfba01dd51",
   "metadata": {},
   "outputs": [
    {
     "data": {
      "text/html": [
       "<div>\n",
       "<style scoped>\n",
       "    .dataframe tbody tr th:only-of-type {\n",
       "        vertical-align: middle;\n",
       "    }\n",
       "\n",
       "    .dataframe tbody tr th {\n",
       "        vertical-align: top;\n",
       "    }\n",
       "\n",
       "    .dataframe thead th {\n",
       "        text-align: right;\n",
       "    }\n",
       "</style>\n",
       "<table border=\"1\" class=\"dataframe\">\n",
       "  <thead>\n",
       "    <tr style=\"text-align: right;\">\n",
       "      <th></th>\n",
       "      <th>日付</th>\n",
       "      <th>曜日</th>\n",
       "      <th>日本酒</th>\n",
       "      <th>焼酎</th>\n",
       "      <th>赤ワイン</th>\n",
       "      <th>白ワイン</th>\n",
       "      <th>ウィスキー</th>\n",
       "      <th>ブランデー</th>\n",
       "      <th>缶チューハイ</th>\n",
       "    </tr>\n",
       "  </thead>\n",
       "  <tbody>\n",
       "    <tr>\n",
       "      <th>10</th>\n",
       "      <td>2021-01-29</td>\n",
       "      <td>Fri</td>\n",
       "      <td>99</td>\n",
       "      <td>66</td>\n",
       "      <td>77</td>\n",
       "      <td>107</td>\n",
       "      <td>31</td>\n",
       "      <td>37</td>\n",
       "      <td>149</td>\n",
       "    </tr>\n",
       "    <tr>\n",
       "      <th>11</th>\n",
       "      <td>2021-02-01</td>\n",
       "      <td>Mon</td>\n",
       "      <td>78</td>\n",
       "      <td>62</td>\n",
       "      <td>55</td>\n",
       "      <td>92</td>\n",
       "      <td>41</td>\n",
       "      <td>30</td>\n",
       "      <td>121</td>\n",
       "    </tr>\n",
       "    <tr>\n",
       "      <th>12</th>\n",
       "      <td>2021-02-02</td>\n",
       "      <td>Tue</td>\n",
       "      <td>66</td>\n",
       "      <td>48</td>\n",
       "      <td>38</td>\n",
       "      <td>70</td>\n",
       "      <td>31</td>\n",
       "      <td>18</td>\n",
       "      <td>98</td>\n",
       "    </tr>\n",
       "    <tr>\n",
       "      <th>13</th>\n",
       "      <td>2021-02-03</td>\n",
       "      <td>Wed</td>\n",
       "      <td>66</td>\n",
       "      <td>32</td>\n",
       "      <td>34</td>\n",
       "      <td>16</td>\n",
       "      <td>24</td>\n",
       "      <td>16</td>\n",
       "      <td>75</td>\n",
       "    </tr>\n",
       "    <tr>\n",
       "      <th>14</th>\n",
       "      <td>2021-02-03</td>\n",
       "      <td>Wed</td>\n",
       "      <td>66</td>\n",
       "      <td>16</td>\n",
       "      <td>30</td>\n",
       "      <td>-38</td>\n",
       "      <td>17</td>\n",
       "      <td>14</td>\n",
       "      <td>52</td>\n",
       "    </tr>\n",
       "  </tbody>\n",
       "</table>\n",
       "</div>"
      ],
      "text/plain": [
       "           日付   曜日  日本酒  焼酎  赤ワイン  白ワイン  ウィスキー  ブランデー  缶チューハイ\n",
       "10 2021-01-29  Fri   99  66    77   107     31     37     149\n",
       "11 2021-02-01  Mon   78  62    55    92     41     30     121\n",
       "12 2021-02-02  Tue   66  48    38    70     31     18      98\n",
       "13 2021-02-03  Wed   66  32    34    16     24     16      75\n",
       "14 2021-02-03  Wed   66  16    30   -38     17     14      52"
      ]
     },
     "execution_count": 264,
     "metadata": {},
     "output_type": "execute_result"
    }
   ],
   "source": [
    "df_stock.tail()"
   ]
  },
  {
   "cell_type": "code",
   "execution_count": 266,
   "id": "3c9c76cd-2348-4e4c-8eca-9622e102500d",
   "metadata": {},
   "outputs": [],
   "source": [
    "pd.concat([df_stock, updated], sort=False).reset_index(drop=True).to_excel(filepath_stock, index=False)"
   ]
  },
  {
   "cell_type": "code",
   "execution_count": 267,
   "id": "2d8c20b7-7463-4b7e-9946-b21c9597173e",
   "metadata": {},
   "outputs": [
    {
     "data": {
      "text/plain": [
       "'sources/stock.xlsx'"
      ]
     },
     "execution_count": 267,
     "metadata": {},
     "output_type": "execute_result"
    }
   ],
   "source": [
    "filepath_stock"
   ]
  },
  {
   "cell_type": "code",
   "execution_count": 268,
   "id": "4695ad32-4dd4-44ad-bb62-ad9c8f100141",
   "metadata": {},
   "outputs": [
    {
     "data": {
      "text/html": [
       "<div>\n",
       "<style scoped>\n",
       "    .dataframe tbody tr th:only-of-type {\n",
       "        vertical-align: middle;\n",
       "    }\n",
       "\n",
       "    .dataframe tbody tr th {\n",
       "        vertical-align: top;\n",
       "    }\n",
       "\n",
       "    .dataframe thead th {\n",
       "        text-align: right;\n",
       "    }\n",
       "</style>\n",
       "<table border=\"1\" class=\"dataframe\">\n",
       "  <thead>\n",
       "    <tr style=\"text-align: right;\">\n",
       "      <th></th>\n",
       "      <th>日付</th>\n",
       "      <th>曜日</th>\n",
       "      <th>日本酒</th>\n",
       "      <th>焼酎</th>\n",
       "      <th>赤ワイン</th>\n",
       "      <th>白ワイン</th>\n",
       "      <th>ウィスキー</th>\n",
       "      <th>ブランデー</th>\n",
       "      <th>缶チューハイ</th>\n",
       "    </tr>\n",
       "  </thead>\n",
       "  <tbody>\n",
       "    <tr>\n",
       "      <th>0</th>\n",
       "      <td>2021-01-15 00:00:00.000</td>\n",
       "      <td>Fri</td>\n",
       "      <td>100</td>\n",
       "      <td>80</td>\n",
       "      <td>51</td>\n",
       "      <td>63</td>\n",
       "      <td>150</td>\n",
       "      <td>60</td>\n",
       "      <td>95</td>\n",
       "    </tr>\n",
       "    <tr>\n",
       "      <th>1</th>\n",
       "      <td>2021-01-18 00:00:00.000</td>\n",
       "      <td>Mon</td>\n",
       "      <td>88</td>\n",
       "      <td>73</td>\n",
       "      <td>35</td>\n",
       "      <td>38</td>\n",
       "      <td>130</td>\n",
       "      <td>50</td>\n",
       "      <td>82</td>\n",
       "    </tr>\n",
       "    <tr>\n",
       "      <th>2</th>\n",
       "      <td>2021-01-19 00:00:00.000</td>\n",
       "      <td>Tue</td>\n",
       "      <td>73</td>\n",
       "      <td>66</td>\n",
       "      <td>105</td>\n",
       "      <td>15</td>\n",
       "      <td>126</td>\n",
       "      <td>37</td>\n",
       "      <td>75</td>\n",
       "    </tr>\n",
       "    <tr>\n",
       "      <th>3</th>\n",
       "      <td>2021-01-20 00:00:00.000</td>\n",
       "      <td>Wed</td>\n",
       "      <td>50</td>\n",
       "      <td>55</td>\n",
       "      <td>96</td>\n",
       "      <td>123</td>\n",
       "      <td>114</td>\n",
       "      <td>27</td>\n",
       "      <td>43</td>\n",
       "    </tr>\n",
       "    <tr>\n",
       "      <th>4</th>\n",
       "      <td>2021-01-21 00:00:00.000</td>\n",
       "      <td>Thu</td>\n",
       "      <td>39</td>\n",
       "      <td>44</td>\n",
       "      <td>75</td>\n",
       "      <td>96</td>\n",
       "      <td>106</td>\n",
       "      <td>13</td>\n",
       "      <td>19</td>\n",
       "    </tr>\n",
       "    <tr>\n",
       "      <th>5</th>\n",
       "      <td>2021-01-22 00:00:00.000</td>\n",
       "      <td>Fri</td>\n",
       "      <td>25</td>\n",
       "      <td>31</td>\n",
       "      <td>64</td>\n",
       "      <td>88</td>\n",
       "      <td>98</td>\n",
       "      <td>10</td>\n",
       "      <td>117</td>\n",
       "    </tr>\n",
       "    <tr>\n",
       "      <th>6</th>\n",
       "      <td>2021-01-25 00:00:00.000</td>\n",
       "      <td>Mon</td>\n",
       "      <td>125</td>\n",
       "      <td>106</td>\n",
       "      <td>37</td>\n",
       "      <td>77</td>\n",
       "      <td>83</td>\n",
       "      <td>84</td>\n",
       "      <td>97</td>\n",
       "    </tr>\n",
       "    <tr>\n",
       "      <th>7</th>\n",
       "      <td>2021-01-26 00:00:00.000</td>\n",
       "      <td>Tue</td>\n",
       "      <td>120</td>\n",
       "      <td>96</td>\n",
       "      <td>34</td>\n",
       "      <td>50</td>\n",
       "      <td>69</td>\n",
       "      <td>75</td>\n",
       "      <td>67</td>\n",
       "    </tr>\n",
       "    <tr>\n",
       "      <th>8</th>\n",
       "      <td>2021-01-27 00:00:00.000</td>\n",
       "      <td>Wed</td>\n",
       "      <td>112</td>\n",
       "      <td>85</td>\n",
       "      <td>10</td>\n",
       "      <td>35</td>\n",
       "      <td>54</td>\n",
       "      <td>53</td>\n",
       "      <td>49</td>\n",
       "    </tr>\n",
       "    <tr>\n",
       "      <th>9</th>\n",
       "      <td>2021-01-28 00:00:00.000</td>\n",
       "      <td>Thu</td>\n",
       "      <td>103</td>\n",
       "      <td>74</td>\n",
       "      <td>90</td>\n",
       "      <td>19</td>\n",
       "      <td>41</td>\n",
       "      <td>44</td>\n",
       "      <td>12</td>\n",
       "    </tr>\n",
       "    <tr>\n",
       "      <th>10</th>\n",
       "      <td>2021-01-29 00:00:00.000</td>\n",
       "      <td>Fri</td>\n",
       "      <td>99</td>\n",
       "      <td>66</td>\n",
       "      <td>77</td>\n",
       "      <td>107</td>\n",
       "      <td>31</td>\n",
       "      <td>37</td>\n",
       "      <td>149</td>\n",
       "    </tr>\n",
       "    <tr>\n",
       "      <th>11</th>\n",
       "      <td>2021-02-01 00:00:00.000</td>\n",
       "      <td>Mon</td>\n",
       "      <td>78</td>\n",
       "      <td>62</td>\n",
       "      <td>55</td>\n",
       "      <td>92</td>\n",
       "      <td>41</td>\n",
       "      <td>30</td>\n",
       "      <td>121</td>\n",
       "    </tr>\n",
       "    <tr>\n",
       "      <th>12</th>\n",
       "      <td>2021-02-02 00:00:00.000</td>\n",
       "      <td>Tue</td>\n",
       "      <td>66</td>\n",
       "      <td>48</td>\n",
       "      <td>38</td>\n",
       "      <td>70</td>\n",
       "      <td>31</td>\n",
       "      <td>18</td>\n",
       "      <td>98</td>\n",
       "    </tr>\n",
       "    <tr>\n",
       "      <th>13</th>\n",
       "      <td>2021-02-03 00:00:00.000</td>\n",
       "      <td>Wed</td>\n",
       "      <td>66</td>\n",
       "      <td>32</td>\n",
       "      <td>34</td>\n",
       "      <td>16</td>\n",
       "      <td>24</td>\n",
       "      <td>16</td>\n",
       "      <td>75</td>\n",
       "    </tr>\n",
       "    <tr>\n",
       "      <th>14</th>\n",
       "      <td>2021-02-03 00:00:00.000</td>\n",
       "      <td>Wed</td>\n",
       "      <td>66</td>\n",
       "      <td>16</td>\n",
       "      <td>30</td>\n",
       "      <td>-38</td>\n",
       "      <td>17</td>\n",
       "      <td>14</td>\n",
       "      <td>52</td>\n",
       "    </tr>\n",
       "    <tr>\n",
       "      <th>15</th>\n",
       "      <td>2021-11-13 19:10:25.535</td>\n",
       "      <td>Sat</td>\n",
       "      <td>66</td>\n",
       "      <td>0</td>\n",
       "      <td>26</td>\n",
       "      <td>-92</td>\n",
       "      <td>10</td>\n",
       "      <td>12</td>\n",
       "      <td>29</td>\n",
       "    </tr>\n",
       "  </tbody>\n",
       "</table>\n",
       "</div>"
      ],
      "text/plain": [
       "                        日付   曜日  日本酒   焼酎  赤ワイン  白ワイン  ウィスキー  ブランデー  缶チューハイ\n",
       "0  2021-01-15 00:00:00.000  Fri  100   80    51    63    150     60      95\n",
       "1  2021-01-18 00:00:00.000  Mon   88   73    35    38    130     50      82\n",
       "2  2021-01-19 00:00:00.000  Tue   73   66   105    15    126     37      75\n",
       "3  2021-01-20 00:00:00.000  Wed   50   55    96   123    114     27      43\n",
       "4  2021-01-21 00:00:00.000  Thu   39   44    75    96    106     13      19\n",
       "5  2021-01-22 00:00:00.000  Fri   25   31    64    88     98     10     117\n",
       "6  2021-01-25 00:00:00.000  Mon  125  106    37    77     83     84      97\n",
       "7  2021-01-26 00:00:00.000  Tue  120   96    34    50     69     75      67\n",
       "8  2021-01-27 00:00:00.000  Wed  112   85    10    35     54     53      49\n",
       "9  2021-01-28 00:00:00.000  Thu  103   74    90    19     41     44      12\n",
       "10 2021-01-29 00:00:00.000  Fri   99   66    77   107     31     37     149\n",
       "11 2021-02-01 00:00:00.000  Mon   78   62    55    92     41     30     121\n",
       "12 2021-02-02 00:00:00.000  Tue   66   48    38    70     31     18      98\n",
       "13 2021-02-03 00:00:00.000  Wed   66   32    34    16     24     16      75\n",
       "14 2021-02-03 00:00:00.000  Wed   66   16    30   -38     17     14      52\n",
       "15 2021-11-13 19:10:25.535  Sat   66    0    26   -92     10     12      29"
      ]
     },
     "execution_count": 268,
     "metadata": {},
     "output_type": "execute_result"
    }
   ],
   "source": [
    "pd.read_excel(filepath_stock)"
   ]
  },
  {
   "cell_type": "code",
   "execution_count": null,
   "id": "1a974b3c-7d99-4b58-be83-c6f4d2d6f27e",
   "metadata": {},
   "outputs": [],
   "source": [
    "import pandas as pd\n",
    "from glob import glob\n",
    "from collections import defaultdict\n",
    "\n",
    "import os\n",
    "import shutil\n",
    "\n",
    "import json    \n",
    "import smtplib\n",
    "from email.mime.text import MIMEText\n",
    "from email.utils import formatdate\n",
    "from datetime import date\n",
    "\n",
    "# 注文表の集計\n",
    "def update_order(order, filepath):\n",
    "    # 注文表読み込み\n",
    "    df_order = pd.read_excel(filepath)\n",
    "    for key, value in df_order.to_dict().items():\n",
    "        order[key] += value[0]\n",
    "    # ファイルの移動\n",
    "    shutil.move(filepath, 'sources/order_old/')\n",
    "    return order\n",
    "\n",
    "def main():\n",
    "    print('ーーーーー開始ーーーーー')\n",
    "    # 注文情報の収集\n",
    "    print('注文情報の収集')\n",
    "    order = defaultdict(int)\n",
    "    filepaths_order = glob('sources/order_new/order*.xlsx')\n",
    "    for filepath in filepaths_order:\n",
    "        order = update_order(order, filepath)\n",
    "    print('Done')\n",
    "\n",
    "    # 最新の在庫量の確認\n",
    "    print('最新の在庫量の確認')\n",
    "    filepath_stock = 'sources/stock.xlsx'\n",
    "    df_stock = pd.read_excel(filepath_stock)\n",
    "\n",
    "    stock = df_stock.iloc[-1:, 2:]\n",
    "    stock = stock.reset_index(drop=True)\n",
    "\n",
    "    order = pd.DataFrame(order, index=[0], columns=stock.columns)\n",
    "    order = order.fillna(0)\n",
    "\n",
    "    updated = stock - order\n",
    "    print('Done')\n",
    "\n",
    "\n",
    "    # 追加注文品の算出\n",
    "    print('追加注文品の算出')\n",
    "    filepath_master = 'sources/master.xlsx'\n",
    "    df_master = pd.read_excel(filepath_master)\n",
    "\n",
    "    threshold = df_master.iloc[:1 , 1:]\n",
    "    shortage_columns = updated[updated < threshold].dropna(axis=1).columns\n",
    "\n",
    "    df_shortage = df_master.iloc[1:, 1:][shortage_columns]\n",
    "\n",
    "    order_text = ''\n",
    "    for key, value in df_shortage.to_dict().items():\n",
    "        order_text += f'{key}を{value[1]}本、'\n",
    "    print('Done')\n",
    "\n",
    "\n",
    "    # Gmailで注文\n",
    "    print('Gmailで注文')\n",
    "    with open('sources/secret.json') as f:\n",
    "        address_password = json.load(f)\n",
    "\n",
    "    from_addr = address_password['ADDRESS']\n",
    "    password = address_password['PASSWORD']\n",
    "\n",
    "    subject = '発注依頼'\n",
    "    body = f'○○さん、在庫数が足りなくなってしまったため、{order_text}発注してください。'\n",
    "    to_addr = ''\n",
    "\n",
    "    # SMTPサーバに接続\n",
    "    smtpobj = smtplib.SMTP('smtp.gmail.com', 587)\n",
    "    smtpobj.starttls()\n",
    "    smtpobj.login(from_addr, password)\n",
    "\n",
    "    # メッセージ（メール）の作成\n",
    "    msg = MIMEText(body)\n",
    "    msg['Subject'] = subject\n",
    "    msg['From'] = from_addr\n",
    "    msg['To'] = to_addr\n",
    "    msg['Date'] = formatdate()\n",
    "\n",
    "    # 作成したメールを送信\n",
    "    smtpobj.send_message(msg)\n",
    "    smtpobj.close()\n",
    "    print('Done')\n",
    "\n",
    "\n",
    "    # 在庫表の更新\n",
    "    print('在庫表の更新')\n",
    "    today = date.today()\n",
    "    updated['日付'] = today\n",
    "    updated['曜日'] = today.strftime('%a')\n",
    "\n",
    "    pd.concat([df_stock, updated], sort=False).reset_index(drop=True).to_excel(filepath_stock, index=False)\n",
    "    pd.read_excel(filepath_stock)\n",
    "    print('ーーーーー終了ーーーーー')\n",
    "\n",
    "if __name__ == '__main__':\n",
    "    main()"
   ]
  }
 ],
 "metadata": {
  "kernelspec": {
   "display_name": "Python 3",
   "language": "python",
   "name": "python3"
  },
  "language_info": {
   "codemirror_mode": {
    "name": "ipython",
    "version": 3
   },
   "file_extension": ".py",
   "mimetype": "text/x-python",
   "name": "python",
   "nbconvert_exporter": "python",
   "pygments_lexer": "ipython3",
   "version": "3.8.8"
  }
 },
 "nbformat": 4,
 "nbformat_minor": 5
}
