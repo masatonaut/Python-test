{
 "cells": [
  {
   "cell_type": "code",
   "execution_count": 1,
   "id": "elegant-invasion",
   "metadata": {},
   "outputs": [],
   "source": [
    "import pandas as pd\n",
    "from glob import glob"
   ]
  },
  {
   "cell_type": "code",
   "execution_count": 2,
   "id": "killing-hydrogen",
   "metadata": {},
   "outputs": [
    {
     "data": {
      "text/plain": [
       "['sources/order_new/order_C_20210203.xlsx',\n",
       " 'sources/order_new/order_D_20210203.xlsx',\n",
       " 'sources/order_new/order_A_20210203.xlsx',\n",
       " 'sources/order_new/order_B_20210203.xlsx']"
      ]
     },
     "execution_count": 2,
     "metadata": {},
     "output_type": "execute_result"
    }
   ],
   "source": [
    "filepaths_order = glob('sources/order_new/order*.xlsx')\n",
    "filepaths_order"
   ]
  },
  {
   "cell_type": "code",
   "execution_count": 4,
   "id": "owned-operator",
   "metadata": {},
   "outputs": [
    {
     "data": {
      "text/plain": [
       "'sources/order_new/order_C_20210203.xlsx'"
      ]
     },
     "execution_count": 4,
     "metadata": {},
     "output_type": "execute_result"
    }
   ],
   "source": [
    "filepath = filepaths_order[0]\n",
    "filepath"
   ]
  },
  {
   "cell_type": "code",
   "execution_count": 5,
   "id": "efficient-pledge",
   "metadata": {},
   "outputs": [
    {
     "data": {
      "text/html": [
       "<div>\n",
       "<style scoped>\n",
       "    .dataframe tbody tr th:only-of-type {\n",
       "        vertical-align: middle;\n",
       "    }\n",
       "\n",
       "    .dataframe tbody tr th {\n",
       "        vertical-align: top;\n",
       "    }\n",
       "\n",
       "    .dataframe thead th {\n",
       "        text-align: right;\n",
       "    }\n",
       "</style>\n",
       "<table border=\"1\" class=\"dataframe\">\n",
       "  <thead>\n",
       "    <tr style=\"text-align: right;\">\n",
       "      <th></th>\n",
       "      <th>焼酎</th>\n",
       "      <th>白ワイン</th>\n",
       "      <th>ブランデー</th>\n",
       "    </tr>\n",
       "  </thead>\n",
       "  <tbody>\n",
       "    <tr>\n",
       "      <th>0</th>\n",
       "      <td>8</td>\n",
       "      <td>18</td>\n",
       "      <td>2</td>\n",
       "    </tr>\n",
       "  </tbody>\n",
       "</table>\n",
       "</div>"
      ],
      "text/plain": [
       "   焼酎  白ワイン  ブランデー\n",
       "0   8    18      2"
      ]
     },
     "execution_count": 5,
     "metadata": {},
     "output_type": "execute_result"
    }
   ],
   "source": [
    "df_order = pd.read_excel(filepath)\n",
    "df_order"
   ]
  },
  {
   "cell_type": "code",
   "execution_count": 7,
   "id": "solved-coordinate",
   "metadata": {},
   "outputs": [
    {
     "data": {
      "text/plain": [
       "dict_items([('焼酎', {0: 8}), ('白ワイン', {0: 18}), ('ブランデー', {0: 2})])"
      ]
     },
     "execution_count": 7,
     "metadata": {},
     "output_type": "execute_result"
    }
   ],
   "source": [
    "df_order.to_dict().items()"
   ]
  },
  {
   "cell_type": "code",
   "execution_count": 8,
   "id": "secondary-dominican",
   "metadata": {},
   "outputs": [],
   "source": [
    "from collections import defaultdict"
   ]
  },
  {
   "cell_type": "code",
   "execution_count": 20,
   "id": "paperback-mayor",
   "metadata": {},
   "outputs": [],
   "source": [
    "order = defaultdict(int)"
   ]
  },
  {
   "cell_type": "code",
   "execution_count": 21,
   "id": "trained-oakland",
   "metadata": {},
   "outputs": [
    {
     "name": "stdout",
     "output_type": "stream",
     "text": [
      "8\n",
      "18\n",
      "2\n"
     ]
    }
   ],
   "source": [
    "for key, value in df_order.to_dict().items():\n",
    "    order[key] += value[0]\n",
    "    print(value[0])"
   ]
  },
  {
   "cell_type": "code",
   "execution_count": 22,
   "id": "resident-raleigh",
   "metadata": {},
   "outputs": [
    {
     "data": {
      "text/plain": [
       "defaultdict(int, {'焼酎': 8, '白ワイン': 18, 'ブランデー': 2})"
      ]
     },
     "execution_count": 22,
     "metadata": {},
     "output_type": "execute_result"
    }
   ],
   "source": [
    "order"
   ]
  },
  {
   "cell_type": "code",
   "execution_count": 24,
   "id": "composite-income",
   "metadata": {},
   "outputs": [
    {
     "data": {
      "text/html": [
       "<div>\n",
       "<style scoped>\n",
       "    .dataframe tbody tr th:only-of-type {\n",
       "        vertical-align: middle;\n",
       "    }\n",
       "\n",
       "    .dataframe tbody tr th {\n",
       "        vertical-align: top;\n",
       "    }\n",
       "\n",
       "    .dataframe thead th {\n",
       "        text-align: right;\n",
       "    }\n",
       "</style>\n",
       "<table border=\"1\" class=\"dataframe\">\n",
       "  <thead>\n",
       "    <tr style=\"text-align: right;\">\n",
       "      <th></th>\n",
       "      <th>焼酎</th>\n",
       "      <th>赤ワイン</th>\n",
       "      <th>白ワイン</th>\n",
       "    </tr>\n",
       "  </thead>\n",
       "  <tbody>\n",
       "    <tr>\n",
       "      <th>0</th>\n",
       "      <td>3</td>\n",
       "      <td>4</td>\n",
       "      <td>6</td>\n",
       "    </tr>\n",
       "  </tbody>\n",
       "</table>\n",
       "</div>"
      ],
      "text/plain": [
       "   焼酎  赤ワイン  白ワイン\n",
       "0   3     4     6"
      ]
     },
     "execution_count": 24,
     "metadata": {},
     "output_type": "execute_result"
    }
   ],
   "source": [
    "filepath = filepaths_order[1]\n",
    "df_order = pd.read_excel(filepath)\n",
    "df_order"
   ]
  },
  {
   "cell_type": "code",
   "execution_count": 25,
   "id": "logical-beads",
   "metadata": {},
   "outputs": [
    {
     "name": "stdout",
     "output_type": "stream",
     "text": [
      "3\n",
      "4\n",
      "6\n"
     ]
    }
   ],
   "source": [
    "for key, value in df_order.to_dict().items():\n",
    "    order[key] += value[0]"
   ]
  },
  {
   "cell_type": "code",
   "execution_count": 26,
   "id": "received-hazard",
   "metadata": {},
   "outputs": [
    {
     "data": {
      "text/plain": [
       "defaultdict(int, {'焼酎': 11, '白ワイン': 24, 'ブランデー': 2, '赤ワイン': 4})"
      ]
     },
     "execution_count": 26,
     "metadata": {},
     "output_type": "execute_result"
    }
   ],
   "source": [
    "order"
   ]
  },
  {
   "cell_type": "code",
   "execution_count": 27,
   "id": "discrete-studio",
   "metadata": {},
   "outputs": [],
   "source": [
    "import os\n",
    "import shutil"
   ]
  },
  {
   "cell_type": "code",
   "execution_count": 28,
   "id": "stopped-guatemala",
   "metadata": {},
   "outputs": [
    {
     "data": {
      "text/plain": [
       "['order_C_20210203.xlsx',\n",
       " 'order_D_20210203.xlsx',\n",
       " 'order_A_20210203.xlsx',\n",
       " 'order_B_20210203.xlsx']"
      ]
     },
     "execution_count": 28,
     "metadata": {},
     "output_type": "execute_result"
    }
   ],
   "source": [
    "os.listdir('sources/order_new/')"
   ]
  },
  {
   "cell_type": "code",
   "execution_count": 29,
   "id": "fabulous-radius",
   "metadata": {},
   "outputs": [
    {
     "data": {
      "text/plain": [
       "['.DS_Store']"
      ]
     },
     "execution_count": 29,
     "metadata": {},
     "output_type": "execute_result"
    }
   ],
   "source": [
    "os.listdir('sources/order_old/')"
   ]
  },
  {
   "cell_type": "code",
   "execution_count": 32,
   "id": "significant-inquiry",
   "metadata": {},
   "outputs": [
    {
     "data": {
      "text/plain": [
       "'sources/order_old/order_C_20210203.xlsx'"
      ]
     },
     "execution_count": 32,
     "metadata": {},
     "output_type": "execute_result"
    }
   ],
   "source": [
    "filepath = filepaths_order[0]\n",
    "shutil.move(filepath, 'sources/order_old/')"
   ]
  },
  {
   "cell_type": "code",
   "execution_count": 33,
   "id": "worse-hazard",
   "metadata": {},
   "outputs": [],
   "source": [
    "def update_order(order, filepath):\n",
    "    # 注文表読み込み\n",
    "    df_order = pd.read_excel(filepath)\n",
    "    for key, value in df_order.to_dict().items():\n",
    "        order[key] += value[0]\n",
    "    # ファイルの移動\n",
    "    shutil.move(filepath, 'sources/order_old/')\n",
    "    return order"
   ]
  },
  {
   "cell_type": "code",
   "execution_count": 46,
   "id": "sitting-quebec",
   "metadata": {},
   "outputs": [],
   "source": [
    "order = defaultdict(int)\n",
    "\n",
    "for filepath in filepaths_order:\n",
    "    order = update_order(order, filepath)"
   ]
  },
  {
   "cell_type": "code",
   "execution_count": 47,
   "id": "synthetic-fourth",
   "metadata": {},
   "outputs": [
    {
     "data": {
      "text/plain": [
       "defaultdict(int,\n",
       "            {'焼酎': 16.0,\n",
       "             '白ワイン': 54.0,\n",
       "             'ブランデー': 2,\n",
       "             '赤ワイン': 4,\n",
       "             'ウィスキー': 7.0,\n",
       "             '缶チューハイ': 23,\n",
       "             'Unnamed: 3': nan,\n",
       "             'Unnamed: 4': nan,\n",
       "             'Unnamed: 5': nan,\n",
       "             'Unnamed: 6': nan,\n",
       "             'Unnamed: 7': nan,\n",
       "             'Unnamed: 8': nan})"
      ]
     },
     "execution_count": 47,
     "metadata": {},
     "output_type": "execute_result"
    }
   ],
   "source": [
    "order"
   ]
  },
  {
   "cell_type": "code",
   "execution_count": 48,
   "id": "positive-daughter",
   "metadata": {},
   "outputs": [
    {
     "data": {
      "text/html": [
       "<div>\n",
       "<style scoped>\n",
       "    .dataframe tbody tr th:only-of-type {\n",
       "        vertical-align: middle;\n",
       "    }\n",
       "\n",
       "    .dataframe tbody tr th {\n",
       "        vertical-align: top;\n",
       "    }\n",
       "\n",
       "    .dataframe thead th {\n",
       "        text-align: right;\n",
       "    }\n",
       "</style>\n",
       "<table border=\"1\" class=\"dataframe\">\n",
       "  <thead>\n",
       "    <tr style=\"text-align: right;\">\n",
       "      <th></th>\n",
       "      <th>日付</th>\n",
       "      <th>曜日</th>\n",
       "      <th>日本酒</th>\n",
       "      <th>焼酎</th>\n",
       "      <th>赤ワイン</th>\n",
       "      <th>白ワイン</th>\n",
       "      <th>ウィスキー</th>\n",
       "      <th>ブランデー</th>\n",
       "      <th>缶チューハイ</th>\n",
       "    </tr>\n",
       "  </thead>\n",
       "  <tbody>\n",
       "    <tr>\n",
       "      <th>10</th>\n",
       "      <td>2021-02-04</td>\n",
       "      <td>Thu</td>\n",
       "      <td>99</td>\n",
       "      <td>66</td>\n",
       "      <td>77</td>\n",
       "      <td>107</td>\n",
       "      <td>31</td>\n",
       "      <td>37</td>\n",
       "      <td>149</td>\n",
       "    </tr>\n",
       "    <tr>\n",
       "      <th>11</th>\n",
       "      <td>2021-02-05</td>\n",
       "      <td>Fri</td>\n",
       "      <td>78</td>\n",
       "      <td>62</td>\n",
       "      <td>55</td>\n",
       "      <td>92</td>\n",
       "      <td>41</td>\n",
       "      <td>30</td>\n",
       "      <td>121</td>\n",
       "    </tr>\n",
       "    <tr>\n",
       "      <th>12</th>\n",
       "      <td>2021-02-06</td>\n",
       "      <td>Sat</td>\n",
       "      <td>66</td>\n",
       "      <td>48</td>\n",
       "      <td>38</td>\n",
       "      <td>70</td>\n",
       "      <td>31</td>\n",
       "      <td>18</td>\n",
       "      <td>98</td>\n",
       "    </tr>\n",
       "  </tbody>\n",
       "</table>\n",
       "</div>"
      ],
      "text/plain": [
       "           日付   曜日  日本酒  焼酎  赤ワイン  白ワイン  ウィスキー  ブランデー  缶チューハイ\n",
       "10 2021-02-04  Thu   99  66    77   107     31     37     149\n",
       "11 2021-02-05  Fri   78  62    55    92     41     30     121\n",
       "12 2021-02-06  Sat   66  48    38    70     31     18      98"
      ]
     },
     "execution_count": 48,
     "metadata": {},
     "output_type": "execute_result"
    }
   ],
   "source": [
    "filepath_stock = 'sources/stock.xlsx'\n",
    "df_stock = pd.read_excel(filepath_stock)\n",
    "\n",
    "df_stock.tail(3)"
   ]
  },
  {
   "cell_type": "code",
   "execution_count": 49,
   "id": "regulation-dominican",
   "metadata": {},
   "outputs": [
    {
     "data": {
      "text/html": [
       "<div>\n",
       "<style scoped>\n",
       "    .dataframe tbody tr th:only-of-type {\n",
       "        vertical-align: middle;\n",
       "    }\n",
       "\n",
       "    .dataframe tbody tr th {\n",
       "        vertical-align: top;\n",
       "    }\n",
       "\n",
       "    .dataframe thead th {\n",
       "        text-align: right;\n",
       "    }\n",
       "</style>\n",
       "<table border=\"1\" class=\"dataframe\">\n",
       "  <thead>\n",
       "    <tr style=\"text-align: right;\">\n",
       "      <th></th>\n",
       "      <th>0</th>\n",
       "      <th>1</th>\n",
       "      <th>2</th>\n",
       "    </tr>\n",
       "  </thead>\n",
       "  <tbody>\n",
       "    <tr>\n",
       "      <th>0</th>\n",
       "      <td>10</td>\n",
       "      <td>4</td>\n",
       "      <td>6</td>\n",
       "    </tr>\n",
       "  </tbody>\n",
       "</table>\n",
       "</div>"
      ],
      "text/plain": [
       "    0  1  2\n",
       "0  10  4  6"
      ]
     },
     "execution_count": 49,
     "metadata": {},
     "output_type": "execute_result"
    }
   ],
   "source": [
    "pd.DataFrame([[10, 4, 6]])"
   ]
  },
  {
   "cell_type": "code",
   "execution_count": 50,
   "id": "incorrect-integrity",
   "metadata": {},
   "outputs": [
    {
     "data": {
      "text/html": [
       "<div>\n",
       "<style scoped>\n",
       "    .dataframe tbody tr th:only-of-type {\n",
       "        vertical-align: middle;\n",
       "    }\n",
       "\n",
       "    .dataframe tbody tr th {\n",
       "        vertical-align: top;\n",
       "    }\n",
       "\n",
       "    .dataframe thead th {\n",
       "        text-align: right;\n",
       "    }\n",
       "</style>\n",
       "<table border=\"1\" class=\"dataframe\">\n",
       "  <thead>\n",
       "    <tr style=\"text-align: right;\">\n",
       "      <th></th>\n",
       "      <th>0</th>\n",
       "      <th>1</th>\n",
       "      <th>2</th>\n",
       "    </tr>\n",
       "  </thead>\n",
       "  <tbody>\n",
       "    <tr>\n",
       "      <th>0</th>\n",
       "      <td>5</td>\n",
       "      <td>1</td>\n",
       "      <td>10</td>\n",
       "    </tr>\n",
       "  </tbody>\n",
       "</table>\n",
       "</div>"
      ],
      "text/plain": [
       "   0  1   2\n",
       "0  5  1  10"
      ]
     },
     "execution_count": 50,
     "metadata": {},
     "output_type": "execute_result"
    }
   ],
   "source": [
    "pd.DataFrame([[5, 1, 10]])"
   ]
  },
  {
   "cell_type": "code",
   "execution_count": 51,
   "id": "selective-campbell",
   "metadata": {},
   "outputs": [
    {
     "data": {
      "text/html": [
       "<div>\n",
       "<style scoped>\n",
       "    .dataframe tbody tr th:only-of-type {\n",
       "        vertical-align: middle;\n",
       "    }\n",
       "\n",
       "    .dataframe tbody tr th {\n",
       "        vertical-align: top;\n",
       "    }\n",
       "\n",
       "    .dataframe thead th {\n",
       "        text-align: right;\n",
       "    }\n",
       "</style>\n",
       "<table border=\"1\" class=\"dataframe\">\n",
       "  <thead>\n",
       "    <tr style=\"text-align: right;\">\n",
       "      <th></th>\n",
       "      <th>0</th>\n",
       "      <th>1</th>\n",
       "      <th>2</th>\n",
       "    </tr>\n",
       "  </thead>\n",
       "  <tbody>\n",
       "    <tr>\n",
       "      <th>0</th>\n",
       "      <td>5</td>\n",
       "      <td>3</td>\n",
       "      <td>-4</td>\n",
       "    </tr>\n",
       "  </tbody>\n",
       "</table>\n",
       "</div>"
      ],
      "text/plain": [
       "   0  1  2\n",
       "0  5  3 -4"
      ]
     },
     "execution_count": 51,
     "metadata": {},
     "output_type": "execute_result"
    }
   ],
   "source": [
    "pd.DataFrame([[10, 4, 6]]) - pd.DataFrame([[5, 1, 10]])"
   ]
  },
  {
   "cell_type": "code",
   "execution_count": 52,
   "id": "experimental-johns",
   "metadata": {},
   "outputs": [
    {
     "data": {
      "text/html": [
       "<div>\n",
       "<style scoped>\n",
       "    .dataframe tbody tr th:only-of-type {\n",
       "        vertical-align: middle;\n",
       "    }\n",
       "\n",
       "    .dataframe tbody tr th {\n",
       "        vertical-align: top;\n",
       "    }\n",
       "\n",
       "    .dataframe thead th {\n",
       "        text-align: right;\n",
       "    }\n",
       "</style>\n",
       "<table border=\"1\" class=\"dataframe\">\n",
       "  <thead>\n",
       "    <tr style=\"text-align: right;\">\n",
       "      <th></th>\n",
       "      <th>日本酒</th>\n",
       "      <th>焼酎</th>\n",
       "      <th>赤ワイン</th>\n",
       "      <th>白ワイン</th>\n",
       "      <th>ウィスキー</th>\n",
       "      <th>ブランデー</th>\n",
       "      <th>缶チューハイ</th>\n",
       "    </tr>\n",
       "  </thead>\n",
       "  <tbody>\n",
       "    <tr>\n",
       "      <th>12</th>\n",
       "      <td>66</td>\n",
       "      <td>48</td>\n",
       "      <td>38</td>\n",
       "      <td>70</td>\n",
       "      <td>31</td>\n",
       "      <td>18</td>\n",
       "      <td>98</td>\n",
       "    </tr>\n",
       "  </tbody>\n",
       "</table>\n",
       "</div>"
      ],
      "text/plain": [
       "    日本酒  焼酎  赤ワイン  白ワイン  ウィスキー  ブランデー  缶チューハイ\n",
       "12   66  48    38    70     31     18      98"
      ]
     },
     "execution_count": 52,
     "metadata": {},
     "output_type": "execute_result"
    }
   ],
   "source": [
    "stock = df_stock.iloc[-1:, 2:]\n",
    "stock"
   ]
  },
  {
   "cell_type": "code",
   "execution_count": 54,
   "id": "subsequent-tackle",
   "metadata": {},
   "outputs": [
    {
     "data": {
      "text/html": [
       "<div>\n",
       "<style scoped>\n",
       "    .dataframe tbody tr th:only-of-type {\n",
       "        vertical-align: middle;\n",
       "    }\n",
       "\n",
       "    .dataframe tbody tr th {\n",
       "        vertical-align: top;\n",
       "    }\n",
       "\n",
       "    .dataframe thead th {\n",
       "        text-align: right;\n",
       "    }\n",
       "</style>\n",
       "<table border=\"1\" class=\"dataframe\">\n",
       "  <thead>\n",
       "    <tr style=\"text-align: right;\">\n",
       "      <th></th>\n",
       "      <th>焼酎</th>\n",
       "      <th>白ワイン</th>\n",
       "      <th>ブランデー</th>\n",
       "      <th>赤ワイン</th>\n",
       "      <th>ウィスキー</th>\n",
       "      <th>缶チューハイ</th>\n",
       "      <th>Unnamed: 3</th>\n",
       "      <th>Unnamed: 4</th>\n",
       "      <th>Unnamed: 5</th>\n",
       "      <th>Unnamed: 6</th>\n",
       "      <th>Unnamed: 7</th>\n",
       "      <th>Unnamed: 8</th>\n",
       "    </tr>\n",
       "  </thead>\n",
       "  <tbody>\n",
       "    <tr>\n",
       "      <th>0</th>\n",
       "      <td>16.0</td>\n",
       "      <td>54.0</td>\n",
       "      <td>2</td>\n",
       "      <td>4</td>\n",
       "      <td>7.0</td>\n",
       "      <td>23</td>\n",
       "      <td>NaN</td>\n",
       "      <td>NaN</td>\n",
       "      <td>NaN</td>\n",
       "      <td>NaN</td>\n",
       "      <td>NaN</td>\n",
       "      <td>NaN</td>\n",
       "    </tr>\n",
       "  </tbody>\n",
       "</table>\n",
       "</div>"
      ],
      "text/plain": [
       "     焼酎  白ワイン  ブランデー  赤ワイン  ウィスキー  缶チューハイ  Unnamed: 3  Unnamed: 4  Unnamed: 5  \\\n",
       "0  16.0  54.0      2     4    7.0      23         NaN         NaN         NaN   \n",
       "\n",
       "   Unnamed: 6  Unnamed: 7  Unnamed: 8  \n",
       "0         NaN         NaN         NaN  "
      ]
     },
     "execution_count": 54,
     "metadata": {},
     "output_type": "execute_result"
    }
   ],
   "source": [
    "order = pd.DataFrame(order, index=[0])\n",
    "order"
   ]
  },
  {
   "cell_type": "code",
   "execution_count": 56,
   "id": "detected-worship",
   "metadata": {},
   "outputs": [],
   "source": [
    "order = pd.DataFrame(order, index=[0], columns=stock.columns)"
   ]
  },
  {
   "cell_type": "code",
   "execution_count": 57,
   "id": "allied-medicine",
   "metadata": {},
   "outputs": [
    {
     "data": {
      "text/html": [
       "<div>\n",
       "<style scoped>\n",
       "    .dataframe tbody tr th:only-of-type {\n",
       "        vertical-align: middle;\n",
       "    }\n",
       "\n",
       "    .dataframe tbody tr th {\n",
       "        vertical-align: top;\n",
       "    }\n",
       "\n",
       "    .dataframe thead th {\n",
       "        text-align: right;\n",
       "    }\n",
       "</style>\n",
       "<table border=\"1\" class=\"dataframe\">\n",
       "  <thead>\n",
       "    <tr style=\"text-align: right;\">\n",
       "      <th></th>\n",
       "      <th>日本酒</th>\n",
       "      <th>焼酎</th>\n",
       "      <th>赤ワイン</th>\n",
       "      <th>白ワイン</th>\n",
       "      <th>ウィスキー</th>\n",
       "      <th>ブランデー</th>\n",
       "      <th>缶チューハイ</th>\n",
       "    </tr>\n",
       "  </thead>\n",
       "  <tbody>\n",
       "    <tr>\n",
       "      <th>0</th>\n",
       "      <td>NaN</td>\n",
       "      <td>16.0</td>\n",
       "      <td>4</td>\n",
       "      <td>54.0</td>\n",
       "      <td>7.0</td>\n",
       "      <td>2</td>\n",
       "      <td>23</td>\n",
       "    </tr>\n",
       "  </tbody>\n",
       "</table>\n",
       "</div>"
      ],
      "text/plain": [
       "   日本酒    焼酎  赤ワイン  白ワイン  ウィスキー  ブランデー  缶チューハイ\n",
       "0  NaN  16.0     4  54.0    7.0      2      23"
      ]
     },
     "execution_count": 57,
     "metadata": {},
     "output_type": "execute_result"
    }
   ],
   "source": [
    "order"
   ]
  },
  {
   "cell_type": "code",
   "execution_count": 58,
   "id": "adjustable-philip",
   "metadata": {},
   "outputs": [
    {
     "data": {
      "text/html": [
       "<div>\n",
       "<style scoped>\n",
       "    .dataframe tbody tr th:only-of-type {\n",
       "        vertical-align: middle;\n",
       "    }\n",
       "\n",
       "    .dataframe tbody tr th {\n",
       "        vertical-align: top;\n",
       "    }\n",
       "\n",
       "    .dataframe thead th {\n",
       "        text-align: right;\n",
       "    }\n",
       "</style>\n",
       "<table border=\"1\" class=\"dataframe\">\n",
       "  <thead>\n",
       "    <tr style=\"text-align: right;\">\n",
       "      <th></th>\n",
       "      <th>日本酒</th>\n",
       "      <th>焼酎</th>\n",
       "      <th>赤ワイン</th>\n",
       "      <th>白ワイン</th>\n",
       "      <th>ウィスキー</th>\n",
       "      <th>ブランデー</th>\n",
       "      <th>缶チューハイ</th>\n",
       "    </tr>\n",
       "  </thead>\n",
       "  <tbody>\n",
       "    <tr>\n",
       "      <th>0</th>\n",
       "      <td>0.0</td>\n",
       "      <td>16.0</td>\n",
       "      <td>4</td>\n",
       "      <td>54.0</td>\n",
       "      <td>7.0</td>\n",
       "      <td>2</td>\n",
       "      <td>23</td>\n",
       "    </tr>\n",
       "  </tbody>\n",
       "</table>\n",
       "</div>"
      ],
      "text/plain": [
       "   日本酒    焼酎  赤ワイン  白ワイン  ウィスキー  ブランデー  缶チューハイ\n",
       "0  0.0  16.0     4  54.0    7.0      2      23"
      ]
     },
     "execution_count": 58,
     "metadata": {},
     "output_type": "execute_result"
    }
   ],
   "source": [
    "order = order.fillna(0)\n",
    "order"
   ]
  },
  {
   "cell_type": "code",
   "execution_count": 59,
   "id": "military-metadata",
   "metadata": {},
   "outputs": [
    {
     "data": {
      "text/html": [
       "<div>\n",
       "<style scoped>\n",
       "    .dataframe tbody tr th:only-of-type {\n",
       "        vertical-align: middle;\n",
       "    }\n",
       "\n",
       "    .dataframe tbody tr th {\n",
       "        vertical-align: top;\n",
       "    }\n",
       "\n",
       "    .dataframe thead th {\n",
       "        text-align: right;\n",
       "    }\n",
       "</style>\n",
       "<table border=\"1\" class=\"dataframe\">\n",
       "  <thead>\n",
       "    <tr style=\"text-align: right;\">\n",
       "      <th></th>\n",
       "      <th>日本酒</th>\n",
       "      <th>焼酎</th>\n",
       "      <th>赤ワイン</th>\n",
       "      <th>白ワイン</th>\n",
       "      <th>ウィスキー</th>\n",
       "      <th>ブランデー</th>\n",
       "      <th>缶チューハイ</th>\n",
       "    </tr>\n",
       "  </thead>\n",
       "  <tbody>\n",
       "    <tr>\n",
       "      <th>0</th>\n",
       "      <td>NaN</td>\n",
       "      <td>NaN</td>\n",
       "      <td>NaN</td>\n",
       "      <td>NaN</td>\n",
       "      <td>NaN</td>\n",
       "      <td>NaN</td>\n",
       "      <td>NaN</td>\n",
       "    </tr>\n",
       "    <tr>\n",
       "      <th>12</th>\n",
       "      <td>NaN</td>\n",
       "      <td>NaN</td>\n",
       "      <td>NaN</td>\n",
       "      <td>NaN</td>\n",
       "      <td>NaN</td>\n",
       "      <td>NaN</td>\n",
       "      <td>NaN</td>\n",
       "    </tr>\n",
       "  </tbody>\n",
       "</table>\n",
       "</div>"
      ],
      "text/plain": [
       "    日本酒  焼酎  赤ワイン  白ワイン  ウィスキー  ブランデー  缶チューハイ\n",
       "0   NaN NaN   NaN   NaN    NaN    NaN     NaN\n",
       "12  NaN NaN   NaN   NaN    NaN    NaN     NaN"
      ]
     },
     "execution_count": 59,
     "metadata": {},
     "output_type": "execute_result"
    }
   ],
   "source": [
    "stock - order"
   ]
  },
  {
   "cell_type": "code",
   "execution_count": 62,
   "id": "determined-hammer",
   "metadata": {},
   "outputs": [],
   "source": [
    "stock = stock.reset_index(drop=True)"
   ]
  },
  {
   "cell_type": "code",
   "execution_count": 66,
   "id": "plain-oregon",
   "metadata": {},
   "outputs": [
    {
     "data": {
      "text/html": [
       "<div>\n",
       "<style scoped>\n",
       "    .dataframe tbody tr th:only-of-type {\n",
       "        vertical-align: middle;\n",
       "    }\n",
       "\n",
       "    .dataframe tbody tr th {\n",
       "        vertical-align: top;\n",
       "    }\n",
       "\n",
       "    .dataframe thead th {\n",
       "        text-align: right;\n",
       "    }\n",
       "</style>\n",
       "<table border=\"1\" class=\"dataframe\">\n",
       "  <thead>\n",
       "    <tr style=\"text-align: right;\">\n",
       "      <th></th>\n",
       "      <th>日本酒</th>\n",
       "      <th>焼酎</th>\n",
       "      <th>赤ワイン</th>\n",
       "      <th>白ワイン</th>\n",
       "      <th>ウィスキー</th>\n",
       "      <th>ブランデー</th>\n",
       "      <th>缶チューハイ</th>\n",
       "    </tr>\n",
       "  </thead>\n",
       "  <tbody>\n",
       "    <tr>\n",
       "      <th>0</th>\n",
       "      <td>66.0</td>\n",
       "      <td>32.0</td>\n",
       "      <td>34</td>\n",
       "      <td>16.0</td>\n",
       "      <td>24.0</td>\n",
       "      <td>16</td>\n",
       "      <td>75</td>\n",
       "    </tr>\n",
       "  </tbody>\n",
       "</table>\n",
       "</div>"
      ],
      "text/plain": [
       "    日本酒    焼酎  赤ワイン  白ワイン  ウィスキー  ブランデー  缶チューハイ\n",
       "0  66.0  32.0    34  16.0   24.0     16      75"
      ]
     },
     "execution_count": 66,
     "metadata": {},
     "output_type": "execute_result"
    }
   ],
   "source": [
    "updated = stock - order\n",
    "updated"
   ]
  },
  {
   "cell_type": "code",
   "execution_count": 91,
   "id": "handy-recall",
   "metadata": {},
   "outputs": [
    {
     "data": {
      "text/html": [
       "<div>\n",
       "<style scoped>\n",
       "    .dataframe tbody tr th:only-of-type {\n",
       "        vertical-align: middle;\n",
       "    }\n",
       "\n",
       "    .dataframe tbody tr th {\n",
       "        vertical-align: top;\n",
       "    }\n",
       "\n",
       "    .dataframe thead th {\n",
       "        text-align: right;\n",
       "    }\n",
       "</style>\n",
       "<table border=\"1\" class=\"dataframe\">\n",
       "  <thead>\n",
       "    <tr style=\"text-align: right;\">\n",
       "      <th></th>\n",
       "      <th>Unnamed: 0</th>\n",
       "      <th>日本酒</th>\n",
       "      <th>焼酎</th>\n",
       "      <th>赤ワイン</th>\n",
       "      <th>白ワイン</th>\n",
       "      <th>ウィスキー</th>\n",
       "      <th>ブランデー</th>\n",
       "      <th>缶チューハイ</th>\n",
       "    </tr>\n",
       "  </thead>\n",
       "  <tbody>\n",
       "    <tr>\n",
       "      <th>0</th>\n",
       "      <td>閾値</td>\n",
       "      <td>30</td>\n",
       "      <td>20</td>\n",
       "      <td>20</td>\n",
       "      <td>20</td>\n",
       "      <td>30</td>\n",
       "      <td>10</td>\n",
       "      <td>40</td>\n",
       "    </tr>\n",
       "    <tr>\n",
       "      <th>1</th>\n",
       "      <td>追加量</td>\n",
       "      <td>100</td>\n",
       "      <td>80</td>\n",
       "      <td>100</td>\n",
       "      <td>100</td>\n",
       "      <td>80</td>\n",
       "      <td>80</td>\n",
       "      <td>120</td>\n",
       "    </tr>\n",
       "  </tbody>\n",
       "</table>\n",
       "</div>"
      ],
      "text/plain": [
       "  Unnamed: 0  日本酒  焼酎  赤ワイン  白ワイン  ウィスキー  ブランデー  缶チューハイ\n",
       "0         閾値   30  20    20    20     30     10      40\n",
       "1        追加量  100  80   100   100     80     80     120"
      ]
     },
     "execution_count": 91,
     "metadata": {},
     "output_type": "execute_result"
    }
   ],
   "source": [
    "filepath_master = 'sources/master.xlsx'\n",
    "df_master = pd.read_excel(filepath_master)\n",
    "df_master"
   ]
  },
  {
   "cell_type": "code",
   "execution_count": 94,
   "id": "cardiac-poetry",
   "metadata": {},
   "outputs": [
    {
     "data": {
      "text/html": [
       "<div>\n",
       "<style scoped>\n",
       "    .dataframe tbody tr th:only-of-type {\n",
       "        vertical-align: middle;\n",
       "    }\n",
       "\n",
       "    .dataframe tbody tr th {\n",
       "        vertical-align: top;\n",
       "    }\n",
       "\n",
       "    .dataframe thead th {\n",
       "        text-align: right;\n",
       "    }\n",
       "</style>\n",
       "<table border=\"1\" class=\"dataframe\">\n",
       "  <thead>\n",
       "    <tr style=\"text-align: right;\">\n",
       "      <th></th>\n",
       "      <th>日本酒</th>\n",
       "      <th>焼酎</th>\n",
       "      <th>赤ワイン</th>\n",
       "      <th>白ワイン</th>\n",
       "      <th>ウィスキー</th>\n",
       "      <th>ブランデー</th>\n",
       "      <th>缶チューハイ</th>\n",
       "    </tr>\n",
       "  </thead>\n",
       "  <tbody>\n",
       "    <tr>\n",
       "      <th>0</th>\n",
       "      <td>30</td>\n",
       "      <td>20</td>\n",
       "      <td>20</td>\n",
       "      <td>20</td>\n",
       "      <td>30</td>\n",
       "      <td>10</td>\n",
       "      <td>40</td>\n",
       "    </tr>\n",
       "  </tbody>\n",
       "</table>\n",
       "</div>"
      ],
      "text/plain": [
       "   日本酒  焼酎  赤ワイン  白ワイン  ウィスキー  ブランデー  缶チューハイ\n",
       "0   30  20    20    20     30     10      40"
      ]
     },
     "execution_count": 94,
     "metadata": {},
     "output_type": "execute_result"
    }
   ],
   "source": [
    "threshold = df_master.iloc[:1 , 1:]\n",
    "threshold"
   ]
  },
  {
   "cell_type": "code",
   "execution_count": 96,
   "id": "operational-driving",
   "metadata": {},
   "outputs": [
    {
     "data": {
      "text/html": [
       "<div>\n",
       "<style scoped>\n",
       "    .dataframe tbody tr th:only-of-type {\n",
       "        vertical-align: middle;\n",
       "    }\n",
       "\n",
       "    .dataframe tbody tr th {\n",
       "        vertical-align: top;\n",
       "    }\n",
       "\n",
       "    .dataframe thead th {\n",
       "        text-align: right;\n",
       "    }\n",
       "</style>\n",
       "<table border=\"1\" class=\"dataframe\">\n",
       "  <thead>\n",
       "    <tr style=\"text-align: right;\">\n",
       "      <th></th>\n",
       "      <th>日本酒</th>\n",
       "      <th>焼酎</th>\n",
       "      <th>赤ワイン</th>\n",
       "      <th>白ワイン</th>\n",
       "      <th>ウィスキー</th>\n",
       "      <th>ブランデー</th>\n",
       "      <th>缶チューハイ</th>\n",
       "    </tr>\n",
       "  </thead>\n",
       "  <tbody>\n",
       "    <tr>\n",
       "      <th>0</th>\n",
       "      <td>66.0</td>\n",
       "      <td>32.0</td>\n",
       "      <td>34</td>\n",
       "      <td>16.0</td>\n",
       "      <td>24.0</td>\n",
       "      <td>16</td>\n",
       "      <td>75</td>\n",
       "    </tr>\n",
       "  </tbody>\n",
       "</table>\n",
       "</div>"
      ],
      "text/plain": [
       "    日本酒    焼酎  赤ワイン  白ワイン  ウィスキー  ブランデー  缶チューハイ\n",
       "0  66.0  32.0    34  16.0   24.0     16      75"
      ]
     },
     "execution_count": 96,
     "metadata": {},
     "output_type": "execute_result"
    }
   ],
   "source": [
    "updated"
   ]
  },
  {
   "cell_type": "code",
   "execution_count": 101,
   "id": "grand-imperial",
   "metadata": {},
   "outputs": [
    {
     "data": {
      "text/plain": [
       "Index(['白ワイン', 'ウィスキー'], dtype='object')"
      ]
     },
     "execution_count": 101,
     "metadata": {},
     "output_type": "execute_result"
    }
   ],
   "source": [
    "shortage_columns = updated[updated < threshold].dropna(axis=1).columns\n",
    "shortage_columns"
   ]
  },
  {
   "cell_type": "code",
   "execution_count": 105,
   "id": "innocent-hammer",
   "metadata": {},
   "outputs": [
    {
     "data": {
      "text/html": [
       "<div>\n",
       "<style scoped>\n",
       "    .dataframe tbody tr th:only-of-type {\n",
       "        vertical-align: middle;\n",
       "    }\n",
       "\n",
       "    .dataframe tbody tr th {\n",
       "        vertical-align: top;\n",
       "    }\n",
       "\n",
       "    .dataframe thead th {\n",
       "        text-align: right;\n",
       "    }\n",
       "</style>\n",
       "<table border=\"1\" class=\"dataframe\">\n",
       "  <thead>\n",
       "    <tr style=\"text-align: right;\">\n",
       "      <th></th>\n",
       "      <th>白ワイン</th>\n",
       "      <th>ウィスキー</th>\n",
       "    </tr>\n",
       "  </thead>\n",
       "  <tbody>\n",
       "    <tr>\n",
       "      <th>1</th>\n",
       "      <td>100</td>\n",
       "      <td>80</td>\n",
       "    </tr>\n",
       "  </tbody>\n",
       "</table>\n",
       "</div>"
      ],
      "text/plain": [
       "   白ワイン  ウィスキー\n",
       "1   100     80"
      ]
     },
     "execution_count": 105,
     "metadata": {},
     "output_type": "execute_result"
    }
   ],
   "source": [
    "df_shortage = df_master.iloc[1:, 1:][shortage_columns]\n",
    "df_shortage"
   ]
  },
  {
   "cell_type": "code",
   "execution_count": 139,
   "id": "northern-nowhere",
   "metadata": {},
   "outputs": [],
   "source": [
    "order_text = ''\n",
    "\n",
    "for key, value in df_shortage.to_dict().items():\n",
    "    order_text += f'{key}を{value[1]}本、'"
   ]
  },
  {
   "cell_type": "code",
   "execution_count": 140,
   "id": "aging-vatican",
   "metadata": {},
   "outputs": [
    {
     "data": {
      "text/plain": [
       "'白ワインを100本、ウィスキーを80本、'"
      ]
     },
     "execution_count": 140,
     "metadata": {},
     "output_type": "execute_result"
    }
   ],
   "source": [
    "order_text"
   ]
  },
  {
   "cell_type": "markdown",
   "id": "registered-teaching",
   "metadata": {},
   "source": [
    "---\n",
    "\n",
    "下記ページでGmailのセキュリティ周りを変更  \n",
    "https://myaccount.google.com/u/2/security\n",
    "\n",
    "```json\n",
    "{\n",
    "    \"ADDRESS\": \"メールアドレス\",\n",
    "    \"PASSWORD\": \"セキュリティ画面で発行したパスワード\",    \n",
    "}\n",
    "```"
   ]
  },
  {
   "cell_type": "code",
   "execution_count": 141,
   "id": "nominated-cheese",
   "metadata": {},
   "outputs": [],
   "source": [
    "import json\n",
    "with open('sources/secret.json') as f:\n",
    "    address_password = json.load(f)"
   ]
  },
  {
   "cell_type": "code",
   "execution_count": 142,
   "id": "following-qualification",
   "metadata": {},
   "outputs": [],
   "source": [
    "import smtplib\n",
    "from email.mime.text import MIMEText\n",
    "from email.utils import formatdate\n",
    "\n",
    "from_addr = address_password['ADDRESS']\n",
    "password = address_password['PASSWORD']\n",
    "\n",
    "subject = '発注依頼'\n",
    "body = f'○○さん、在庫数が足りなくなってしまったため、{order_text}発注してください。'\n",
    "to_addr = ''\n",
    "\n",
    "# SMTPサーバに接続\n",
    "smtpobj = smtplib.SMTP('smtp.gmail.com', 587)\n",
    "smtpobj.starttls()\n",
    "smtpobj.login(from_addr, password)\n",
    "\n",
    "# メッセージ（メール）の作成\n",
    "msg = MIMEText(body)\n",
    "msg['Subject'] = subject\n",
    "msg['From'] = from_addr\n",
    "msg['To'] = to_addr\n",
    "msg['Date'] = formatdate()\n",
    "\n",
    "# 作成したメールを送信\n",
    "smtpobj.send_message(msg)\n",
    "smtpobj.close()"
   ]
  },
  {
   "cell_type": "code",
   "execution_count": 160,
   "id": "framed-breakdown",
   "metadata": {},
   "outputs": [],
   "source": [
    "from datetime import date"
   ]
  },
  {
   "cell_type": "code",
   "execution_count": 161,
   "id": "skilled-storage",
   "metadata": {},
   "outputs": [],
   "source": [
    "today = date.today()"
   ]
  },
  {
   "cell_type": "code",
   "execution_count": 162,
   "id": "involved-offering",
   "metadata": {},
   "outputs": [
    {
     "name": "stdout",
     "output_type": "stream",
     "text": [
      "Sun\n"
     ]
    }
   ],
   "source": [
    "print(today.strftime('%a'))"
   ]
  },
  {
   "cell_type": "code",
   "execution_count": 163,
   "id": "proved-breathing",
   "metadata": {},
   "outputs": [],
   "source": [
    "updated['日付'] = today\n",
    "updated['曜日'] = today.strftime('%a')"
   ]
  },
  {
   "cell_type": "code",
   "execution_count": 164,
   "id": "transsexual-expression",
   "metadata": {},
   "outputs": [
    {
     "data": {
      "text/html": [
       "<div>\n",
       "<style scoped>\n",
       "    .dataframe tbody tr th:only-of-type {\n",
       "        vertical-align: middle;\n",
       "    }\n",
       "\n",
       "    .dataframe tbody tr th {\n",
       "        vertical-align: top;\n",
       "    }\n",
       "\n",
       "    .dataframe thead th {\n",
       "        text-align: right;\n",
       "    }\n",
       "</style>\n",
       "<table border=\"1\" class=\"dataframe\">\n",
       "  <thead>\n",
       "    <tr style=\"text-align: right;\">\n",
       "      <th></th>\n",
       "      <th>日本酒</th>\n",
       "      <th>焼酎</th>\n",
       "      <th>赤ワイン</th>\n",
       "      <th>白ワイン</th>\n",
       "      <th>ウィスキー</th>\n",
       "      <th>ブランデー</th>\n",
       "      <th>缶チューハイ</th>\n",
       "      <th>日付</th>\n",
       "      <th>曜日</th>\n",
       "    </tr>\n",
       "  </thead>\n",
       "  <tbody>\n",
       "    <tr>\n",
       "      <th>0</th>\n",
       "      <td>66.0</td>\n",
       "      <td>32.0</td>\n",
       "      <td>34</td>\n",
       "      <td>16.0</td>\n",
       "      <td>24.0</td>\n",
       "      <td>16</td>\n",
       "      <td>75</td>\n",
       "      <td>2021-02-07</td>\n",
       "      <td>Sun</td>\n",
       "    </tr>\n",
       "  </tbody>\n",
       "</table>\n",
       "</div>"
      ],
      "text/plain": [
       "    日本酒    焼酎  赤ワイン  白ワイン  ウィスキー  ブランデー  缶チューハイ          日付   曜日\n",
       "0  66.0  32.0    34  16.0   24.0     16      75  2021-02-07  Sun"
      ]
     },
     "execution_count": 164,
     "metadata": {},
     "output_type": "execute_result"
    }
   ],
   "source": [
    "updated"
   ]
  },
  {
   "cell_type": "code",
   "execution_count": 167,
   "id": "certain-chorus",
   "metadata": {},
   "outputs": [],
   "source": [
    "pd.concat([df_stock, updated], sort=False).reset_index(drop=True).to_excel(filepath_stock, index=False)"
   ]
  },
  {
   "cell_type": "code",
   "execution_count": 168,
   "id": "aggressive-consistency",
   "metadata": {
    "collapsed": true,
    "jupyter": {
     "outputs_hidden": true
    }
   },
   "outputs": [
    {
     "data": {
      "text/html": [
       "<div>\n",
       "<style scoped>\n",
       "    .dataframe tbody tr th:only-of-type {\n",
       "        vertical-align: middle;\n",
       "    }\n",
       "\n",
       "    .dataframe tbody tr th {\n",
       "        vertical-align: top;\n",
       "    }\n",
       "\n",
       "    .dataframe thead th {\n",
       "        text-align: right;\n",
       "    }\n",
       "</style>\n",
       "<table border=\"1\" class=\"dataframe\">\n",
       "  <thead>\n",
       "    <tr style=\"text-align: right;\">\n",
       "      <th></th>\n",
       "      <th>日付</th>\n",
       "      <th>曜日</th>\n",
       "      <th>日本酒</th>\n",
       "      <th>焼酎</th>\n",
       "      <th>赤ワイン</th>\n",
       "      <th>白ワイン</th>\n",
       "      <th>ウィスキー</th>\n",
       "      <th>ブランデー</th>\n",
       "      <th>缶チューハイ</th>\n",
       "    </tr>\n",
       "  </thead>\n",
       "  <tbody>\n",
       "    <tr>\n",
       "      <th>0</th>\n",
       "      <td>2021-01-25</td>\n",
       "      <td>Mon</td>\n",
       "      <td>100</td>\n",
       "      <td>80</td>\n",
       "      <td>51</td>\n",
       "      <td>63</td>\n",
       "      <td>150</td>\n",
       "      <td>60</td>\n",
       "      <td>95</td>\n",
       "    </tr>\n",
       "    <tr>\n",
       "      <th>1</th>\n",
       "      <td>2021-01-26</td>\n",
       "      <td>Tue</td>\n",
       "      <td>88</td>\n",
       "      <td>73</td>\n",
       "      <td>35</td>\n",
       "      <td>38</td>\n",
       "      <td>130</td>\n",
       "      <td>50</td>\n",
       "      <td>82</td>\n",
       "    </tr>\n",
       "    <tr>\n",
       "      <th>2</th>\n",
       "      <td>2021-01-27</td>\n",
       "      <td>Wed</td>\n",
       "      <td>73</td>\n",
       "      <td>66</td>\n",
       "      <td>105</td>\n",
       "      <td>15</td>\n",
       "      <td>126</td>\n",
       "      <td>37</td>\n",
       "      <td>75</td>\n",
       "    </tr>\n",
       "    <tr>\n",
       "      <th>3</th>\n",
       "      <td>2021-01-28</td>\n",
       "      <td>Thu</td>\n",
       "      <td>50</td>\n",
       "      <td>55</td>\n",
       "      <td>96</td>\n",
       "      <td>123</td>\n",
       "      <td>114</td>\n",
       "      <td>27</td>\n",
       "      <td>43</td>\n",
       "    </tr>\n",
       "    <tr>\n",
       "      <th>4</th>\n",
       "      <td>2021-01-29</td>\n",
       "      <td>Fri</td>\n",
       "      <td>39</td>\n",
       "      <td>44</td>\n",
       "      <td>75</td>\n",
       "      <td>96</td>\n",
       "      <td>106</td>\n",
       "      <td>13</td>\n",
       "      <td>19</td>\n",
       "    </tr>\n",
       "    <tr>\n",
       "      <th>5</th>\n",
       "      <td>2021-01-30</td>\n",
       "      <td>Sat</td>\n",
       "      <td>25</td>\n",
       "      <td>31</td>\n",
       "      <td>64</td>\n",
       "      <td>88</td>\n",
       "      <td>98</td>\n",
       "      <td>10</td>\n",
       "      <td>117</td>\n",
       "    </tr>\n",
       "    <tr>\n",
       "      <th>6</th>\n",
       "      <td>2021-01-31</td>\n",
       "      <td>Sun</td>\n",
       "      <td>125</td>\n",
       "      <td>106</td>\n",
       "      <td>37</td>\n",
       "      <td>77</td>\n",
       "      <td>83</td>\n",
       "      <td>84</td>\n",
       "      <td>97</td>\n",
       "    </tr>\n",
       "    <tr>\n",
       "      <th>7</th>\n",
       "      <td>2021-02-01</td>\n",
       "      <td>Mon</td>\n",
       "      <td>120</td>\n",
       "      <td>96</td>\n",
       "      <td>34</td>\n",
       "      <td>50</td>\n",
       "      <td>69</td>\n",
       "      <td>75</td>\n",
       "      <td>67</td>\n",
       "    </tr>\n",
       "    <tr>\n",
       "      <th>8</th>\n",
       "      <td>2021-02-02</td>\n",
       "      <td>Tue</td>\n",
       "      <td>112</td>\n",
       "      <td>85</td>\n",
       "      <td>10</td>\n",
       "      <td>35</td>\n",
       "      <td>54</td>\n",
       "      <td>53</td>\n",
       "      <td>49</td>\n",
       "    </tr>\n",
       "    <tr>\n",
       "      <th>9</th>\n",
       "      <td>2021-02-03</td>\n",
       "      <td>Wed</td>\n",
       "      <td>103</td>\n",
       "      <td>74</td>\n",
       "      <td>90</td>\n",
       "      <td>19</td>\n",
       "      <td>41</td>\n",
       "      <td>44</td>\n",
       "      <td>12</td>\n",
       "    </tr>\n",
       "    <tr>\n",
       "      <th>10</th>\n",
       "      <td>2021-02-04</td>\n",
       "      <td>Thu</td>\n",
       "      <td>99</td>\n",
       "      <td>66</td>\n",
       "      <td>77</td>\n",
       "      <td>107</td>\n",
       "      <td>31</td>\n",
       "      <td>37</td>\n",
       "      <td>149</td>\n",
       "    </tr>\n",
       "    <tr>\n",
       "      <th>11</th>\n",
       "      <td>2021-02-05</td>\n",
       "      <td>Fri</td>\n",
       "      <td>78</td>\n",
       "      <td>62</td>\n",
       "      <td>55</td>\n",
       "      <td>92</td>\n",
       "      <td>41</td>\n",
       "      <td>30</td>\n",
       "      <td>121</td>\n",
       "    </tr>\n",
       "    <tr>\n",
       "      <th>12</th>\n",
       "      <td>2021-02-06</td>\n",
       "      <td>Sat</td>\n",
       "      <td>66</td>\n",
       "      <td>48</td>\n",
       "      <td>38</td>\n",
       "      <td>70</td>\n",
       "      <td>31</td>\n",
       "      <td>18</td>\n",
       "      <td>98</td>\n",
       "    </tr>\n",
       "    <tr>\n",
       "      <th>13</th>\n",
       "      <td>2021-02-07</td>\n",
       "      <td>Sun</td>\n",
       "      <td>66</td>\n",
       "      <td>32</td>\n",
       "      <td>34</td>\n",
       "      <td>16</td>\n",
       "      <td>24</td>\n",
       "      <td>16</td>\n",
       "      <td>75</td>\n",
       "    </tr>\n",
       "  </tbody>\n",
       "</table>\n",
       "</div>"
      ],
      "text/plain": [
       "           日付   曜日  日本酒   焼酎  赤ワイン  白ワイン  ウィスキー  ブランデー  缶チューハイ\n",
       "0  2021-01-25  Mon  100   80    51    63    150     60      95\n",
       "1  2021-01-26  Tue   88   73    35    38    130     50      82\n",
       "2  2021-01-27  Wed   73   66   105    15    126     37      75\n",
       "3  2021-01-28  Thu   50   55    96   123    114     27      43\n",
       "4  2021-01-29  Fri   39   44    75    96    106     13      19\n",
       "5  2021-01-30  Sat   25   31    64    88     98     10     117\n",
       "6  2021-01-31  Sun  125  106    37    77     83     84      97\n",
       "7  2021-02-01  Mon  120   96    34    50     69     75      67\n",
       "8  2021-02-02  Tue  112   85    10    35     54     53      49\n",
       "9  2021-02-03  Wed  103   74    90    19     41     44      12\n",
       "10 2021-02-04  Thu   99   66    77   107     31     37     149\n",
       "11 2021-02-05  Fri   78   62    55    92     41     30     121\n",
       "12 2021-02-06  Sat   66   48    38    70     31     18      98\n",
       "13 2021-02-07  Sun   66   32    34    16     24     16      75"
      ]
     },
     "execution_count": 168,
     "metadata": {},
     "output_type": "execute_result"
    }
   ],
   "source": [
    "pd.read_excel(filepath_stock)"
   ]
  },
  {
   "cell_type": "code",
   "execution_count": null,
   "id": "respective-operator",
   "metadata": {},
   "outputs": [],
   "source": [
    "import pandas as pd\n",
    "from glob import glob\n",
    "from collections import defaultdict\n",
    "\n",
    "import os\n",
    "import shutil\n",
    "\n",
    "import json    \n",
    "import smtplib\n",
    "from email.mime.text import MIMEText\n",
    "from email.utils import formatdate\n",
    "from datetime import date\n",
    "\n",
    "# 注文表の集計\n",
    "def update_order(order, filepath):\n",
    "    # 注文表読み込み\n",
    "    df_order = pd.read_excel(filepath)\n",
    "    for key, value in df_order.to_dict().items():\n",
    "        order[key] += value[0]\n",
    "    # ファイルの移動\n",
    "    shutil.move(filepath, 'sources/order_old/')\n",
    "    return order\n",
    "\n",
    "def main():\n",
    "    print('ーーーーー開始ーーーーー')\n",
    "    # 注文情報の収集\n",
    "    print('注文情報の収集')\n",
    "    order = defaultdict(int)\n",
    "    filepaths_order = glob('sources/order_new/order*.xlsx')\n",
    "    for filepath in filepaths_order:\n",
    "        order = update_order(order, filepath)\n",
    "    print('Done')\n",
    "\n",
    "    # 最新の在庫量の確認\n",
    "    print('最新の在庫量の確認')\n",
    "    filepath_stock = 'sources/stock.xlsx'\n",
    "    df_stock = pd.read_excel(filepath_stock)\n",
    "\n",
    "    stock = df_stock.iloc[-1:, 2:]\n",
    "    stock = stock.reset_index(drop=True)\n",
    "\n",
    "    order = pd.DataFrame(order, index=[0], columns=stock.columns)\n",
    "    order = order.fillna(0)\n",
    "\n",
    "    updated = stock - order\n",
    "    print('Done')\n",
    "\n",
    "\n",
    "    # 追加注文品の算出\n",
    "    print('追加注文品の算出')\n",
    "    filepath_master = 'sources/master.xlsx'\n",
    "    df_master = pd.read_excel(filepath_master)\n",
    "\n",
    "    threshold = df_master.iloc[:1 , 1:]\n",
    "    shortage_columns = updated[updated < threshold].dropna(axis=1).columns\n",
    "\n",
    "    df_shortage = df_master.iloc[1:, 1:][shortage_columns]\n",
    "\n",
    "    order_text = ''\n",
    "    for key, value in df_shortage.to_dict().items():\n",
    "        order_text += f'{key}を{value[1]}本、'\n",
    "    print('Done')\n",
    "\n",
    "\n",
    "    # Gmailで注文\n",
    "    print('Gmailで注文')\n",
    "    with open('sources/secret.json') as f:\n",
    "        address_password = json.load(f)\n",
    "\n",
    "    from_addr = address_password['ADDRESS']\n",
    "    password = address_password['PASSWORD']\n",
    "\n",
    "    subject = '発注依頼'\n",
    "    body = f'○○さん、在庫数が足りなくなってしまったため、{order_text}発注してください。'\n",
    "    to_addr = ''\n",
    "\n",
    "    # SMTPサーバに接続\n",
    "    smtpobj = smtplib.SMTP('smtp.gmail.com', 587)\n",
    "    smtpobj.starttls()\n",
    "    smtpobj.login(from_addr, password)\n",
    "\n",
    "    # メッセージ（メール）の作成\n",
    "    msg = MIMEText(body)\n",
    "    msg['Subject'] = subject\n",
    "    msg['From'] = from_addr\n",
    "    msg['To'] = to_addr\n",
    "    msg['Date'] = formatdate()\n",
    "\n",
    "    # 作成したメールを送信\n",
    "    smtpobj.send_message(msg)\n",
    "    smtpobj.close()\n",
    "    print('Done')\n",
    "\n",
    "\n",
    "    # 在庫表の更新\n",
    "    print('在庫表の更新')\n",
    "    today = date.today()\n",
    "    updated['日付'] = today\n",
    "    updated['曜日'] = today.strftime('%a')\n",
    "\n",
    "    pd.concat([df_stock, updated], sort=False).reset_index(drop=True).to_excel(filepath_stock, index=False)\n",
    "    pd.read_excel(filepath_stock)\n",
    "    print('ーーーーー終了ーーーーー')\n",
    "\n",
    "if __name__ == '__main__':\n",
    "    main()"
   ]
  },
  {
   "cell_type": "code",
   "execution_count": null,
   "id": "guilty-proportion",
   "metadata": {
    "jupyter": {
     "source_hidden": true
    }
   },
   "outputs": [],
   "source": []
  },
  {
   "cell_type": "code",
   "execution_count": null,
   "id": "rental-discount",
   "metadata": {},
   "outputs": [],
   "source": []
  },
  {
   "cell_type": "code",
   "execution_count": null,
   "id": "civil-alaska",
   "metadata": {},
   "outputs": [],
   "source": []
  },
  {
   "cell_type": "code",
   "execution_count": null,
   "id": "welcome-texas",
   "metadata": {},
   "outputs": [],
   "source": []
  },
  {
   "cell_type": "code",
   "execution_count": null,
   "id": "nearby-surname",
   "metadata": {},
   "outputs": [],
   "source": []
  },
  {
   "cell_type": "code",
   "execution_count": null,
   "id": "digital-kennedy",
   "metadata": {},
   "outputs": [],
   "source": []
  },
  {
   "cell_type": "code",
   "execution_count": null,
   "id": "checked-commons",
   "metadata": {},
   "outputs": [],
   "source": []
  },
  {
   "cell_type": "code",
   "execution_count": null,
   "id": "roman-function",
   "metadata": {},
   "outputs": [],
   "source": []
  },
  {
   "cell_type": "code",
   "execution_count": null,
   "id": "third-hopkins",
   "metadata": {},
   "outputs": [],
   "source": []
  },
  {
   "cell_type": "code",
   "execution_count": null,
   "id": "prompt-collector",
   "metadata": {},
   "outputs": [],
   "source": []
  },
  {
   "cell_type": "code",
   "execution_count": null,
   "id": "binding-christian",
   "metadata": {},
   "outputs": [],
   "source": []
  },
  {
   "cell_type": "code",
   "execution_count": null,
   "id": "inclusive-impossible",
   "metadata": {},
   "outputs": [],
   "source": []
  },
  {
   "cell_type": "code",
   "execution_count": null,
   "id": "single-nowhere",
   "metadata": {},
   "outputs": [],
   "source": []
  },
  {
   "cell_type": "code",
   "execution_count": null,
   "id": "existing-status",
   "metadata": {},
   "outputs": [],
   "source": []
  },
  {
   "cell_type": "code",
   "execution_count": null,
   "id": "planned-saying",
   "metadata": {},
   "outputs": [],
   "source": []
  },
  {
   "cell_type": "code",
   "execution_count": null,
   "id": "express-paintball",
   "metadata": {},
   "outputs": [],
   "source": []
  },
  {
   "cell_type": "code",
   "execution_count": null,
   "id": "alert-corpus",
   "metadata": {},
   "outputs": [],
   "source": []
  },
  {
   "cell_type": "code",
   "execution_count": null,
   "id": "prepared-porcelain",
   "metadata": {},
   "outputs": [],
   "source": []
  }
 ],
 "metadata": {
  "kernelspec": {
   "display_name": "Python 3",
   "language": "python",
   "name": "python3"
  },
  "language_info": {
   "codemirror_mode": {
    "name": "ipython",
    "version": 3
   },
   "file_extension": ".py",
   "mimetype": "text/x-python",
   "name": "python",
   "nbconvert_exporter": "python",
   "pygments_lexer": "ipython3",
   "version": "3.9.1"
  }
 },
 "nbformat": 4,
 "nbformat_minor": 5
}
