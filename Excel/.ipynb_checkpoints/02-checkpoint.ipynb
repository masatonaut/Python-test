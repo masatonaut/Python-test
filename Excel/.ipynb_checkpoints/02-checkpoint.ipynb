{
 "cells": [
  {
   "cell_type": "code",
   "execution_count": 54,
   "id": "3725e21e-d7a4-41f0-abe4-52af18a32217",
   "metadata": {},
   "outputs": [],
   "source": [
    "import pandas as pd\n",
    "from glob import glob"
   ]
  },
  {
   "cell_type": "code",
   "execution_count": 55,
   "id": "4aa8550f-8805-4ae8-acbe-9a271d75be23",
   "metadata": {},
   "outputs": [
    {
     "data": {
      "text/plain": [
       "['20210110_Python_Excel_02/sources/請求書_11月_ICHIGO.xlsx',\n",
       " '20210110_Python_Excel_02/sources/請求書_12月_STR_Corp.xlsx',\n",
       " '20210110_Python_Excel_02/sources/請求書_12月_TTTInc.xlsx',\n",
       " '20210110_Python_Excel_02/sources/請求書_12月_CDF商事.xlsx',\n",
       " '20210110_Python_Excel_02/sources/請求書_12月_株式会社ABC.xlsx',\n",
       " '20210110_Python_Excel_02/sources/請求書_10月_TTTInc.xlsx',\n",
       " '20210110_Python_Excel_02/sources/請求書_11月_XYZ株式会社.xlsx']"
      ]
     },
     "execution_count": 55,
     "metadata": {},
     "output_type": "execute_result"
    }
   ],
   "source": [
    "filepaths = glob('20210110_Python_Excel_02/sources/請求書*.xlsx')\n",
    "filepaths"
   ]
  },
  {
   "cell_type": "code",
   "execution_count": 56,
   "id": "96b2dbc7-1411-4e73-ba22-18cdbe2ee524",
   "metadata": {},
   "outputs": [],
   "source": [
    "def extract(filepath):\n",
    "    _df = pd.read_excel(filepath)\n",
    "    columns = _df.iloc[10, [1, 2, 4, 10, 11, 14]]\n",
    "    df = _df.iloc[11:23, [1, 2, 4, 10, 11, 14]]\n",
    "    df.columns = columns\n",
    "    df['企業名'] = _df.iloc[2, 0]\n",
    "    df['企業コード'] = _df.iloc[3, 4]\n",
    "    df['請求書No'] = _df.iloc[2, 12]\n",
    "    df['発行日'] = _df.iloc[3, 12]\n",
    "    df['発行者'] = _df.iloc[4, 12]\n",
    "    df['発行者コード'] = _df.iloc[4, 13]\n",
    "    return df"
   ]
  },
  {
   "cell_type": "code",
   "execution_count": 57,
   "id": "d777a111-ec8e-46d6-8b86-4d7487bcc87f",
   "metadata": {},
   "outputs": [],
   "source": [
    "df = pd.DataFrame()\n",
    "\n",
    "for filepath in filepaths:\n",
    "    df = pd.concat([df, extract(filepath)])"
   ]
  },
  {
   "cell_type": "code",
   "execution_count": 58,
   "id": "285e8ea1-82cc-42db-b505-f6f4e402d70d",
   "metadata": {},
   "outputs": [
    {
     "data": {
      "text/html": [
       "<div>\n",
       "<style scoped>\n",
       "    .dataframe tbody tr th:only-of-type {\n",
       "        vertical-align: middle;\n",
       "    }\n",
       "\n",
       "    .dataframe tbody tr th {\n",
       "        vertical-align: top;\n",
       "    }\n",
       "\n",
       "    .dataframe thead th {\n",
       "        text-align: right;\n",
       "    }\n",
       "</style>\n",
       "<table border=\"1\" class=\"dataframe\">\n",
       "  <thead>\n",
       "    <tr style=\"text-align: right;\">\n",
       "      <th>10</th>\n",
       "      <th>日付</th>\n",
       "      <th>商品コード</th>\n",
       "      <th>品名</th>\n",
       "      <th>数量[L] or [-]</th>\n",
       "      <th>単価[¥/L] or [¥]</th>\n",
       "      <th>金額</th>\n",
       "      <th>企業名</th>\n",
       "      <th>企業コード</th>\n",
       "      <th>請求書No</th>\n",
       "      <th>発行日</th>\n",
       "      <th>発行者</th>\n",
       "      <th>発行者コード</th>\n",
       "    </tr>\n",
       "  </thead>\n",
       "  <tbody>\n",
       "    <tr>\n",
       "      <th>11</th>\n",
       "      <td>2020-11-12 00:00:00</td>\n",
       "      <td>GSL0001</td>\n",
       "      <td>レギュラー</td>\n",
       "      <td>20</td>\n",
       "      <td>120</td>\n",
       "      <td>2400</td>\n",
       "      <td>ICHIGO</td>\n",
       "      <td>6</td>\n",
       "      <td>012</td>\n",
       "      <td>2020/11/30</td>\n",
       "      <td>岸辺</td>\n",
       "      <td>2.0</td>\n",
       "    </tr>\n",
       "    <tr>\n",
       "      <th>12</th>\n",
       "      <td>2020-11-12 00:00:00</td>\n",
       "      <td>GSL0002</td>\n",
       "      <td>ハイオク</td>\n",
       "      <td>45</td>\n",
       "      <td>160</td>\n",
       "      <td>7200</td>\n",
       "      <td>ICHIGO</td>\n",
       "      <td>6</td>\n",
       "      <td>012</td>\n",
       "      <td>2020/11/30</td>\n",
       "      <td>岸辺</td>\n",
       "      <td>2.0</td>\n",
       "    </tr>\n",
       "    <tr>\n",
       "      <th>13</th>\n",
       "      <td>2020-11-15 00:00:00</td>\n",
       "      <td>GSL0003</td>\n",
       "      <td>軽油</td>\n",
       "      <td>50</td>\n",
       "      <td>100</td>\n",
       "      <td>5000</td>\n",
       "      <td>ICHIGO</td>\n",
       "      <td>6</td>\n",
       "      <td>012</td>\n",
       "      <td>2020/11/30</td>\n",
       "      <td>岸辺</td>\n",
       "      <td>2.0</td>\n",
       "    </tr>\n",
       "    <tr>\n",
       "      <th>14</th>\n",
       "      <td>2020-11-15 00:00:00</td>\n",
       "      <td>GDS0002</td>\n",
       "      <td>コロン</td>\n",
       "      <td>3</td>\n",
       "      <td>800</td>\n",
       "      <td>2400</td>\n",
       "      <td>ICHIGO</td>\n",
       "      <td>6</td>\n",
       "      <td>012</td>\n",
       "      <td>2020/11/30</td>\n",
       "      <td>岸辺</td>\n",
       "      <td>2.0</td>\n",
       "    </tr>\n",
       "    <tr>\n",
       "      <th>15</th>\n",
       "      <td>2020-11-20 00:00:00</td>\n",
       "      <td>CMT0004</td>\n",
       "      <td>オイル交換</td>\n",
       "      <td>1</td>\n",
       "      <td>1000</td>\n",
       "      <td>1000</td>\n",
       "      <td>ICHIGO</td>\n",
       "      <td>6</td>\n",
       "      <td>012</td>\n",
       "      <td>2020/11/30</td>\n",
       "      <td>岸辺</td>\n",
       "      <td>2.0</td>\n",
       "    </tr>\n",
       "  </tbody>\n",
       "</table>\n",
       "</div>"
      ],
      "text/plain": [
       "10                   日付    商品コード     品名 数量[L] or [-] 単価[¥/L] or [¥]    金額  \\\n",
       "11  2020-11-12 00:00:00  GSL0001  レギュラー           20            120  2400   \n",
       "12  2020-11-12 00:00:00  GSL0002   ハイオク           45            160  7200   \n",
       "13  2020-11-15 00:00:00  GSL0003     軽油           50            100  5000   \n",
       "14  2020-11-15 00:00:00  GDS0002    コロン            3            800  2400   \n",
       "15  2020-11-20 00:00:00  CMT0004  オイル交換            1           1000  1000   \n",
       "\n",
       "10     企業名  企業コード 請求書No         発行日 発行者  発行者コード  \n",
       "11  ICHIGO      6   012  2020/11/30  岸辺     2.0  \n",
       "12  ICHIGO      6   012  2020/11/30  岸辺     2.0  \n",
       "13  ICHIGO      6   012  2020/11/30  岸辺     2.0  \n",
       "14  ICHIGO      6   012  2020/11/30  岸辺     2.0  \n",
       "15  ICHIGO      6   012  2020/11/30  岸辺     2.0  "
      ]
     },
     "execution_count": 58,
     "metadata": {},
     "output_type": "execute_result"
    }
   ],
   "source": [
    "df.head()"
   ]
  },
  {
   "cell_type": "code",
   "execution_count": 59,
   "id": "33b04089-e5c1-4acc-8c59-cd1b89958f2f",
   "metadata": {},
   "outputs": [
    {
     "data": {
      "text/plain": [
       "84"
      ]
     },
     "execution_count": 59,
     "metadata": {},
     "output_type": "execute_result"
    }
   ],
   "source": [
    "len(df)"
   ]
  },
  {
   "cell_type": "code",
   "execution_count": 60,
   "id": "a8130ac8-c0da-4bd7-9e73-bea9331bb391",
   "metadata": {},
   "outputs": [],
   "source": [
    "df = df.dropna()"
   ]
  },
  {
   "cell_type": "code",
   "execution_count": 61,
   "id": "b050cac3-25cd-4113-99bc-a44c10e4fc10",
   "metadata": {},
   "outputs": [],
   "source": [
    "df = df.reset_index(drop=True)"
   ]
  },
  {
   "cell_type": "code",
   "execution_count": 62,
   "id": "00d9b19f-7ac8-43c7-8edd-4d028f21642e",
   "metadata": {},
   "outputs": [],
   "source": [
    "df = df.iloc[:, [6, 7, 8, 9, 10, 11, 0, 1, 2, 3, 4, 5]]"
   ]
  },
  {
   "cell_type": "code",
   "execution_count": 63,
   "id": "6a007e49-3d3c-4de3-8bcf-0084d7d57987",
   "metadata": {},
   "outputs": [
    {
     "data": {
      "text/html": [
       "<div>\n",
       "<style scoped>\n",
       "    .dataframe tbody tr th:only-of-type {\n",
       "        vertical-align: middle;\n",
       "    }\n",
       "\n",
       "    .dataframe tbody tr th {\n",
       "        vertical-align: top;\n",
       "    }\n",
       "\n",
       "    .dataframe thead th {\n",
       "        text-align: right;\n",
       "    }\n",
       "</style>\n",
       "<table border=\"1\" class=\"dataframe\">\n",
       "  <thead>\n",
       "    <tr style=\"text-align: right;\">\n",
       "      <th>10</th>\n",
       "      <th>企業名</th>\n",
       "      <th>企業コード</th>\n",
       "      <th>請求書No</th>\n",
       "      <th>発行日</th>\n",
       "      <th>発行者</th>\n",
       "      <th>発行者コード</th>\n",
       "      <th>日付</th>\n",
       "      <th>商品コード</th>\n",
       "      <th>品名</th>\n",
       "      <th>数量[L] or [-]</th>\n",
       "      <th>単価[¥/L] or [¥]</th>\n",
       "      <th>金額</th>\n",
       "    </tr>\n",
       "  </thead>\n",
       "  <tbody>\n",
       "    <tr>\n",
       "      <th>0</th>\n",
       "      <td>ICHIGO</td>\n",
       "      <td>6</td>\n",
       "      <td>012</td>\n",
       "      <td>2020/11/30</td>\n",
       "      <td>岸辺</td>\n",
       "      <td>2.0</td>\n",
       "      <td>2020-11-12 00:00:00</td>\n",
       "      <td>GSL0001</td>\n",
       "      <td>レギュラー</td>\n",
       "      <td>20</td>\n",
       "      <td>120</td>\n",
       "      <td>2400</td>\n",
       "    </tr>\n",
       "    <tr>\n",
       "      <th>1</th>\n",
       "      <td>ICHIGO</td>\n",
       "      <td>6</td>\n",
       "      <td>012</td>\n",
       "      <td>2020/11/30</td>\n",
       "      <td>岸辺</td>\n",
       "      <td>2.0</td>\n",
       "      <td>2020-11-12 00:00:00</td>\n",
       "      <td>GSL0002</td>\n",
       "      <td>ハイオク</td>\n",
       "      <td>45</td>\n",
       "      <td>160</td>\n",
       "      <td>7200</td>\n",
       "    </tr>\n",
       "    <tr>\n",
       "      <th>2</th>\n",
       "      <td>ICHIGO</td>\n",
       "      <td>6</td>\n",
       "      <td>012</td>\n",
       "      <td>2020/11/30</td>\n",
       "      <td>岸辺</td>\n",
       "      <td>2.0</td>\n",
       "      <td>2020-11-15 00:00:00</td>\n",
       "      <td>GSL0003</td>\n",
       "      <td>軽油</td>\n",
       "      <td>50</td>\n",
       "      <td>100</td>\n",
       "      <td>5000</td>\n",
       "    </tr>\n",
       "    <tr>\n",
       "      <th>3</th>\n",
       "      <td>ICHIGO</td>\n",
       "      <td>6</td>\n",
       "      <td>012</td>\n",
       "      <td>2020/11/30</td>\n",
       "      <td>岸辺</td>\n",
       "      <td>2.0</td>\n",
       "      <td>2020-11-15 00:00:00</td>\n",
       "      <td>GDS0002</td>\n",
       "      <td>コロン</td>\n",
       "      <td>3</td>\n",
       "      <td>800</td>\n",
       "      <td>2400</td>\n",
       "    </tr>\n",
       "    <tr>\n",
       "      <th>4</th>\n",
       "      <td>ICHIGO</td>\n",
       "      <td>6</td>\n",
       "      <td>012</td>\n",
       "      <td>2020/11/30</td>\n",
       "      <td>岸辺</td>\n",
       "      <td>2.0</td>\n",
       "      <td>2020-11-20 00:00:00</td>\n",
       "      <td>CMT0004</td>\n",
       "      <td>オイル交換</td>\n",
       "      <td>1</td>\n",
       "      <td>1000</td>\n",
       "      <td>1000</td>\n",
       "    </tr>\n",
       "  </tbody>\n",
       "</table>\n",
       "</div>"
      ],
      "text/plain": [
       "10     企業名  企業コード 請求書No         発行日 発行者  発行者コード                   日付    商品コード  \\\n",
       "0   ICHIGO      6   012  2020/11/30  岸辺     2.0  2020-11-12 00:00:00  GSL0001   \n",
       "1   ICHIGO      6   012  2020/11/30  岸辺     2.0  2020-11-12 00:00:00  GSL0002   \n",
       "2   ICHIGO      6   012  2020/11/30  岸辺     2.0  2020-11-15 00:00:00  GSL0003   \n",
       "3   ICHIGO      6   012  2020/11/30  岸辺     2.0  2020-11-15 00:00:00  GDS0002   \n",
       "4   ICHIGO      6   012  2020/11/30  岸辺     2.0  2020-11-20 00:00:00  CMT0004   \n",
       "\n",
       "10     品名 数量[L] or [-] 単価[¥/L] or [¥]    金額  \n",
       "0   レギュラー           20            120  2400  \n",
       "1    ハイオク           45            160  7200  \n",
       "2      軽油           50            100  5000  \n",
       "3     コロン            3            800  2400  \n",
       "4   オイル交換            1           1000  1000  "
      ]
     },
     "execution_count": 63,
     "metadata": {},
     "output_type": "execute_result"
    }
   ],
   "source": [
    "df.head()"
   ]
  },
  {
   "cell_type": "code",
   "execution_count": 64,
   "id": "916ef61d-8060-49ea-89b5-8308a04f8ea3",
   "metadata": {},
   "outputs": [],
   "source": [
    "df.to_excel('20210110_Python_Excel_02/output/all_data_02.xlsx', index=False)"
   ]
  },
  {
   "cell_type": "code",
   "execution_count": 65,
   "id": "7f062032-cbe7-4eb5-851c-1c79202be5d8",
   "metadata": {},
   "outputs": [],
   "source": [
    "members = df['発行者'].unique()"
   ]
  },
  {
   "cell_type": "code",
   "execution_count": 66,
   "id": "a9bbc35c-79bb-497d-8aef-dbc12d9cb13f",
   "metadata": {},
   "outputs": [
    {
     "data": {
      "text/plain": [
       "'岸辺'"
      ]
     },
     "execution_count": 66,
     "metadata": {},
     "output_type": "execute_result"
    }
   ],
   "source": [
    "member = members[0]\n",
    "member"
   ]
  },
  {
   "cell_type": "code",
   "execution_count": 67,
   "id": "ca500ac7-c39b-4b33-9ffe-0b212d83e755",
   "metadata": {},
   "outputs": [
    {
     "data": {
      "text/html": [
       "<div>\n",
       "<style scoped>\n",
       "    .dataframe tbody tr th:only-of-type {\n",
       "        vertical-align: middle;\n",
       "    }\n",
       "\n",
       "    .dataframe tbody tr th {\n",
       "        vertical-align: top;\n",
       "    }\n",
       "\n",
       "    .dataframe thead th {\n",
       "        text-align: right;\n",
       "    }\n",
       "</style>\n",
       "<table border=\"1\" class=\"dataframe\">\n",
       "  <thead>\n",
       "    <tr style=\"text-align: right;\">\n",
       "      <th>10</th>\n",
       "      <th>企業名</th>\n",
       "      <th>企業コード</th>\n",
       "      <th>請求書No</th>\n",
       "      <th>発行日</th>\n",
       "      <th>発行者</th>\n",
       "      <th>発行者コード</th>\n",
       "      <th>日付</th>\n",
       "      <th>商品コード</th>\n",
       "      <th>品名</th>\n",
       "      <th>数量[L] or [-]</th>\n",
       "      <th>単価[¥/L] or [¥]</th>\n",
       "      <th>金額</th>\n",
       "    </tr>\n",
       "  </thead>\n",
       "  <tbody>\n",
       "    <tr>\n",
       "      <th>0</th>\n",
       "      <td>ICHIGO</td>\n",
       "      <td>6</td>\n",
       "      <td>012</td>\n",
       "      <td>2020/11/30</td>\n",
       "      <td>岸辺</td>\n",
       "      <td>2.0</td>\n",
       "      <td>2020-11-12 00:00:00</td>\n",
       "      <td>GSL0001</td>\n",
       "      <td>レギュラー</td>\n",
       "      <td>20</td>\n",
       "      <td>120</td>\n",
       "      <td>2400</td>\n",
       "    </tr>\n",
       "    <tr>\n",
       "      <th>1</th>\n",
       "      <td>ICHIGO</td>\n",
       "      <td>6</td>\n",
       "      <td>012</td>\n",
       "      <td>2020/11/30</td>\n",
       "      <td>岸辺</td>\n",
       "      <td>2.0</td>\n",
       "      <td>2020-11-12 00:00:00</td>\n",
       "      <td>GSL0002</td>\n",
       "      <td>ハイオク</td>\n",
       "      <td>45</td>\n",
       "      <td>160</td>\n",
       "      <td>7200</td>\n",
       "    </tr>\n",
       "    <tr>\n",
       "      <th>2</th>\n",
       "      <td>ICHIGO</td>\n",
       "      <td>6</td>\n",
       "      <td>012</td>\n",
       "      <td>2020/11/30</td>\n",
       "      <td>岸辺</td>\n",
       "      <td>2.0</td>\n",
       "      <td>2020-11-15 00:00:00</td>\n",
       "      <td>GSL0003</td>\n",
       "      <td>軽油</td>\n",
       "      <td>50</td>\n",
       "      <td>100</td>\n",
       "      <td>5000</td>\n",
       "    </tr>\n",
       "    <tr>\n",
       "      <th>3</th>\n",
       "      <td>ICHIGO</td>\n",
       "      <td>6</td>\n",
       "      <td>012</td>\n",
       "      <td>2020/11/30</td>\n",
       "      <td>岸辺</td>\n",
       "      <td>2.0</td>\n",
       "      <td>2020-11-15 00:00:00</td>\n",
       "      <td>GDS0002</td>\n",
       "      <td>コロン</td>\n",
       "      <td>3</td>\n",
       "      <td>800</td>\n",
       "      <td>2400</td>\n",
       "    </tr>\n",
       "    <tr>\n",
       "      <th>4</th>\n",
       "      <td>ICHIGO</td>\n",
       "      <td>6</td>\n",
       "      <td>012</td>\n",
       "      <td>2020/11/30</td>\n",
       "      <td>岸辺</td>\n",
       "      <td>2.0</td>\n",
       "      <td>2020-11-20 00:00:00</td>\n",
       "      <td>CMT0004</td>\n",
       "      <td>オイル交換</td>\n",
       "      <td>1</td>\n",
       "      <td>1000</td>\n",
       "      <td>1000</td>\n",
       "    </tr>\n",
       "  </tbody>\n",
       "</table>\n",
       "</div>"
      ],
      "text/plain": [
       "10     企業名  企業コード 請求書No         発行日 発行者  発行者コード                   日付    商品コード  \\\n",
       "0   ICHIGO      6   012  2020/11/30  岸辺     2.0  2020-11-12 00:00:00  GSL0001   \n",
       "1   ICHIGO      6   012  2020/11/30  岸辺     2.0  2020-11-12 00:00:00  GSL0002   \n",
       "2   ICHIGO      6   012  2020/11/30  岸辺     2.0  2020-11-15 00:00:00  GSL0003   \n",
       "3   ICHIGO      6   012  2020/11/30  岸辺     2.0  2020-11-15 00:00:00  GDS0002   \n",
       "4   ICHIGO      6   012  2020/11/30  岸辺     2.0  2020-11-20 00:00:00  CMT0004   \n",
       "\n",
       "10     品名 数量[L] or [-] 単価[¥/L] or [¥]    金額  \n",
       "0   レギュラー           20            120  2400  \n",
       "1    ハイオク           45            160  7200  \n",
       "2      軽油           50            100  5000  \n",
       "3     コロン            3            800  2400  \n",
       "4   オイル交換            1           1000  1000  "
      ]
     },
     "execution_count": 67,
     "metadata": {},
     "output_type": "execute_result"
    }
   ],
   "source": [
    "_df = df[df['発行者'] == member]\n",
    "_df.head()"
   ]
  },
  {
   "cell_type": "code",
   "execution_count": 68,
   "id": "eaaca3fd-dbe6-447e-8852-8b7f95bc743b",
   "metadata": {},
   "outputs": [
    {
     "data": {
      "text/plain": [
       "120300"
      ]
     },
     "execution_count": 68,
     "metadata": {},
     "output_type": "execute_result"
    }
   ],
   "source": [
    "_df['金額'].sum()"
   ]
  },
  {
   "cell_type": "code",
   "execution_count": 69,
   "id": "1a8bf0de-6c23-49ce-a4c5-a4a7b195f4d7",
   "metadata": {},
   "outputs": [
    {
     "data": {
      "text/plain": [
       "array(['ICHIGO', 'TTT Inc.'], dtype=object)"
      ]
     },
     "execution_count": 69,
     "metadata": {},
     "output_type": "execute_result"
    }
   ],
   "source": [
    "companies = _df['企業名'].unique()\n",
    "companies"
   ]
  },
  {
   "cell_type": "code",
   "execution_count": 70,
   "id": "5edecd30-4e39-4b15-866e-a31d52a5cb0a",
   "metadata": {},
   "outputs": [
    {
     "data": {
      "text/plain": [
       "30900"
      ]
     },
     "execution_count": 70,
     "metadata": {},
     "output_type": "execute_result"
    }
   ],
   "source": [
    "_df[_df['企業名'] == companies[0]]['金額'].sum()"
   ]
  },
  {
   "cell_type": "code",
   "execution_count": 71,
   "id": "336c9dcf-d311-43fe-9f30-d08c07afefdc",
   "metadata": {},
   "outputs": [
    {
     "data": {
      "text/plain": [
       "89400"
      ]
     },
     "execution_count": 71,
     "metadata": {},
     "output_type": "execute_result"
    }
   ],
   "source": [
    "_df[_df['企業名'] == companies[1]]['金額'].sum()"
   ]
  },
  {
   "cell_type": "code",
   "execution_count": 72,
   "id": "ff2560ab-5cad-4e98-94ff-2d4267ad06e0",
   "metadata": {},
   "outputs": [
    {
     "data": {
      "text/plain": [
       "120300"
      ]
     },
     "execution_count": 72,
     "metadata": {},
     "output_type": "execute_result"
    }
   ],
   "source": [
    "tot_earnings = _df['金額'].sum()\n",
    "tot_earnings"
   ]
  },
  {
   "cell_type": "code",
   "execution_count": 74,
   "id": "8921d0b5-da60-460f-a095-0fb46a9712b6",
   "metadata": {},
   "outputs": [
    {
     "data": {
      "text/html": [
       "<div>\n",
       "<style scoped>\n",
       "    .dataframe tbody tr th:only-of-type {\n",
       "        vertical-align: middle;\n",
       "    }\n",
       "\n",
       "    .dataframe tbody tr th {\n",
       "        vertical-align: top;\n",
       "    }\n",
       "\n",
       "    .dataframe thead th {\n",
       "        text-align: right;\n",
       "    }\n",
       "</style>\n",
       "<table border=\"1\" class=\"dataframe\">\n",
       "  <thead>\n",
       "    <tr style=\"text-align: right;\">\n",
       "      <th></th>\n",
       "      <th>担当者</th>\n",
       "      <th>企業名</th>\n",
       "      <th>金額</th>\n",
       "    </tr>\n",
       "  </thead>\n",
       "  <tbody>\n",
       "    <tr>\n",
       "      <th>0</th>\n",
       "      <td>岸辺</td>\n",
       "      <td>全体</td>\n",
       "      <td>120300</td>\n",
       "    </tr>\n",
       "  </tbody>\n",
       "</table>\n",
       "</div>"
      ],
      "text/plain": [
       "  担当者 企業名      金額\n",
       "0  岸辺  全体  120300"
      ]
     },
     "execution_count": 74,
     "metadata": {},
     "output_type": "execute_result"
    }
   ],
   "source": [
    "pd.DataFrame({'担当者': member, '企業名': '全体', '金額': tot_earnings}, index = [0])"
   ]
  },
  {
   "cell_type": "code",
   "execution_count": 85,
   "id": "66363f85-aec5-443f-bc84-fd7e485bb764",
   "metadata": {},
   "outputs": [
    {
     "data": {
      "text/plain": [
       "'ICHIGO'"
      ]
     },
     "execution_count": 85,
     "metadata": {},
     "output_type": "execute_result"
    }
   ],
   "source": [
    "company = companies[0]\n",
    "company"
   ]
  },
  {
   "cell_type": "code",
   "execution_count": 86,
   "id": "17ad0f0c-c7ad-45d0-983b-a4eed1fc2dc9",
   "metadata": {},
   "outputs": [
    {
     "data": {
      "text/plain": [
       "30900"
      ]
     },
     "execution_count": 86,
     "metadata": {},
     "output_type": "execute_result"
    }
   ],
   "source": [
    "earnings = _df[_df['企業名'] == company]['金額'].sum()\n",
    "earnings"
   ]
  },
  {
   "cell_type": "code",
   "execution_count": 87,
   "id": "ab2bc059-9e80-4f1c-82c6-df047fcdc3ba",
   "metadata": {},
   "outputs": [
    {
     "data": {
      "text/html": [
       "<div>\n",
       "<style scoped>\n",
       "    .dataframe tbody tr th:only-of-type {\n",
       "        vertical-align: middle;\n",
       "    }\n",
       "\n",
       "    .dataframe tbody tr th {\n",
       "        vertical-align: top;\n",
       "    }\n",
       "\n",
       "    .dataframe thead th {\n",
       "        text-align: right;\n",
       "    }\n",
       "</style>\n",
       "<table border=\"1\" class=\"dataframe\">\n",
       "  <thead>\n",
       "    <tr style=\"text-align: right;\">\n",
       "      <th></th>\n",
       "      <th>企業名</th>\n",
       "      <th>金額</th>\n",
       "    </tr>\n",
       "  </thead>\n",
       "  <tbody>\n",
       "    <tr>\n",
       "      <th>1</th>\n",
       "      <td>ICHIGO</td>\n",
       "      <td>30900</td>\n",
       "    </tr>\n",
       "  </tbody>\n",
       "</table>\n",
       "</div>"
      ],
      "text/plain": [
       "      企業名     金額\n",
       "1  ICHIGO  30900"
      ]
     },
     "execution_count": 87,
     "metadata": {},
     "output_type": "execute_result"
    }
   ],
   "source": [
    "pd.DataFrame({'企業名': company, '金額': earnings}, index = [1])"
   ]
  },
  {
   "cell_type": "code",
   "execution_count": 92,
   "id": "5ee7b624-74df-44e3-9ad7-bd122d6bddeb",
   "metadata": {},
   "outputs": [
    {
     "data": {
      "text/plain": [
       "{'担当者': '岸辺', '企業名': '全体', '金額': 120300}"
      ]
     },
     "execution_count": 92,
     "metadata": {},
     "output_type": "execute_result"
    }
   ],
   "source": [
    "{'担当者': member, '企業名': '全体', '金額': tot_earnings}"
   ]
  },
  {
   "cell_type": "code",
   "execution_count": 94,
   "id": "a0b2f3d3-0adb-4698-8140-b82be29f098f",
   "metadata": {},
   "outputs": [
    {
     "data": {
      "text/plain": [
       "{'担当者': '岸辺', '企業名': '全体', '金額': 120300}"
      ]
     },
     "execution_count": 94,
     "metadata": {},
     "output_type": "execute_result"
    }
   ],
   "source": [
    "dict(担当者=member, 企業名='全体', 金額=tot_earnings)"
   ]
  },
  {
   "cell_type": "code",
   "execution_count": 95,
   "id": "14aadf93-351a-46ab-a623-46245f44c405",
   "metadata": {},
   "outputs": [
    {
     "data": {
      "text/plain": [
       "{'企業名': 'ICHIGO', '金額': 30900}"
      ]
     },
     "execution_count": 95,
     "metadata": {},
     "output_type": "execute_result"
    }
   ],
   "source": [
    "dict(企業名=company, 金額=earnings)"
   ]
  },
  {
   "cell_type": "code",
   "execution_count": 97,
   "id": "b11e2ebd-9c55-4685-abe2-f52956c28000",
   "metadata": {},
   "outputs": [],
   "source": [
    "total_res = []\n",
    "for member in members:\n",
    "    _df = df[df['発行者'] == member]\n",
    "    companies = _df['企業名'].unique()\n",
    "\n",
    "    tot_earnings = _df['金額'].sum()\n",
    "    total_res.append(dict(担当者=member, 企業名='全体', 金額=tot_earnings))\n",
    "\n",
    "    for company in companies:\n",
    "        earnings = _df[_df['企業名'] == company]['金額'].sum()\n",
    "        total_res.append(dict(企業名=company, 金額=earnings))"
   ]
  },
  {
   "cell_type": "code",
   "execution_count": 98,
   "id": "0f5f4701-abd1-404b-a126-916147403259",
   "metadata": {},
   "outputs": [
    {
     "data": {
      "text/plain": [
       "[{'担当者': '岸辺', '企業名': '全体', '金額': 120300},\n",
       " {'企業名': 'ICHIGO', '金額': 30900},\n",
       " {'企業名': 'TTT Inc.', '金額': 89400},\n",
       " {'担当者': '桜田', '企業名': '全体', '金額': 154400},\n",
       " {'企業名': 'STR Corp.', '金額': 55300},\n",
       " {'企業名': 'CDF商事', '金額': 39000},\n",
       " {'企業名': '株式会社ABC', '金額': 60100},\n",
       " {'担当者': '山岡', '企業名': '全体', '金額': 35800},\n",
       " {'企業名': 'XYZ株式会社', '金額': 35800}]"
      ]
     },
     "execution_count": 98,
     "metadata": {},
     "output_type": "execute_result"
    }
   ],
   "source": [
    "total_res"
   ]
  },
  {
   "cell_type": "code",
   "execution_count": 99,
   "id": "605e6b80-19eb-4c2b-a8c0-827dc79959b3",
   "metadata": {},
   "outputs": [
    {
     "data": {
      "text/html": [
       "<div>\n",
       "<style scoped>\n",
       "    .dataframe tbody tr th:only-of-type {\n",
       "        vertical-align: middle;\n",
       "    }\n",
       "\n",
       "    .dataframe tbody tr th {\n",
       "        vertical-align: top;\n",
       "    }\n",
       "\n",
       "    .dataframe thead th {\n",
       "        text-align: right;\n",
       "    }\n",
       "</style>\n",
       "<table border=\"1\" class=\"dataframe\">\n",
       "  <thead>\n",
       "    <tr style=\"text-align: right;\">\n",
       "      <th></th>\n",
       "      <th>担当者</th>\n",
       "      <th>企業名</th>\n",
       "      <th>金額</th>\n",
       "    </tr>\n",
       "  </thead>\n",
       "  <tbody>\n",
       "    <tr>\n",
       "      <th>0</th>\n",
       "      <td>岸辺</td>\n",
       "      <td>全体</td>\n",
       "      <td>120300</td>\n",
       "    </tr>\n",
       "    <tr>\n",
       "      <th>1</th>\n",
       "      <td>NaN</td>\n",
       "      <td>ICHIGO</td>\n",
       "      <td>30900</td>\n",
       "    </tr>\n",
       "    <tr>\n",
       "      <th>2</th>\n",
       "      <td>NaN</td>\n",
       "      <td>TTT Inc.</td>\n",
       "      <td>89400</td>\n",
       "    </tr>\n",
       "    <tr>\n",
       "      <th>3</th>\n",
       "      <td>桜田</td>\n",
       "      <td>全体</td>\n",
       "      <td>154400</td>\n",
       "    </tr>\n",
       "    <tr>\n",
       "      <th>4</th>\n",
       "      <td>NaN</td>\n",
       "      <td>STR Corp.</td>\n",
       "      <td>55300</td>\n",
       "    </tr>\n",
       "    <tr>\n",
       "      <th>5</th>\n",
       "      <td>NaN</td>\n",
       "      <td>CDF商事</td>\n",
       "      <td>39000</td>\n",
       "    </tr>\n",
       "    <tr>\n",
       "      <th>6</th>\n",
       "      <td>NaN</td>\n",
       "      <td>株式会社ABC</td>\n",
       "      <td>60100</td>\n",
       "    </tr>\n",
       "    <tr>\n",
       "      <th>7</th>\n",
       "      <td>山岡</td>\n",
       "      <td>全体</td>\n",
       "      <td>35800</td>\n",
       "    </tr>\n",
       "    <tr>\n",
       "      <th>8</th>\n",
       "      <td>NaN</td>\n",
       "      <td>XYZ株式会社</td>\n",
       "      <td>35800</td>\n",
       "    </tr>\n",
       "  </tbody>\n",
       "</table>\n",
       "</div>"
      ],
      "text/plain": [
       "   担当者        企業名      金額\n",
       "0   岸辺         全体  120300\n",
       "1  NaN     ICHIGO   30900\n",
       "2  NaN   TTT Inc.   89400\n",
       "3   桜田         全体  154400\n",
       "4  NaN  STR Corp.   55300\n",
       "5  NaN      CDF商事   39000\n",
       "6  NaN    株式会社ABC   60100\n",
       "7   山岡         全体   35800\n",
       "8  NaN    XYZ株式会社   35800"
      ]
     },
     "execution_count": 99,
     "metadata": {},
     "output_type": "execute_result"
    }
   ],
   "source": [
    "pd.DataFrame(total_res, columns=['担当者', '企業名', '金額'])"
   ]
  }
 ],
 "metadata": {
  "kernelspec": {
   "display_name": "Python 3",
   "language": "python",
   "name": "python3"
  },
  "language_info": {
   "codemirror_mode": {
    "name": "ipython",
    "version": 3
   },
   "file_extension": ".py",
   "mimetype": "text/x-python",
   "name": "python",
   "nbconvert_exporter": "python",
   "pygments_lexer": "ipython3",
   "version": "3.8.8"
  }
 },
 "nbformat": 4,
 "nbformat_minor": 5
}
