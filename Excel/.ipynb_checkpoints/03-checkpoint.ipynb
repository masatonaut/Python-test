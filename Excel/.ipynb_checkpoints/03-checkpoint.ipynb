{
 "cells": [
  {
   "cell_type": "code",
   "execution_count": 1,
   "id": "8e116ef5-97be-4305-9c00-db4bd676b3fd",
   "metadata": {},
   "outputs": [],
   "source": [
    "import openpyxl\n",
    "from openpyxl.styles import Alignment, PatternFill, Font, Border, Side"
   ]
  },
  {
   "cell_type": "code",
   "execution_count": 2,
   "id": "01f67506-c9e4-4677-9563-12c328f109d9",
   "metadata": {},
   "outputs": [],
   "source": [
    "from glob import glob"
   ]
  },
  {
   "cell_type": "code",
   "execution_count": 9,
   "id": "dcee8a64-b6d9-439d-8eb3-e5427d413c54",
   "metadata": {},
   "outputs": [
    {
     "data": {
      "text/plain": [
       "'20210113_Python_Excel_03/sources/企業別年間売上表.xlsx'"
      ]
     },
     "execution_count": 9,
     "metadata": {},
     "output_type": "execute_result"
    }
   ],
   "source": [
    "filepath = glob('20210113_Python_Excel_03/sources/企業別年間売上表.xlsx')[0]\n",
    "filepath"
   ]
  },
  {
   "cell_type": "code",
   "execution_count": 11,
   "id": "4120f582-513e-4a50-8eee-2e0761fa0e0f",
   "metadata": {},
   "outputs": [],
   "source": [
    "wb = openpyxl.load_workbook(filepath)\n",
    "sh = wb.active"
   ]
  },
  {
   "cell_type": "code",
   "execution_count": 13,
   "id": "5518f1bb-df6b-427a-8d4c-5591599e95b9",
   "metadata": {},
   "outputs": [],
   "source": [
    "max_col = sh.max_column"
   ]
  },
  {
   "cell_type": "code",
   "execution_count": 14,
   "id": "1abe36dd-71d0-4f13-bc0e-0c74de3b7c6e",
   "metadata": {},
   "outputs": [],
   "source": [
    "import string"
   ]
  },
  {
   "cell_type": "code",
   "execution_count": 17,
   "id": "bb55fb9e-ba22-4a32-b813-e5ceba48e09e",
   "metadata": {},
   "outputs": [
    {
     "data": {
      "text/plain": [
       "'ABCDEFGHIJKLMNO'"
      ]
     },
     "execution_count": 17,
     "metadata": {},
     "output_type": "execute_result"
    }
   ],
   "source": [
    "cols = string.ascii_uppercase[:max_col]\n",
    "cols"
   ]
  },
  {
   "cell_type": "code",
   "execution_count": 19,
   "id": "268a91c9-052b-4855-b9a3-83c0d6a676ba",
   "metadata": {},
   "outputs": [
    {
     "data": {
      "text/plain": [
       "[12, 12, 12, 12, 12, 12, 12, 12, 12, 12, 12, 12, 12, 12, 12]"
      ]
     },
     "execution_count": 19,
     "metadata": {},
     "output_type": "execute_result"
    }
   ],
   "source": [
    "widths = [12]*max_col\n",
    "widths"
   ]
  },
  {
   "cell_type": "code",
   "execution_count": 21,
   "id": "e8acde25-8a1b-4b6b-a4d8-c8ed73a4880a",
   "metadata": {},
   "outputs": [],
   "source": [
    "widths[0] = 10\n",
    "widths[1] = 18"
   ]
  },
  {
   "cell_type": "code",
   "execution_count": 22,
   "id": "884226be-d9eb-4677-8ce6-f6f09d74a16b",
   "metadata": {},
   "outputs": [
    {
     "data": {
      "text/plain": [
       "[10, 18, 12, 12, 12, 12, 12, 12, 12, 12, 12, 12, 12, 12, 12]"
      ]
     },
     "execution_count": 22,
     "metadata": {},
     "output_type": "execute_result"
    }
   ],
   "source": [
    "widths"
   ]
  },
  {
   "cell_type": "code",
   "execution_count": 28,
   "id": "38abd95a-b9a0-4c91-afde-02645df24c54",
   "metadata": {},
   "outputs": [
    {
     "name": "stdout",
     "output_type": "stream",
     "text": [
      "A 10\n",
      "B 18\n",
      "C 12\n",
      "D 12\n",
      "E 12\n",
      "F 12\n",
      "G 12\n",
      "H 12\n",
      "I 12\n",
      "J 12\n",
      "K 12\n",
      "L 12\n",
      "M 12\n",
      "N 12\n",
      "O 12\n"
     ]
    }
   ],
   "source": [
    "width_prefs = {}\n",
    "\n",
    "for col, width in zip(cols, widths):\n",
    "    print(col, width)"
   ]
  },
  {
   "cell_type": "code",
   "execution_count": 29,
   "id": "77bb27f1-413c-4ae2-860a-9fdf0127063f",
   "metadata": {},
   "outputs": [],
   "source": [
    "width_prefs = {}\n",
    "\n",
    "for col, width in zip(cols, widths):\n",
    "    width_prefs.update({col: width})"
   ]
  },
  {
   "cell_type": "code",
   "execution_count": 30,
   "id": "e34e265d-a799-4b57-8fc4-ef91126f6032",
   "metadata": {},
   "outputs": [
    {
     "data": {
      "text/plain": [
       "{'A': 10,\n",
       " 'B': 18,\n",
       " 'C': 12,\n",
       " 'D': 12,\n",
       " 'E': 12,\n",
       " 'F': 12,\n",
       " 'G': 12,\n",
       " 'H': 12,\n",
       " 'I': 12,\n",
       " 'J': 12,\n",
       " 'K': 12,\n",
       " 'L': 12,\n",
       " 'M': 12,\n",
       " 'N': 12,\n",
       " 'O': 12}"
      ]
     },
     "execution_count": 30,
     "metadata": {},
     "output_type": "execute_result"
    }
   ],
   "source": [
    "width_prefs"
   ]
  },
  {
   "cell_type": "code",
   "execution_count": 32,
   "id": "9f5c7e23-3419-4f31-878d-7c4db88e4d3c",
   "metadata": {},
   "outputs": [],
   "source": [
    "col_name = 'A'\n",
    "sh.column_dimensions[col_name].width = width_prefs[col_name]"
   ]
  },
  {
   "cell_type": "code",
   "execution_count": 34,
   "id": "d9bafa08-be6a-43ba-924e-6ced77ab7a1e",
   "metadata": {},
   "outputs": [],
   "source": [
    "for col_name in width_prefs:\n",
    "    sh.column_dimensions[col_name].width = width_prefs[col_name]"
   ]
  },
  {
   "cell_type": "code",
   "execution_count": 35,
   "id": "fa33a89a-d794-492b-a7b3-7ef488eb57de",
   "metadata": {},
   "outputs": [],
   "source": [
    "wb.save(filepath)"
   ]
  },
  {
   "cell_type": "code",
   "execution_count": 36,
   "id": "fb9b9114-8aaa-4c51-a320-34869cab3329",
   "metadata": {},
   "outputs": [],
   "source": [
    "sh.row_dimensions[2].height = 18"
   ]
  },
  {
   "cell_type": "code",
   "execution_count": 39,
   "id": "896fa223-da29-494a-876d-626748477f3b",
   "metadata": {},
   "outputs": [
    {
     "data": {
      "text/plain": [
       "[2, 3, 4, 5, 6, 7, 8, 9, 10, 11]"
      ]
     },
     "execution_count": 39,
     "metadata": {},
     "output_type": "execute_result"
    }
   ],
   "source": [
    "# 行\n",
    "list(range(2, sh.max_row+1))"
   ]
  },
  {
   "cell_type": "code",
   "execution_count": 40,
   "id": "b2deff9b-f01c-47e3-8bc6-30b3434801c8",
   "metadata": {},
   "outputs": [
    {
     "data": {
      "text/plain": [
       "[3, 4, 5, 6, 7, 8, 9, 10, 11, 12, 13, 14, 15]"
      ]
     },
     "execution_count": 40,
     "metadata": {},
     "output_type": "execute_result"
    }
   ],
   "source": [
    "# 列\n",
    "list(range(3, sh.max_column+1))"
   ]
  },
  {
   "cell_type": "code",
   "execution_count": 42,
   "id": "37d10679-a6cb-4c57-b86c-0fb134c4e256",
   "metadata": {},
   "outputs": [],
   "source": [
    "for i in range(2, sh.max_row+1):# 1行ずつ\n",
    "    sh.row_dimensions[i].height = 18\n",
    "    for j in range(3, sh.max_column+1): # 1列ずつ\n",
    "        sh.cell(row=i, column=j).number_format = '#,##0'\n",
    "        if j==sh.max_column:# 最終列のみ適用\n",
    "            sh.cell(row=i, column=j).font = Font(bold=True)"
   ]
  },
  {
   "cell_type": "code",
   "execution_count": 47,
   "id": "190d78d6-a26c-4190-b8b5-c78d2e3c3382",
   "metadata": {},
   "outputs": [],
   "source": [
    "TITLE_CELL_COLOR = '808080'\n",
    "\n",
    "font_header = Font(name='平成角ゴ-W5', size=12, bold=True, color='FFFFFF')\n",
    "\n",
    "for i in range(1, sh.max_column+1):\n",
    "    cell = sh.cell(row=1, column=i)\n",
    "    cell.fill = PatternFill(patternType='solid', fgColor=TITLE_CELL_COLOR)\n",
    "    cell.alignment = Alignment(horizontal='center')\n",
    "    cell.font = font_header"
   ]
  },
  {
   "cell_type": "code",
   "execution_count": 49,
   "id": "4d5e2e80-3f47-49af-a0d3-1b0a460ce2e9",
   "metadata": {},
   "outputs": [],
   "source": [
    "side = Side(style='thin', color='000000')\n",
    "border = Border(left=side, right=side, top=side, bottom=side)\n",
    "\n",
    "for row in sh:\n",
    "    for cell in row:\n",
    "        cell.border = border"
   ]
  },
  {
   "cell_type": "code",
   "execution_count": 50,
   "id": "e0fc9731-a40c-4dcf-a815-b3616a102b5a",
   "metadata": {},
   "outputs": [],
   "source": [
    "sh.freeze_panes = 'C2'"
   ]
  },
  {
   "cell_type": "code",
   "execution_count": 51,
   "id": "1b52bc95-3836-4a1a-999f-be471f094d58",
   "metadata": {},
   "outputs": [],
   "source": [
    "new_filepath = '20210113_Python_Excel_03/output/企業別年間売上表_修正.xlsx'\n",
    "wb.save(new_filepath)"
   ]
  },
  {
   "cell_type": "code",
   "execution_count": 52,
   "id": "3115cb56-8d57-41a0-9932-469d43a222d2",
   "metadata": {},
   "outputs": [
    {
     "name": "stdout",
     "output_type": "stream",
     "text": [
      "Collecting reportlab\n",
      "  Downloading reportlab-3.6.2-cp38-cp38-macosx_10_9_x86_64.whl (2.4 MB)\n",
      "     |████████████████████████████████| 2.4 MB 8.6 MB/s            \n",
      "\u001b[?25hRequirement already satisfied: pillow>=4.0.0 in /Users/masato.ito/opt/anaconda3/lib/python3.8/site-packages (from reportlab) (8.2.0)\n",
      "Installing collected packages: reportlab\n",
      "Successfully installed reportlab-3.6.2\n"
     ]
    }
   ],
   "source": [
    "!pip3 install reportlab"
   ]
  },
  {
   "cell_type": "code",
   "execution_count": 55,
   "id": "27284afc-6f8c-4ba6-bc18-2cde0229f3d5",
   "metadata": {},
   "outputs": [],
   "source": [
    "from openpyxl import load_workbook\n",
    "\n",
    "from reportlab.pdfbase.cidfonts import UnicodeCIDFont\n",
    "from reportlab.pdfbase import pdfmetrics\n",
    "from reportlab.platypus import SimpleDocTemplate, Table, TableStyle\n",
    "from reportlab.lib.pagesizes import A4, landscape\n",
    "from reportlab.lib import colors"
   ]
  },
  {
   "cell_type": "code",
   "execution_count": 62,
   "id": "514f4ef1-5af3-4faf-aca2-4a272936bf6c",
   "metadata": {},
   "outputs": [],
   "source": [
    "def pdf_gen(file_pdf,sh):\n",
    "    doc = SimpleDocTemplate(file_pdf, pagesize=landscape(A4))\n",
    "    fontname_g = 'HeiseiKakuGo-W5'\n",
    "    pdfmetrics.registerFont(UnicodeCIDFont(fontname_g))\n",
    "    elements = []\n",
    "    data = []\n",
    "    for row in sh.rows:\n",
    "        unit_aa = []\n",
    "        for cell in row:\n",
    "            unit_aa.append(cell.value)\n",
    "        data.append(unit_aa)\n",
    "    tt=Table(data)\n",
    "    \n",
    "    tt.setStyle(TableStyle([\n",
    "        ('BACKGROUND',(0,0),(-1,0),colors.gray),\n",
    "        ('TEXTCOLOR',(0,0),(-1,0),colors.white),\n",
    "        ('ALIGN',(0,0),(-1,0),'CENTER'),\n",
    "        ('ALIGN',(2,1),(-1,-1),'RIGHT'),\n",
    "        ('ALIGN',(0,1),(-1,-1),'RIGHT'),\n",
    "        ('FONT',(0,0),(-1,-1), 'HeiseiKakuGo-W5', 8.5),\n",
    "        ('GRID',(0,0),(-1,-1), 0.25, colors.black),\n",
    "    ]))\n",
    "    \n",
    "    elements.append(tt)\n",
    "    doc.build(elements)"
   ]
  },
  {
   "cell_type": "code",
   "execution_count": 63,
   "id": "cae792ba-7f67-4c23-8ae9-3e7bce0c02a9",
   "metadata": {},
   "outputs": [
    {
     "data": {
      "text/plain": [
       "'20210113_Python_Excel_03/output/企業別年間売上表_修正.xlsx'"
      ]
     },
     "execution_count": 63,
     "metadata": {},
     "output_type": "execute_result"
    }
   ],
   "source": [
    "new_filepath"
   ]
  },
  {
   "cell_type": "code",
   "execution_count": 64,
   "id": "cf3fd5da-b29d-4c78-9474-ca505da49241",
   "metadata": {},
   "outputs": [],
   "source": [
    "wb = load_workbook(new_filepath)\n",
    "sh = wb.active"
   ]
  },
  {
   "cell_type": "code",
   "execution_count": 65,
   "id": "1f547902-09f2-40ad-b5ec-59938faac740",
   "metadata": {},
   "outputs": [],
   "source": [
    "file_pdf = '20210113_Python_Excel_03/output/output.pdf'"
   ]
  },
  {
   "cell_type": "code",
   "execution_count": 66,
   "id": "79507731-db8b-4dbc-a0bd-c5ba121416ef",
   "metadata": {},
   "outputs": [],
   "source": [
    "pdf_gen(file_pdf, sh)"
   ]
  }
 ],
 "metadata": {
  "kernelspec": {
   "display_name": "Python 3",
   "language": "python",
   "name": "python3"
  },
  "language_info": {
   "codemirror_mode": {
    "name": "ipython",
    "version": 3
   },
   "file_extension": ".py",
   "mimetype": "text/x-python",
   "name": "python",
   "nbconvert_exporter": "python",
   "pygments_lexer": "ipython3",
   "version": "3.8.8"
  }
 },
 "nbformat": 4,
 "nbformat_minor": 5
}
