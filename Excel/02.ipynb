{
 "cells": [
  {
   "cell_type": "code",
   "execution_count": 54,
   "id": "3725e21e-d7a4-41f0-abe4-52af18a32217",
   "metadata": {},
   "outputs": [],
   "source": [
    "import pandas as pd\n",
    "from glob import glob"
   ]
  },
  {
   "cell_type": "code",
   "execution_count": 55,
   "id": "4aa8550f-8805-4ae8-acbe-9a271d75be23",
   "metadata": {},
   "outputs": [
    {
     "data": {
      "text/plain": [
       "['20210110_Python_Excel_02/sources/請求書_11月_ICHIGO.xlsx',\n",
       " '20210110_Python_Excel_02/sources/請求書_12月_STR_Corp.xlsx',\n",
       " '20210110_Python_Excel_02/sources/請求書_12月_TTTInc.xlsx',\n",
       " '20210110_Python_Excel_02/sources/請求書_12月_CDF商事.xlsx',\n",
       " '20210110_Python_Excel_02/sources/請求書_12月_株式会社ABC.xlsx',\n",
       " '20210110_Python_Excel_02/sources/請求書_10月_TTTInc.xlsx',\n",
       " '20210110_Python_Excel_02/sources/請求書_11月_XYZ株式会社.xlsx']"
      ]
     },
     "execution_count": 55,
     "metadata": {},
     "output_type": "execute_result"
    }
   ],
   "source": [
    "filepaths = glob('20210110_Python_Excel_02/sources/請求書*.xlsx')\n",
    "filepaths"
   ]
  },
  {
   "cell_type": "code",
   "execution_count": 56,
   "id": "96b2dbc7-1411-4e73-ba22-18cdbe2ee524",
   "metadata": {},
   "outputs": [],
   "source": [
    "def extract(filepath):\n",
    "    _df = pd.read_excel(filepath)\n",
    "    columns = _df.iloc[10, [1, 2, 4, 10, 11, 14]]\n",
    "    df = _df.iloc[11:23, [1, 2, 4, 10, 11, 14]]\n",
    "    df.columns = columns\n",
    "    df['企業名'] = _df.iloc[2, 0]\n",
    "    df['企業コード'] = _df.iloc[3, 4]\n",
    "    df['請求書No'] = _df.iloc[2, 12]\n",
    "    df['発行日'] = _df.iloc[3, 12]\n",
    "    df['発行者'] = _df.iloc[4, 12]\n",
    "    df['発行者コード'] = _df.iloc[4, 13]\n",
    "    return df"
   ]
  },
  {
   "cell_type": "code",
   "execution_count": 57,
   "id": "d777a111-ec8e-46d6-8b86-4d7487bcc87f",
   "metadata": {},
   "outputs": [],
   "source": [
    "df = pd.DataFrame()\n",
    "\n",
    "for filepath in filepaths:\n",
    "    df = pd.concat([df, extract(filepath)])"
   ]
  },
  {
   "cell_type": "code",
   "execution_count": 58,
   "id": "285e8ea1-82cc-42db-b505-f6f4e402d70d",
   "metadata": {},
   "outputs": [
    {
     "data": {
      "text/html": [
       "<div>\n",
       "<style scoped>\n",
       "    .dataframe tbody tr th:only-of-type {\n",
       "        vertical-align: middle;\n",
       "    }\n",
       "\n",
       "    .dataframe tbody tr th {\n",
       "        vertical-align: top;\n",
       "    }\n",
       "\n",
       "    .dataframe thead th {\n",
       "        text-align: right;\n",
       "    }\n",
       "</style>\n",
       "<table border=\"1\" class=\"dataframe\">\n",
       "  <thead>\n",
       "    <tr style=\"text-align: right;\">\n",
       "      <th>10</th>\n",
       "      <th>日付</th>\n",
       "      <th>商品コード</th>\n",
       "      <th>品名</th>\n",
       "      <th>数量[L] or [-]</th>\n",
       "      <th>単価[¥/L] or [¥]</th>\n",
       "      <th>金額</th>\n",
       "      <th>企業名</th>\n",
       "      <th>企業コード</th>\n",
       "      <th>請求書No</th>\n",
       "      <th>発行日</th>\n",
       "      <th>発行者</th>\n",
       "      <th>発行者コード</th>\n",
       "    </tr>\n",
       "  </thead>\n",
       "  <tbody>\n",
       "    <tr>\n",
       "      <th>11</th>\n",
       "      <td>2020-11-12 00:00:00</td>\n",
       "      <td>GSL0001</td>\n",
       "      <td>レギュラー</td>\n",
       "      <td>20</td>\n",
       "      <td>120</td>\n",
       "      <td>2400</td>\n",
       "      <td>ICHIGO</td>\n",
       "      <td>6</td>\n",
       "      <td>012</td>\n",
       "      <td>2020/11/30</td>\n",
       "      <td>岸辺</td>\n",
       "      <td>2.0</td>\n",
       "    </tr>\n",
       "    <tr>\n",
       "      <th>12</th>\n",
       "      <td>2020-11-12 00:00:00</td>\n",
       "      <td>GSL0002</td>\n",
       "      <td>ハイオク</td>\n",
       "      <td>45</td>\n",
       "      <td>160</td>\n",
       "      <td>7200</td>\n",
       "      <td>ICHIGO</td>\n",
       "      <td>6</td>\n",
       "      <td>012</td>\n",
       "      <td>2020/11/30</td>\n",
       "      <td>岸辺</td>\n",
       "      <td>2.0</td>\n",
       "    </tr>\n",
       "    <tr>\n",
       "      <th>13</th>\n",
       "      <td>2020-11-15 00:00:00</td>\n",
       "      <td>GSL0003</td>\n",
       "      <td>軽油</td>\n",
       "      <td>50</td>\n",
       "      <td>100</td>\n",
       "      <td>5000</td>\n",
       "      <td>ICHIGO</td>\n",
       "      <td>6</td>\n",
       "      <td>012</td>\n",
       "      <td>2020/11/30</td>\n",
       "      <td>岸辺</td>\n",
       "      <td>2.0</td>\n",
       "    </tr>\n",
       "    <tr>\n",
       "      <th>14</th>\n",
       "      <td>2020-11-15 00:00:00</td>\n",
       "      <td>GDS0002</td>\n",
       "      <td>コロン</td>\n",
       "      <td>3</td>\n",
       "      <td>800</td>\n",
       "      <td>2400</td>\n",
       "      <td>ICHIGO</td>\n",
       "      <td>6</td>\n",
       "      <td>012</td>\n",
       "      <td>2020/11/30</td>\n",
       "      <td>岸辺</td>\n",
       "      <td>2.0</td>\n",
       "    </tr>\n",
       "    <tr>\n",
       "      <th>15</th>\n",
       "      <td>2020-11-20 00:00:00</td>\n",
       "      <td>CMT0004</td>\n",
       "      <td>オイル交換</td>\n",
       "      <td>1</td>\n",
       "      <td>1000</td>\n",
       "      <td>1000</td>\n",
       "      <td>ICHIGO</td>\n",
       "      <td>6</td>\n",
       "      <td>012</td>\n",
       "      <td>2020/11/30</td>\n",
       "      <td>岸辺</td>\n",
       "      <td>2.0</td>\n",
       "    </tr>\n",
       "  </tbody>\n",
       "</table>\n",
       "</div>"
      ],
      "text/plain": [
       "10                   日付    商品コード     品名 数量[L] or [-] 単価[¥/L] or [¥]    金額  \\\n",
       "11  2020-11-12 00:00:00  GSL0001  レギュラー           20            120  2400   \n",
       "12  2020-11-12 00:00:00  GSL0002   ハイオク           45            160  7200   \n",
       "13  2020-11-15 00:00:00  GSL0003     軽油           50            100  5000   \n",
       "14  2020-11-15 00:00:00  GDS0002    コロン            3            800  2400   \n",
       "15  2020-11-20 00:00:00  CMT0004  オイル交換            1           1000  1000   \n",
       "\n",
       "10     企業名  企業コード 請求書No         発行日 発行者  発行者コード  \n",
       "11  ICHIGO      6   012  2020/11/30  岸辺     2.0  \n",
       "12  ICHIGO      6   012  2020/11/30  岸辺     2.0  \n",
       "13  ICHIGO      6   012  2020/11/30  岸辺     2.0  \n",
       "14  ICHIGO      6   012  2020/11/30  岸辺     2.0  \n",
       "15  ICHIGO      6   012  2020/11/30  岸辺     2.0  "
      ]
     },
     "execution_count": 58,
     "metadata": {},
     "output_type": "execute_result"
    }
   ],
   "source": [
    "df.head()"
   ]
  },
  {
   "cell_type": "code",
   "execution_count": 59,
   "id": "33b04089-e5c1-4acc-8c59-cd1b89958f2f",
   "metadata": {},
   "outputs": [
    {
     "data": {
      "text/plain": [
       "84"
      ]
     },
     "execution_count": 59,
     "metadata": {},
     "output_type": "execute_result"
    }
   ],
   "source": [
    "len(df)"
   ]
  },
  {
   "cell_type": "code",
   "execution_count": 60,
   "id": "a8130ac8-c0da-4bd7-9e73-bea9331bb391",
   "metadata": {},
   "outputs": [],
   "source": [
    "df = df.dropna()"
   ]
  },
  {
   "cell_type": "code",
   "execution_count": 61,
   "id": "b050cac3-25cd-4113-99bc-a44c10e4fc10",
   "metadata": {},
   "outputs": [],
   "source": [
    "df = df.reset_index(drop=True)"
   ]
  },
  {
   "cell_type": "code",
   "execution_count": 62,
   "id": "00d9b19f-7ac8-43c7-8edd-4d028f21642e",
   "metadata": {},
   "outputs": [],
   "source": [
    "df = df.iloc[:, [6, 7, 8, 9, 10, 11, 0, 1, 2, 3, 4, 5]]"
   ]
  },
  {
   "cell_type": "code",
   "execution_count": 63,
   "id": "6a007e49-3d3c-4de3-8bcf-0084d7d57987",
   "metadata": {},
   "outputs": [
    {
     "data": {
      "text/html": [
       "<div>\n",
       "<style scoped>\n",
       "    .dataframe tbody tr th:only-of-type {\n",
       "        vertical-align: middle;\n",
       "    }\n",
       "\n",
       "    .dataframe tbody tr th {\n",
       "        vertical-align: top;\n",
       "    }\n",
       "\n",
       "    .dataframe thead th {\n",
       "        text-align: right;\n",
       "    }\n",
       "</style>\n",
       "<table border=\"1\" class=\"dataframe\">\n",
       "  <thead>\n",
       "    <tr style=\"text-align: right;\">\n",
       "      <th>10</th>\n",
       "      <th>企業名</th>\n",
       "      <th>企業コード</th>\n",
       "      <th>請求書No</th>\n",
       "      <th>発行日</th>\n",
       "      <th>発行者</th>\n",
       "      <th>発行者コード</th>\n",
       "      <th>日付</th>\n",
       "      <th>商品コード</th>\n",
       "      <th>品名</th>\n",
       "      <th>数量[L] or [-]</th>\n",
       "      <th>単価[¥/L] or [¥]</th>\n",
       "      <th>金額</th>\n",
       "    </tr>\n",
       "  </thead>\n",
       "  <tbody>\n",
       "    <tr>\n",
       "      <th>0</th>\n",
       "      <td>ICHIGO</td>\n",
       "      <td>6</td>\n",
       "      <td>012</td>\n",
       "      <td>2020/11/30</td>\n",
       "      <td>岸辺</td>\n",
       "      <td>2.0</td>\n",
       "      <td>2020-11-12 00:00:00</td>\n",
       "      <td>GSL0001</td>\n",
       "      <td>レギュラー</td>\n",
       "      <td>20</td>\n",
       "      <td>120</td>\n",
       "      <td>2400</td>\n",
       "    </tr>\n",
       "    <tr>\n",
       "      <th>1</th>\n",
       "      <td>ICHIGO</td>\n",
       "      <td>6</td>\n",
       "      <td>012</td>\n",
       "      <td>2020/11/30</td>\n",
       "      <td>岸辺</td>\n",
       "      <td>2.0</td>\n",
       "      <td>2020-11-12 00:00:00</td>\n",
       "      <td>GSL0002</td>\n",
       "      <td>ハイオク</td>\n",
       "      <td>45</td>\n",
       "      <td>160</td>\n",
       "      <td>7200</td>\n",
       "    </tr>\n",
       "    <tr>\n",
       "      <th>2</th>\n",
       "      <td>ICHIGO</td>\n",
       "      <td>6</td>\n",
       "      <td>012</td>\n",
       "      <td>2020/11/30</td>\n",
       "      <td>岸辺</td>\n",
       "      <td>2.0</td>\n",
       "      <td>2020-11-15 00:00:00</td>\n",
       "      <td>GSL0003</td>\n",
       "      <td>軽油</td>\n",
       "      <td>50</td>\n",
       "      <td>100</td>\n",
       "      <td>5000</td>\n",
       "    </tr>\n",
       "    <tr>\n",
       "      <th>3</th>\n",
       "      <td>ICHIGO</td>\n",
       "      <td>6</td>\n",
       "      <td>012</td>\n",
       "      <td>2020/11/30</td>\n",
       "      <td>岸辺</td>\n",
       "      <td>2.0</td>\n",
       "      <td>2020-11-15 00:00:00</td>\n",
       "      <td>GDS0002</td>\n",
       "      <td>コロン</td>\n",
       "      <td>3</td>\n",
       "      <td>800</td>\n",
       "      <td>2400</td>\n",
       "    </tr>\n",
       "    <tr>\n",
       "      <th>4</th>\n",
       "      <td>ICHIGO</td>\n",
       "      <td>6</td>\n",
       "      <td>012</td>\n",
       "      <td>2020/11/30</td>\n",
       "      <td>岸辺</td>\n",
       "      <td>2.0</td>\n",
       "      <td>2020-11-20 00:00:00</td>\n",
       "      <td>CMT0004</td>\n",
       "      <td>オイル交換</td>\n",
       "      <td>1</td>\n",
       "      <td>1000</td>\n",
       "      <td>1000</td>\n",
       "    </tr>\n",
       "  </tbody>\n",
       "</table>\n",
       "</div>"
      ],
      "text/plain": [
       "10     企業名  企業コード 請求書No         発行日 発行者  発行者コード                   日付    商品コード  \\\n",
       "0   ICHIGO      6   012  2020/11/30  岸辺     2.0  2020-11-12 00:00:00  GSL0001   \n",
       "1   ICHIGO      6   012  2020/11/30  岸辺     2.0  2020-11-12 00:00:00  GSL0002   \n",
       "2   ICHIGO      6   012  2020/11/30  岸辺     2.0  2020-11-15 00:00:00  GSL0003   \n",
       "3   ICHIGO      6   012  2020/11/30  岸辺     2.0  2020-11-15 00:00:00  GDS0002   \n",
       "4   ICHIGO      6   012  2020/11/30  岸辺     2.0  2020-11-20 00:00:00  CMT0004   \n",
       "\n",
       "10     品名 数量[L] or [-] 単価[¥/L] or [¥]    金額  \n",
       "0   レギュラー           20            120  2400  \n",
       "1    ハイオク           45            160  7200  \n",
       "2      軽油           50            100  5000  \n",
       "3     コロン            3            800  2400  \n",
       "4   オイル交換            1           1000  1000  "
      ]
     },
     "execution_count": 63,
     "metadata": {},
     "output_type": "execute_result"
    }
   ],
   "source": [
    "df.head()"
   ]
  },
  {
   "cell_type": "code",
   "execution_count": 64,
   "id": "916ef61d-8060-49ea-89b5-8308a04f8ea3",
   "metadata": {},
   "outputs": [],
   "source": [
    "df.to_excel('20210110_Python_Excel_02/output/all_data_02.xlsx', index=False)"
   ]
  },
  {
   "cell_type": "code",
   "execution_count": 65,
   "id": "7f062032-cbe7-4eb5-851c-1c79202be5d8",
   "metadata": {},
   "outputs": [],
   "source": [
    "members = df['発行者'].unique()"
   ]
  },
  {
   "cell_type": "code",
   "execution_count": 66,
   "id": "a9bbc35c-79bb-497d-8aef-dbc12d9cb13f",
   "metadata": {},
   "outputs": [
    {
     "data": {
      "text/plain": [
       "'岸辺'"
      ]
     },
     "execution_count": 66,
     "metadata": {},
     "output_type": "execute_result"
    }
   ],
   "source": [
    "member = members[0]\n",
    "member"
   ]
  },
  {
   "cell_type": "code",
   "execution_count": 67,
   "id": "ca500ac7-c39b-4b33-9ffe-0b212d83e755",
   "metadata": {},
   "outputs": [
    {
     "data": {
      "text/html": [
       "<div>\n",
       "<style scoped>\n",
       "    .dataframe tbody tr th:only-of-type {\n",
       "        vertical-align: middle;\n",
       "    }\n",
       "\n",
       "    .dataframe tbody tr th {\n",
       "        vertical-align: top;\n",
       "    }\n",
       "\n",
       "    .dataframe thead th {\n",
       "        text-align: right;\n",
       "    }\n",
       "</style>\n",
       "<table border=\"1\" class=\"dataframe\">\n",
       "  <thead>\n",
       "    <tr style=\"text-align: right;\">\n",
       "      <th>10</th>\n",
       "      <th>企業名</th>\n",
       "      <th>企業コード</th>\n",
       "      <th>請求書No</th>\n",
       "      <th>発行日</th>\n",
       "      <th>発行者</th>\n",
       "      <th>発行者コード</th>\n",
       "      <th>日付</th>\n",
       "      <th>商品コード</th>\n",
       "      <th>品名</th>\n",
       "      <th>数量[L] or [-]</th>\n",
       "      <th>単価[¥/L] or [¥]</th>\n",
       "      <th>金額</th>\n",
       "    </tr>\n",
       "  </thead>\n",
       "  <tbody>\n",
       "    <tr>\n",
       "      <th>0</th>\n",
       "      <td>ICHIGO</td>\n",
       "      <td>6</td>\n",
       "      <td>012</td>\n",
       "      <td>2020/11/30</td>\n",
       "      <td>岸辺</td>\n",
       "      <td>2.0</td>\n",
       "      <td>2020-11-12 00:00:00</td>\n",
       "      <td>GSL0001</td>\n",
       "      <td>レギュラー</td>\n",
       "      <td>20</td>\n",
       "      <td>120</td>\n",
       "      <td>2400</td>\n",
       "    </tr>\n",
       "    <tr>\n",
       "      <th>1</th>\n",
       "      <td>ICHIGO</td>\n",
       "      <td>6</td>\n",
       "      <td>012</td>\n",
       "      <td>2020/11/30</td>\n",
       "      <td>岸辺</td>\n",
       "      <td>2.0</td>\n",
       "      <td>2020-11-12 00:00:00</td>\n",
       "      <td>GSL0002</td>\n",
       "      <td>ハイオク</td>\n",
       "      <td>45</td>\n",
       "      <td>160</td>\n",
       "      <td>7200</td>\n",
       "    </tr>\n",
       "    <tr>\n",
       "      <th>2</th>\n",
       "      <td>ICHIGO</td>\n",
       "      <td>6</td>\n",
       "      <td>012</td>\n",
       "      <td>2020/11/30</td>\n",
       "      <td>岸辺</td>\n",
       "      <td>2.0</td>\n",
       "      <td>2020-11-15 00:00:00</td>\n",
       "      <td>GSL0003</td>\n",
       "      <td>軽油</td>\n",
       "      <td>50</td>\n",
       "      <td>100</td>\n",
       "      <td>5000</td>\n",
       "    </tr>\n",
       "    <tr>\n",
       "      <th>3</th>\n",
       "      <td>ICHIGO</td>\n",
       "      <td>6</td>\n",
       "      <td>012</td>\n",
       "      <td>2020/11/30</td>\n",
       "      <td>岸辺</td>\n",
       "      <td>2.0</td>\n",
       "      <td>2020-11-15 00:00:00</td>\n",
       "      <td>GDS0002</td>\n",
       "      <td>コロン</td>\n",
       "      <td>3</td>\n",
       "      <td>800</td>\n",
       "      <td>2400</td>\n",
       "    </tr>\n",
       "    <tr>\n",
       "      <th>4</th>\n",
       "      <td>ICHIGO</td>\n",
       "      <td>6</td>\n",
       "      <td>012</td>\n",
       "      <td>2020/11/30</td>\n",
       "      <td>岸辺</td>\n",
       "      <td>2.0</td>\n",
       "      <td>2020-11-20 00:00:00</td>\n",
       "      <td>CMT0004</td>\n",
       "      <td>オイル交換</td>\n",
       "      <td>1</td>\n",
       "      <td>1000</td>\n",
       "      <td>1000</td>\n",
       "    </tr>\n",
       "  </tbody>\n",
       "</table>\n",
       "</div>"
      ],
      "text/plain": [
       "10     企業名  企業コード 請求書No         発行日 発行者  発行者コード                   日付    商品コード  \\\n",
       "0   ICHIGO      6   012  2020/11/30  岸辺     2.0  2020-11-12 00:00:00  GSL0001   \n",
       "1   ICHIGO      6   012  2020/11/30  岸辺     2.0  2020-11-12 00:00:00  GSL0002   \n",
       "2   ICHIGO      6   012  2020/11/30  岸辺     2.0  2020-11-15 00:00:00  GSL0003   \n",
       "3   ICHIGO      6   012  2020/11/30  岸辺     2.0  2020-11-15 00:00:00  GDS0002   \n",
       "4   ICHIGO      6   012  2020/11/30  岸辺     2.0  2020-11-20 00:00:00  CMT0004   \n",
       "\n",
       "10     品名 数量[L] or [-] 単価[¥/L] or [¥]    金額  \n",
       "0   レギュラー           20            120  2400  \n",
       "1    ハイオク           45            160  7200  \n",
       "2      軽油           50            100  5000  \n",
       "3     コロン            3            800  2400  \n",
       "4   オイル交換            1           1000  1000  "
      ]
     },
     "execution_count": 67,
     "metadata": {},
     "output_type": "execute_result"
    }
   ],
   "source": [
    "_df = df[df['発行者'] == member]\n",
    "_df.head()"
   ]
  },
  {
   "cell_type": "code",
   "execution_count": 68,
   "id": "eaaca3fd-dbe6-447e-8852-8b7f95bc743b",
   "metadata": {},
   "outputs": [
    {
     "data": {
      "text/plain": [
       "120300"
      ]
     },
     "execution_count": 68,
     "metadata": {},
     "output_type": "execute_result"
    }
   ],
   "source": [
    "_df['金額'].sum()"
   ]
  },
  {
   "cell_type": "code",
   "execution_count": 69,
   "id": "1a8bf0de-6c23-49ce-a4c5-a4a7b195f4d7",
   "metadata": {},
   "outputs": [
    {
     "data": {
      "text/plain": [
       "array(['ICHIGO', 'TTT Inc.'], dtype=object)"
      ]
     },
     "execution_count": 69,
     "metadata": {},
     "output_type": "execute_result"
    }
   ],
   "source": [
    "companies = _df['企業名'].unique()\n",
    "companies"
   ]
  },
  {
   "cell_type": "code",
   "execution_count": 70,
   "id": "5edecd30-4e39-4b15-866e-a31d52a5cb0a",
   "metadata": {},
   "outputs": [
    {
     "data": {
      "text/plain": [
       "30900"
      ]
     },
     "execution_count": 70,
     "metadata": {},
     "output_type": "execute_result"
    }
   ],
   "source": [
    "_df[_df['企業名'] == companies[0]]['金額'].sum()"
   ]
  },
  {
   "cell_type": "code",
   "execution_count": 71,
   "id": "336c9dcf-d311-43fe-9f30-d08c07afefdc",
   "metadata": {},
   "outputs": [
    {
     "data": {
      "text/plain": [
       "89400"
      ]
     },
     "execution_count": 71,
     "metadata": {},
     "output_type": "execute_result"
    }
   ],
   "source": [
    "_df[_df['企業名'] == companies[1]]['金額'].sum()"
   ]
  },
  {
   "cell_type": "code",
   "execution_count": 72,
   "id": "ff2560ab-5cad-4e98-94ff-2d4267ad06e0",
   "metadata": {},
   "outputs": [
    {
     "data": {
      "text/plain": [
       "120300"
      ]
     },
     "execution_count": 72,
     "metadata": {},
     "output_type": "execute_result"
    }
   ],
   "source": [
    "tot_earnings = _df['金額'].sum()\n",
    "tot_earnings"
   ]
  },
  {
   "cell_type": "code",
   "execution_count": 74,
   "id": "8921d0b5-da60-460f-a095-0fb46a9712b6",
   "metadata": {},
   "outputs": [
    {
     "data": {
      "text/html": [
       "<div>\n",
       "<style scoped>\n",
       "    .dataframe tbody tr th:only-of-type {\n",
       "        vertical-align: middle;\n",
       "    }\n",
       "\n",
       "    .dataframe tbody tr th {\n",
       "        vertical-align: top;\n",
       "    }\n",
       "\n",
       "    .dataframe thead th {\n",
       "        text-align: right;\n",
       "    }\n",
       "</style>\n",
       "<table border=\"1\" class=\"dataframe\">\n",
       "  <thead>\n",
       "    <tr style=\"text-align: right;\">\n",
       "      <th></th>\n",
       "      <th>担当者</th>\n",
       "      <th>企業名</th>\n",
       "      <th>金額</th>\n",
       "    </tr>\n",
       "  </thead>\n",
       "  <tbody>\n",
       "    <tr>\n",
       "      <th>0</th>\n",
       "      <td>岸辺</td>\n",
       "      <td>全体</td>\n",
       "      <td>120300</td>\n",
       "    </tr>\n",
       "  </tbody>\n",
       "</table>\n",
       "</div>"
      ],
      "text/plain": [
       "  担当者 企業名      金額\n",
       "0  岸辺  全体  120300"
      ]
     },
     "execution_count": 74,
     "metadata": {},
     "output_type": "execute_result"
    }
   ],
   "source": [
    "pd.DataFrame({'担当者': member, '企業名': '全体', '金額': tot_earnings}, index = [0])"
   ]
  },
  {
   "cell_type": "code",
   "execution_count": 85,
   "id": "66363f85-aec5-443f-bc84-fd7e485bb764",
   "metadata": {},
   "outputs": [
    {
     "data": {
      "text/plain": [
       "'ICHIGO'"
      ]
     },
     "execution_count": 85,
     "metadata": {},
     "output_type": "execute_result"
    }
   ],
   "source": [
    "company = companies[0]\n",
    "company"
   ]
  },
  {
   "cell_type": "code",
   "execution_count": 86,
   "id": "17ad0f0c-c7ad-45d0-983b-a4eed1fc2dc9",
   "metadata": {},
   "outputs": [
    {
     "data": {
      "text/plain": [
       "30900"
      ]
     },
     "execution_count": 86,
     "metadata": {},
     "output_type": "execute_result"
    }
   ],
   "source": [
    "earnings = _df[_df['企業名'] == company]['金額'].sum()\n",
    "earnings"
   ]
  },
  {
   "cell_type": "code",
   "execution_count": 87,
   "id": "ab2bc059-9e80-4f1c-82c6-df047fcdc3ba",
   "metadata": {},
   "outputs": [
    {
     "data": {
      "text/html": [
       "<div>\n",
       "<style scoped>\n",
       "    .dataframe tbody tr th:only-of-type {\n",
       "        vertical-align: middle;\n",
       "    }\n",
       "\n",
       "    .dataframe tbody tr th {\n",
       "        vertical-align: top;\n",
       "    }\n",
       "\n",
       "    .dataframe thead th {\n",
       "        text-align: right;\n",
       "    }\n",
       "</style>\n",
       "<table border=\"1\" class=\"dataframe\">\n",
       "  <thead>\n",
       "    <tr style=\"text-align: right;\">\n",
       "      <th></th>\n",
       "      <th>企業名</th>\n",
       "      <th>金額</th>\n",
       "    </tr>\n",
       "  </thead>\n",
       "  <tbody>\n",
       "    <tr>\n",
       "      <th>1</th>\n",
       "      <td>ICHIGO</td>\n",
       "      <td>30900</td>\n",
       "    </tr>\n",
       "  </tbody>\n",
       "</table>\n",
       "</div>"
      ],
      "text/plain": [
       "      企業名     金額\n",
       "1  ICHIGO  30900"
      ]
     },
     "execution_count": 87,
     "metadata": {},
     "output_type": "execute_result"
    }
   ],
   "source": [
    "pd.DataFrame({'企業名': company, '金額': earnings}, index = [1])"
   ]
  },
  {
   "cell_type": "code",
   "execution_count": 92,
   "id": "5ee7b624-74df-44e3-9ad7-bd122d6bddeb",
   "metadata": {},
   "outputs": [
    {
     "data": {
      "text/plain": [
       "{'担当者': '岸辺', '企業名': '全体', '金額': 120300}"
      ]
     },
     "execution_count": 92,
     "metadata": {},
     "output_type": "execute_result"
    }
   ],
   "source": [
    "{'担当者': member, '企業名': '全体', '金額': tot_earnings}"
   ]
  },
  {
   "cell_type": "code",
   "execution_count": 94,
   "id": "a0b2f3d3-0adb-4698-8140-b82be29f098f",
   "metadata": {},
   "outputs": [
    {
     "data": {
      "text/plain": [
       "{'担当者': '岸辺', '企業名': '全体', '金額': 120300}"
      ]
     },
     "execution_count": 94,
     "metadata": {},
     "output_type": "execute_result"
    }
   ],
   "source": [
    "dict(担当者=member, 企業名='全体', 金額=tot_earnings)"
   ]
  },
  {
   "cell_type": "code",
   "execution_count": 95,
   "id": "14aadf93-351a-46ab-a623-46245f44c405",
   "metadata": {},
   "outputs": [
    {
     "data": {
      "text/plain": [
       "{'企業名': 'ICHIGO', '金額': 30900}"
      ]
     },
     "execution_count": 95,
     "metadata": {},
     "output_type": "execute_result"
    }
   ],
   "source": [
    "dict(企業名=company, 金額=earnings)"
   ]
  },
  {
   "cell_type": "code",
   "execution_count": 97,
   "id": "b11e2ebd-9c55-4685-abe2-f52956c28000",
   "metadata": {},
   "outputs": [],
   "source": [
    "total_res = []\n",
    "for member in members:\n",
    "    _df = df[df['発行者'] == member]\n",
    "    companies = _df['企業名'].unique()\n",
    "\n",
    "    tot_earnings = _df['金額'].sum()\n",
    "    total_res.append(dict(担当者=member, 企業名='全体', 金額=tot_earnings))\n",
    "\n",
    "    for company in companies:\n",
    "        earnings = _df[_df['企業名'] == company]['金額'].sum()\n",
    "        total_res.append(dict(企業名=company, 金額=earnings))"
   ]
  },
  {
   "cell_type": "code",
   "execution_count": 98,
   "id": "0f5f4701-abd1-404b-a126-916147403259",
   "metadata": {},
   "outputs": [
    {
     "data": {
      "text/plain": [
       "[{'担当者': '岸辺', '企業名': '全体', '金額': 120300},\n",
       " {'企業名': 'ICHIGO', '金額': 30900},\n",
       " {'企業名': 'TTT Inc.', '金額': 89400},\n",
       " {'担当者': '桜田', '企業名': '全体', '金額': 154400},\n",
       " {'企業名': 'STR Corp.', '金額': 55300},\n",
       " {'企業名': 'CDF商事', '金額': 39000},\n",
       " {'企業名': '株式会社ABC', '金額': 60100},\n",
       " {'担当者': '山岡', '企業名': '全体', '金額': 35800},\n",
       " {'企業名': 'XYZ株式会社', '金額': 35800}]"
      ]
     },
     "execution_count": 98,
     "metadata": {},
     "output_type": "execute_result"
    }
   ],
   "source": [
    "total_res"
   ]
  },
  {
   "cell_type": "code",
   "execution_count": 100,
   "id": "605e6b80-19eb-4c2b-a8c0-827dc79959b3",
   "metadata": {},
   "outputs": [
    {
     "data": {
      "text/html": [
       "<div>\n",
       "<style scoped>\n",
       "    .dataframe tbody tr th:only-of-type {\n",
       "        vertical-align: middle;\n",
       "    }\n",
       "\n",
       "    .dataframe tbody tr th {\n",
       "        vertical-align: top;\n",
       "    }\n",
       "\n",
       "    .dataframe thead th {\n",
       "        text-align: right;\n",
       "    }\n",
       "</style>\n",
       "<table border=\"1\" class=\"dataframe\">\n",
       "  <thead>\n",
       "    <tr style=\"text-align: right;\">\n",
       "      <th></th>\n",
       "      <th>担当者</th>\n",
       "      <th>企業名</th>\n",
       "      <th>金額</th>\n",
       "    </tr>\n",
       "  </thead>\n",
       "  <tbody>\n",
       "    <tr>\n",
       "      <th>0</th>\n",
       "      <td>岸辺</td>\n",
       "      <td>全体</td>\n",
       "      <td>120300</td>\n",
       "    </tr>\n",
       "    <tr>\n",
       "      <th>1</th>\n",
       "      <td>NaN</td>\n",
       "      <td>ICHIGO</td>\n",
       "      <td>30900</td>\n",
       "    </tr>\n",
       "    <tr>\n",
       "      <th>2</th>\n",
       "      <td>NaN</td>\n",
       "      <td>TTT Inc.</td>\n",
       "      <td>89400</td>\n",
       "    </tr>\n",
       "    <tr>\n",
       "      <th>3</th>\n",
       "      <td>桜田</td>\n",
       "      <td>全体</td>\n",
       "      <td>154400</td>\n",
       "    </tr>\n",
       "    <tr>\n",
       "      <th>4</th>\n",
       "      <td>NaN</td>\n",
       "      <td>STR Corp.</td>\n",
       "      <td>55300</td>\n",
       "    </tr>\n",
       "    <tr>\n",
       "      <th>5</th>\n",
       "      <td>NaN</td>\n",
       "      <td>CDF商事</td>\n",
       "      <td>39000</td>\n",
       "    </tr>\n",
       "    <tr>\n",
       "      <th>6</th>\n",
       "      <td>NaN</td>\n",
       "      <td>株式会社ABC</td>\n",
       "      <td>60100</td>\n",
       "    </tr>\n",
       "    <tr>\n",
       "      <th>7</th>\n",
       "      <td>山岡</td>\n",
       "      <td>全体</td>\n",
       "      <td>35800</td>\n",
       "    </tr>\n",
       "    <tr>\n",
       "      <th>8</th>\n",
       "      <td>NaN</td>\n",
       "      <td>XYZ株式会社</td>\n",
       "      <td>35800</td>\n",
       "    </tr>\n",
       "  </tbody>\n",
       "</table>\n",
       "</div>"
      ],
      "text/plain": [
       "   担当者        企業名      金額\n",
       "0   岸辺         全体  120300\n",
       "1  NaN     ICHIGO   30900\n",
       "2  NaN   TTT Inc.   89400\n",
       "3   桜田         全体  154400\n",
       "4  NaN  STR Corp.   55300\n",
       "5  NaN      CDF商事   39000\n",
       "6  NaN    株式会社ABC   60100\n",
       "7   山岡         全体   35800\n",
       "8  NaN    XYZ株式会社   35800"
      ]
     },
     "execution_count": 100,
     "metadata": {},
     "output_type": "execute_result"
    }
   ],
   "source": [
    "pd.DataFrame(total_res, columns=['担当者', '企業名', '金額'])"
   ]
  },
  {
   "cell_type": "code",
   "execution_count": 103,
   "id": "6e9e7354-d7f2-41e4-90e5-e9f77f91bdb8",
   "metadata": {},
   "outputs": [
    {
     "data": {
      "text/html": [
       "<div>\n",
       "<style scoped>\n",
       "    .dataframe tbody tr th:only-of-type {\n",
       "        vertical-align: middle;\n",
       "    }\n",
       "\n",
       "    .dataframe tbody tr th {\n",
       "        vertical-align: top;\n",
       "    }\n",
       "\n",
       "    .dataframe thead th {\n",
       "        text-align: right;\n",
       "    }\n",
       "</style>\n",
       "<table border=\"1\" class=\"dataframe\">\n",
       "  <thead>\n",
       "    <tr style=\"text-align: right;\">\n",
       "      <th></th>\n",
       "      <th>商品コード</th>\n",
       "      <th>品名</th>\n",
       "      <th>単価[¥/L] or [¥]</th>\n",
       "    </tr>\n",
       "  </thead>\n",
       "  <tbody>\n",
       "    <tr>\n",
       "      <th>0</th>\n",
       "      <td>GSL0001</td>\n",
       "      <td>レギュラー</td>\n",
       "      <td>120</td>\n",
       "    </tr>\n",
       "    <tr>\n",
       "      <th>1</th>\n",
       "      <td>GSL0002</td>\n",
       "      <td>ハイオク</td>\n",
       "      <td>160</td>\n",
       "    </tr>\n",
       "    <tr>\n",
       "      <th>2</th>\n",
       "      <td>GSL0003</td>\n",
       "      <td>軽油</td>\n",
       "      <td>100</td>\n",
       "    </tr>\n",
       "    <tr>\n",
       "      <th>3</th>\n",
       "      <td>GSL0004</td>\n",
       "      <td>灯油</td>\n",
       "      <td>80</td>\n",
       "    </tr>\n",
       "    <tr>\n",
       "      <th>4</th>\n",
       "      <td>CMT0001</td>\n",
       "      <td>洗車 A</td>\n",
       "      <td>500</td>\n",
       "    </tr>\n",
       "  </tbody>\n",
       "</table>\n",
       "</div>"
      ],
      "text/plain": [
       "     商品コード     品名  単価[¥/L] or [¥]\n",
       "0  GSL0001  レギュラー             120\n",
       "1  GSL0002   ハイオク             160\n",
       "2  GSL0003     軽油             100\n",
       "3  GSL0004     灯油              80\n",
       "4  CMT0001   洗車 A             500"
      ]
     },
     "execution_count": 103,
     "metadata": {},
     "output_type": "execute_result"
    }
   ],
   "source": [
    "df_master = pd.read_excel('20210110_Python_Excel_02/sources/商品情報マスタ.xlsx')\n",
    "df_master.head()"
   ]
  },
  {
   "cell_type": "code",
   "execution_count": 104,
   "id": "0cc11a40-0f48-4b22-995a-e5a1fa9c9267",
   "metadata": {},
   "outputs": [
    {
     "data": {
      "text/html": [
       "<div>\n",
       "<style scoped>\n",
       "    .dataframe tbody tr th:only-of-type {\n",
       "        vertical-align: middle;\n",
       "    }\n",
       "\n",
       "    .dataframe tbody tr th {\n",
       "        vertical-align: top;\n",
       "    }\n",
       "\n",
       "    .dataframe thead th {\n",
       "        text-align: right;\n",
       "    }\n",
       "</style>\n",
       "<table border=\"1\" class=\"dataframe\">\n",
       "  <thead>\n",
       "    <tr style=\"text-align: right;\">\n",
       "      <th></th>\n",
       "      <th>日付</th>\n",
       "      <th>商品コード</th>\n",
       "      <th>数量</th>\n",
       "    </tr>\n",
       "  </thead>\n",
       "  <tbody>\n",
       "    <tr>\n",
       "      <th>0</th>\n",
       "      <td>2020-12-01</td>\n",
       "      <td>GSL0001</td>\n",
       "      <td>40</td>\n",
       "    </tr>\n",
       "    <tr>\n",
       "      <th>1</th>\n",
       "      <td>2020-12-02</td>\n",
       "      <td>GSL0002</td>\n",
       "      <td>50</td>\n",
       "    </tr>\n",
       "    <tr>\n",
       "      <th>2</th>\n",
       "      <td>2020-12-03</td>\n",
       "      <td>GSL0001</td>\n",
       "      <td>35</td>\n",
       "    </tr>\n",
       "    <tr>\n",
       "      <th>3</th>\n",
       "      <td>2020-12-15</td>\n",
       "      <td>GSL0004</td>\n",
       "      <td>60</td>\n",
       "    </tr>\n",
       "    <tr>\n",
       "      <th>4</th>\n",
       "      <td>2020-12-15</td>\n",
       "      <td>CMT0003</td>\n",
       "      <td>2</td>\n",
       "    </tr>\n",
       "  </tbody>\n",
       "</table>\n",
       "</div>"
      ],
      "text/plain": [
       "          日付    商品コード  数量\n",
       "0 2020-12-01  GSL0001  40\n",
       "1 2020-12-02  GSL0002  50\n",
       "2 2020-12-03  GSL0001  35\n",
       "3 2020-12-15  GSL0004  60\n",
       "4 2020-12-15  CMT0003   2"
      ]
     },
     "execution_count": 104,
     "metadata": {},
     "output_type": "execute_result"
    }
   ],
   "source": [
    "df_order = pd.read_excel('20210110_Python_Excel_02/sources/注文表.xlsx')\n",
    "df_order.head()"
   ]
  },
  {
   "cell_type": "code",
   "execution_count": 106,
   "id": "75d850c2-e4d3-48cd-83ca-6a4b4666f8b1",
   "metadata": {},
   "outputs": [
    {
     "data": {
      "text/html": [
       "<div>\n",
       "<style scoped>\n",
       "    .dataframe tbody tr th:only-of-type {\n",
       "        vertical-align: middle;\n",
       "    }\n",
       "\n",
       "    .dataframe tbody tr th {\n",
       "        vertical-align: top;\n",
       "    }\n",
       "\n",
       "    .dataframe thead th {\n",
       "        text-align: right;\n",
       "    }\n",
       "</style>\n",
       "<table border=\"1\" class=\"dataframe\">\n",
       "  <thead>\n",
       "    <tr style=\"text-align: right;\">\n",
       "      <th></th>\n",
       "      <th>日付</th>\n",
       "      <th>商品コード</th>\n",
       "      <th>数量</th>\n",
       "      <th>品名</th>\n",
       "      <th>単価[¥/L] or [¥]</th>\n",
       "    </tr>\n",
       "  </thead>\n",
       "  <tbody>\n",
       "    <tr>\n",
       "      <th>0</th>\n",
       "      <td>2020-12-01</td>\n",
       "      <td>GSL0001</td>\n",
       "      <td>40</td>\n",
       "      <td>レギュラー</td>\n",
       "      <td>120</td>\n",
       "    </tr>\n",
       "    <tr>\n",
       "      <th>1</th>\n",
       "      <td>2020-12-03</td>\n",
       "      <td>GSL0001</td>\n",
       "      <td>35</td>\n",
       "      <td>レギュラー</td>\n",
       "      <td>120</td>\n",
       "    </tr>\n",
       "    <tr>\n",
       "      <th>2</th>\n",
       "      <td>2020-12-02</td>\n",
       "      <td>GSL0002</td>\n",
       "      <td>50</td>\n",
       "      <td>ハイオク</td>\n",
       "      <td>160</td>\n",
       "    </tr>\n",
       "    <tr>\n",
       "      <th>3</th>\n",
       "      <td>2020-12-15</td>\n",
       "      <td>GSL0004</td>\n",
       "      <td>60</td>\n",
       "      <td>灯油</td>\n",
       "      <td>80</td>\n",
       "    </tr>\n",
       "    <tr>\n",
       "      <th>4</th>\n",
       "      <td>2020-12-18</td>\n",
       "      <td>GSL0004</td>\n",
       "      <td>15</td>\n",
       "      <td>灯油</td>\n",
       "      <td>80</td>\n",
       "    </tr>\n",
       "  </tbody>\n",
       "</table>\n",
       "</div>"
      ],
      "text/plain": [
       "          日付    商品コード  数量     品名  単価[¥/L] or [¥]\n",
       "0 2020-12-01  GSL0001  40  レギュラー             120\n",
       "1 2020-12-03  GSL0001  35  レギュラー             120\n",
       "2 2020-12-02  GSL0002  50   ハイオク             160\n",
       "3 2020-12-15  GSL0004  60     灯油              80\n",
       "4 2020-12-18  GSL0004  15     灯油              80"
      ]
     },
     "execution_count": 106,
     "metadata": {},
     "output_type": "execute_result"
    }
   ],
   "source": [
    "df_merged = pd.merge(df_order, df_master, how='inner')\n",
    "df_merged.head()"
   ]
  },
  {
   "cell_type": "code",
   "execution_count": 108,
   "id": "0e83984c-4f52-4d9b-9789-8fc6716860e5",
   "metadata": {},
   "outputs": [],
   "source": [
    "df_merged['金額'] = df_merged['数量'] * df_merged['単価[¥/L] or [¥]']"
   ]
  },
  {
   "cell_type": "code",
   "execution_count": 109,
   "id": "c66ddfcc-8447-4321-9232-7c26bc430efe",
   "metadata": {},
   "outputs": [
    {
     "data": {
      "text/html": [
       "<div>\n",
       "<style scoped>\n",
       "    .dataframe tbody tr th:only-of-type {\n",
       "        vertical-align: middle;\n",
       "    }\n",
       "\n",
       "    .dataframe tbody tr th {\n",
       "        vertical-align: top;\n",
       "    }\n",
       "\n",
       "    .dataframe thead th {\n",
       "        text-align: right;\n",
       "    }\n",
       "</style>\n",
       "<table border=\"1\" class=\"dataframe\">\n",
       "  <thead>\n",
       "    <tr style=\"text-align: right;\">\n",
       "      <th></th>\n",
       "      <th>日付</th>\n",
       "      <th>商品コード</th>\n",
       "      <th>数量</th>\n",
       "      <th>品名</th>\n",
       "      <th>単価[¥/L] or [¥]</th>\n",
       "      <th>金額</th>\n",
       "    </tr>\n",
       "  </thead>\n",
       "  <tbody>\n",
       "    <tr>\n",
       "      <th>0</th>\n",
       "      <td>2020-12-01</td>\n",
       "      <td>GSL0001</td>\n",
       "      <td>40</td>\n",
       "      <td>レギュラー</td>\n",
       "      <td>120</td>\n",
       "      <td>4800</td>\n",
       "    </tr>\n",
       "    <tr>\n",
       "      <th>1</th>\n",
       "      <td>2020-12-03</td>\n",
       "      <td>GSL0001</td>\n",
       "      <td>35</td>\n",
       "      <td>レギュラー</td>\n",
       "      <td>120</td>\n",
       "      <td>4200</td>\n",
       "    </tr>\n",
       "    <tr>\n",
       "      <th>2</th>\n",
       "      <td>2020-12-02</td>\n",
       "      <td>GSL0002</td>\n",
       "      <td>50</td>\n",
       "      <td>ハイオク</td>\n",
       "      <td>160</td>\n",
       "      <td>8000</td>\n",
       "    </tr>\n",
       "    <tr>\n",
       "      <th>3</th>\n",
       "      <td>2020-12-15</td>\n",
       "      <td>GSL0004</td>\n",
       "      <td>60</td>\n",
       "      <td>灯油</td>\n",
       "      <td>80</td>\n",
       "      <td>4800</td>\n",
       "    </tr>\n",
       "    <tr>\n",
       "      <th>4</th>\n",
       "      <td>2020-12-18</td>\n",
       "      <td>GSL0004</td>\n",
       "      <td>15</td>\n",
       "      <td>灯油</td>\n",
       "      <td>80</td>\n",
       "      <td>1200</td>\n",
       "    </tr>\n",
       "    <tr>\n",
       "      <th>5</th>\n",
       "      <td>2020-12-22</td>\n",
       "      <td>GSL0004</td>\n",
       "      <td>22</td>\n",
       "      <td>灯油</td>\n",
       "      <td>80</td>\n",
       "      <td>1760</td>\n",
       "    </tr>\n",
       "    <tr>\n",
       "      <th>6</th>\n",
       "      <td>2020-12-25</td>\n",
       "      <td>GSL0004</td>\n",
       "      <td>32</td>\n",
       "      <td>灯油</td>\n",
       "      <td>80</td>\n",
       "      <td>2560</td>\n",
       "    </tr>\n",
       "    <tr>\n",
       "      <th>7</th>\n",
       "      <td>2020-12-15</td>\n",
       "      <td>CMT0003</td>\n",
       "      <td>2</td>\n",
       "      <td>洗車 C</td>\n",
       "      <td>3000</td>\n",
       "      <td>6000</td>\n",
       "    </tr>\n",
       "    <tr>\n",
       "      <th>8</th>\n",
       "      <td>2020-12-21</td>\n",
       "      <td>CMT0003</td>\n",
       "      <td>4</td>\n",
       "      <td>洗車 C</td>\n",
       "      <td>3000</td>\n",
       "      <td>12000</td>\n",
       "    </tr>\n",
       "    <tr>\n",
       "      <th>9</th>\n",
       "      <td>2020-12-22</td>\n",
       "      <td>CMT0005</td>\n",
       "      <td>3</td>\n",
       "      <td>タイヤ交換</td>\n",
       "      <td>4000</td>\n",
       "      <td>12000</td>\n",
       "    </tr>\n",
       "    <tr>\n",
       "      <th>10</th>\n",
       "      <td>2020-12-28</td>\n",
       "      <td>CMT0004</td>\n",
       "      <td>4</td>\n",
       "      <td>オイル交換</td>\n",
       "      <td>1000</td>\n",
       "      <td>4000</td>\n",
       "    </tr>\n",
       "  </tbody>\n",
       "</table>\n",
       "</div>"
      ],
      "text/plain": [
       "           日付    商品コード  数量     品名  単価[¥/L] or [¥]     金額\n",
       "0  2020-12-01  GSL0001  40  レギュラー             120   4800\n",
       "1  2020-12-03  GSL0001  35  レギュラー             120   4200\n",
       "2  2020-12-02  GSL0002  50   ハイオク             160   8000\n",
       "3  2020-12-15  GSL0004  60     灯油              80   4800\n",
       "4  2020-12-18  GSL0004  15     灯油              80   1200\n",
       "5  2020-12-22  GSL0004  22     灯油              80   1760\n",
       "6  2020-12-25  GSL0004  32     灯油              80   2560\n",
       "7  2020-12-15  CMT0003   2   洗車 C            3000   6000\n",
       "8  2020-12-21  CMT0003   4   洗車 C            3000  12000\n",
       "9  2020-12-22  CMT0005   3  タイヤ交換            4000  12000\n",
       "10 2020-12-28  CMT0004   4  オイル交換            1000   4000"
      ]
     },
     "execution_count": 109,
     "metadata": {},
     "output_type": "execute_result"
    }
   ],
   "source": [
    "df_merged"
   ]
  },
  {
   "cell_type": "code",
   "execution_count": 113,
   "id": "b242fade-4c5c-46bb-bd87-b1c284a1a8d7",
   "metadata": {},
   "outputs": [
    {
     "data": {
      "text/html": [
       "<div>\n",
       "<style scoped>\n",
       "    .dataframe tbody tr th:only-of-type {\n",
       "        vertical-align: middle;\n",
       "    }\n",
       "\n",
       "    .dataframe tbody tr th {\n",
       "        vertical-align: top;\n",
       "    }\n",
       "\n",
       "    .dataframe thead th {\n",
       "        text-align: right;\n",
       "    }\n",
       "</style>\n",
       "<table border=\"1\" class=\"dataframe\">\n",
       "  <thead>\n",
       "    <tr style=\"text-align: right;\">\n",
       "      <th></th>\n",
       "      <th>企業名</th>\n",
       "      <th>企業コード</th>\n",
       "      <th>請求書No</th>\n",
       "      <th>発行日</th>\n",
       "      <th>発行者</th>\n",
       "      <th>発行者コード</th>\n",
       "      <th>日付</th>\n",
       "      <th>商品コード</th>\n",
       "      <th>品名</th>\n",
       "      <th>数量[L] or [-]</th>\n",
       "      <th>単価[¥/L] or [¥]</th>\n",
       "      <th>金額</th>\n",
       "    </tr>\n",
       "  </thead>\n",
       "  <tbody>\n",
       "    <tr>\n",
       "      <th>0</th>\n",
       "      <td>ICHIGO</td>\n",
       "      <td>6</td>\n",
       "      <td>12</td>\n",
       "      <td>2020/11/30</td>\n",
       "      <td>岸辺</td>\n",
       "      <td>2</td>\n",
       "      <td>2020-11-12</td>\n",
       "      <td>GSL0001</td>\n",
       "      <td>レギュラー</td>\n",
       "      <td>20</td>\n",
       "      <td>120</td>\n",
       "      <td>2400</td>\n",
       "    </tr>\n",
       "    <tr>\n",
       "      <th>1</th>\n",
       "      <td>ICHIGO</td>\n",
       "      <td>6</td>\n",
       "      <td>12</td>\n",
       "      <td>2020/11/30</td>\n",
       "      <td>岸辺</td>\n",
       "      <td>2</td>\n",
       "      <td>2020-11-12</td>\n",
       "      <td>GSL0002</td>\n",
       "      <td>ハイオク</td>\n",
       "      <td>45</td>\n",
       "      <td>160</td>\n",
       "      <td>7200</td>\n",
       "    </tr>\n",
       "    <tr>\n",
       "      <th>2</th>\n",
       "      <td>ICHIGO</td>\n",
       "      <td>6</td>\n",
       "      <td>12</td>\n",
       "      <td>2020/11/30</td>\n",
       "      <td>岸辺</td>\n",
       "      <td>2</td>\n",
       "      <td>2020-11-15</td>\n",
       "      <td>GSL0003</td>\n",
       "      <td>軽油</td>\n",
       "      <td>50</td>\n",
       "      <td>100</td>\n",
       "      <td>5000</td>\n",
       "    </tr>\n",
       "    <tr>\n",
       "      <th>3</th>\n",
       "      <td>ICHIGO</td>\n",
       "      <td>6</td>\n",
       "      <td>12</td>\n",
       "      <td>2020/11/30</td>\n",
       "      <td>岸辺</td>\n",
       "      <td>2</td>\n",
       "      <td>2020-11-15</td>\n",
       "      <td>GDS0002</td>\n",
       "      <td>コロン</td>\n",
       "      <td>3</td>\n",
       "      <td>800</td>\n",
       "      <td>2400</td>\n",
       "    </tr>\n",
       "    <tr>\n",
       "      <th>4</th>\n",
       "      <td>ICHIGO</td>\n",
       "      <td>6</td>\n",
       "      <td>12</td>\n",
       "      <td>2020/11/30</td>\n",
       "      <td>岸辺</td>\n",
       "      <td>2</td>\n",
       "      <td>2020-11-20</td>\n",
       "      <td>CMT0004</td>\n",
       "      <td>オイル交換</td>\n",
       "      <td>1</td>\n",
       "      <td>1000</td>\n",
       "      <td>1000</td>\n",
       "    </tr>\n",
       "  </tbody>\n",
       "</table>\n",
       "</div>"
      ],
      "text/plain": [
       "      企業名  企業コード  請求書No         発行日 発行者  発行者コード         日付    商品コード     品名  \\\n",
       "0  ICHIGO      6     12  2020/11/30  岸辺       2 2020-11-12  GSL0001  レギュラー   \n",
       "1  ICHIGO      6     12  2020/11/30  岸辺       2 2020-11-12  GSL0002   ハイオク   \n",
       "2  ICHIGO      6     12  2020/11/30  岸辺       2 2020-11-15  GSL0003     軽油   \n",
       "3  ICHIGO      6     12  2020/11/30  岸辺       2 2020-11-15  GDS0002    コロン   \n",
       "4  ICHIGO      6     12  2020/11/30  岸辺       2 2020-11-20  CMT0004  オイル交換   \n",
       "\n",
       "   数量[L] or [-]  単価[¥/L] or [¥]    金額  \n",
       "0            20             120  2400  \n",
       "1            45             160  7200  \n",
       "2            50             100  5000  \n",
       "3             3             800  2400  \n",
       "4             1            1000  1000  "
      ]
     },
     "execution_count": 113,
     "metadata": {},
     "output_type": "execute_result"
    }
   ],
   "source": [
    "df = pd.read_excel('20210110_Python_Excel_02/output/all_data_02.xlsx')\n",
    "df.head()"
   ]
  },
  {
   "cell_type": "code",
   "execution_count": 114,
   "id": "20806279-1869-463f-af10-916483b22880",
   "metadata": {},
   "outputs": [],
   "source": [
    "import numpy as np"
   ]
  },
  {
   "cell_type": "code",
   "execution_count": 120,
   "id": "ee46ecb6-1966-4d40-8cb2-5872cd2781cd",
   "metadata": {},
   "outputs": [
    {
     "data": {
      "text/html": [
       "<div>\n",
       "<style scoped>\n",
       "    .dataframe tbody tr th:only-of-type {\n",
       "        vertical-align: middle;\n",
       "    }\n",
       "\n",
       "    .dataframe tbody tr th {\n",
       "        vertical-align: top;\n",
       "    }\n",
       "\n",
       "    .dataframe thead tr th {\n",
       "        text-align: left;\n",
       "    }\n",
       "\n",
       "    .dataframe thead tr:last-of-type th {\n",
       "        text-align: right;\n",
       "    }\n",
       "</style>\n",
       "<table border=\"1\" class=\"dataframe\">\n",
       "  <thead>\n",
       "    <tr>\n",
       "      <th></th>\n",
       "      <th colspan=\"12\" halign=\"left\">金額</th>\n",
       "    </tr>\n",
       "    <tr>\n",
       "      <th>品名</th>\n",
       "      <th>オイル交換</th>\n",
       "      <th>コロン</th>\n",
       "      <th>スナック</th>\n",
       "      <th>タイヤ</th>\n",
       "      <th>タイヤ交換</th>\n",
       "      <th>ハイオク</th>\n",
       "      <th>レギュラー</th>\n",
       "      <th>洗車 A</th>\n",
       "      <th>洗車 B</th>\n",
       "      <th>洗車 C</th>\n",
       "      <th>灯油</th>\n",
       "      <th>軽油</th>\n",
       "    </tr>\n",
       "    <tr>\n",
       "      <th>企業名</th>\n",
       "      <th></th>\n",
       "      <th></th>\n",
       "      <th></th>\n",
       "      <th></th>\n",
       "      <th></th>\n",
       "      <th></th>\n",
       "      <th></th>\n",
       "      <th></th>\n",
       "      <th></th>\n",
       "      <th></th>\n",
       "      <th></th>\n",
       "      <th></th>\n",
       "    </tr>\n",
       "  </thead>\n",
       "  <tbody>\n",
       "    <tr>\n",
       "      <th>CDF商事</th>\n",
       "      <td>1000.0</td>\n",
       "      <td>NaN</td>\n",
       "      <td>NaN</td>\n",
       "      <td>NaN</td>\n",
       "      <td>4000.0</td>\n",
       "      <td>7200.0</td>\n",
       "      <td>8400.0</td>\n",
       "      <td>NaN</td>\n",
       "      <td>NaN</td>\n",
       "      <td>6000.0</td>\n",
       "      <td>12400.0</td>\n",
       "      <td>NaN</td>\n",
       "    </tr>\n",
       "    <tr>\n",
       "      <th>ICHIGO</th>\n",
       "      <td>1000.0</td>\n",
       "      <td>2400.0</td>\n",
       "      <td>NaN</td>\n",
       "      <td>NaN</td>\n",
       "      <td>NaN</td>\n",
       "      <td>13600.0</td>\n",
       "      <td>2400.0</td>\n",
       "      <td>NaN</td>\n",
       "      <td>1500.0</td>\n",
       "      <td>NaN</td>\n",
       "      <td>NaN</td>\n",
       "      <td>10000.0</td>\n",
       "    </tr>\n",
       "    <tr>\n",
       "      <th>STR Corp.</th>\n",
       "      <td>NaN</td>\n",
       "      <td>NaN</td>\n",
       "      <td>1000.0</td>\n",
       "      <td>32000.0</td>\n",
       "      <td>4000.0</td>\n",
       "      <td>7200.0</td>\n",
       "      <td>7200.0</td>\n",
       "      <td>NaN</td>\n",
       "      <td>1500.0</td>\n",
       "      <td>NaN</td>\n",
       "      <td>2400.0</td>\n",
       "      <td>NaN</td>\n",
       "    </tr>\n",
       "    <tr>\n",
       "      <th>TTT Inc.</th>\n",
       "      <td>1000.0</td>\n",
       "      <td>2400.0</td>\n",
       "      <td>NaN</td>\n",
       "      <td>NaN</td>\n",
       "      <td>4000.0</td>\n",
       "      <td>19200.0</td>\n",
       "      <td>16800.0</td>\n",
       "      <td>NaN</td>\n",
       "      <td>1500.0</td>\n",
       "      <td>NaN</td>\n",
       "      <td>NaN</td>\n",
       "      <td>44500.0</td>\n",
       "    </tr>\n",
       "    <tr>\n",
       "      <th>XYZ株式会社</th>\n",
       "      <td>NaN</td>\n",
       "      <td>NaN</td>\n",
       "      <td>NaN</td>\n",
       "      <td>NaN</td>\n",
       "      <td>NaN</td>\n",
       "      <td>12000.0</td>\n",
       "      <td>6000.0</td>\n",
       "      <td>NaN</td>\n",
       "      <td>NaN</td>\n",
       "      <td>6000.0</td>\n",
       "      <td>6800.0</td>\n",
       "      <td>5000.0</td>\n",
       "    </tr>\n",
       "    <tr>\n",
       "      <th>株式会社ABC</th>\n",
       "      <td>1000.0</td>\n",
       "      <td>800.0</td>\n",
       "      <td>300.0</td>\n",
       "      <td>32000.0</td>\n",
       "      <td>4000.0</td>\n",
       "      <td>7200.0</td>\n",
       "      <td>2400.0</td>\n",
       "      <td>500.0</td>\n",
       "      <td>1500.0</td>\n",
       "      <td>3000.0</td>\n",
       "      <td>2400.0</td>\n",
       "      <td>5000.0</td>\n",
       "    </tr>\n",
       "  </tbody>\n",
       "</table>\n",
       "</div>"
      ],
      "text/plain": [
       "               金額                                                            \\\n",
       "品名          オイル交換     コロン    スナック      タイヤ   タイヤ交換     ハイオク    レギュラー   洗車 A   \n",
       "企業名                                                                           \n",
       "CDF商事      1000.0     NaN     NaN      NaN  4000.0   7200.0   8400.0    NaN   \n",
       "ICHIGO     1000.0  2400.0     NaN      NaN     NaN  13600.0   2400.0    NaN   \n",
       "STR Corp.     NaN     NaN  1000.0  32000.0  4000.0   7200.0   7200.0    NaN   \n",
       "TTT Inc.   1000.0  2400.0     NaN      NaN  4000.0  19200.0  16800.0    NaN   \n",
       "XYZ株式会社       NaN     NaN     NaN      NaN     NaN  12000.0   6000.0    NaN   \n",
       "株式会社ABC    1000.0   800.0   300.0  32000.0  4000.0   7200.0   2400.0  500.0   \n",
       "\n",
       "                                             \n",
       "品名           洗車 B    洗車 C       灯油       軽油  \n",
       "企業名                                          \n",
       "CDF商事         NaN  6000.0  12400.0      NaN  \n",
       "ICHIGO     1500.0     NaN      NaN  10000.0  \n",
       "STR Corp.  1500.0     NaN   2400.0      NaN  \n",
       "TTT Inc.   1500.0     NaN      NaN  44500.0  \n",
       "XYZ株式会社       NaN  6000.0   6800.0   5000.0  \n",
       "株式会社ABC    1500.0  3000.0   2400.0   5000.0  "
      ]
     },
     "execution_count": 120,
     "metadata": {},
     "output_type": "execute_result"
    }
   ],
   "source": [
    "df.pivot_table(index=['企業名'], columns=['品名'], values=['金額'], aggfunc=np.sum)"
   ]
  },
  {
   "cell_type": "code",
   "execution_count": 123,
   "id": "4adbf41a-00ba-4d6f-96eb-2dc53a27c64b",
   "metadata": {},
   "outputs": [],
   "source": [
    "import openpyxl\n",
    "from openpyxl.chart import BarChart, Reference"
   ]
  },
  {
   "cell_type": "code",
   "execution_count": 128,
   "id": "12777655-2032-40f4-8d69-926cc152afb6",
   "metadata": {},
   "outputs": [],
   "source": [
    "wb = openpyxl.load_workbook('20210110_Python_Excel_02/graphs/企業別当月売上表.xlsx')\n",
    "sh = wb.active"
   ]
  },
  {
   "cell_type": "code",
   "execution_count": 130,
   "id": "72a3588c-2003-4a32-9f32-53310d831d85",
   "metadata": {},
   "outputs": [],
   "source": [
    "data = Reference(sh, min_col=3, max_col=3, min_row=1, max_row=sh.max_row)\n",
    "labels = Reference(sh, min_col=2, max_col=2, min_row=2, max_row=sh.max_row)"
   ]
  },
  {
   "cell_type": "code",
   "execution_count": 131,
   "id": "417ee08d-2bad-448d-bf83-0b3fadba8d72",
   "metadata": {},
   "outputs": [],
   "source": [
    "chart = BarChart()"
   ]
  },
  {
   "cell_type": "code",
   "execution_count": 133,
   "id": "4d7c1ec4-1742-4c50-a7b3-09c9343f0f93",
   "metadata": {},
   "outputs": [],
   "source": [
    "chart.type = 'col'\n",
    "chart.style = 28\n",
    "chart.title = '取引先企業別売上'\n",
    "chart.y_axis.title = '売上額'\n",
    "chart.x_axis.title = '取引先企業名'"
   ]
  },
  {
   "cell_type": "code",
   "execution_count": 134,
   "id": "84fa65c0-4de1-4efd-9ff8-e52fac928556",
   "metadata": {},
   "outputs": [],
   "source": [
    "chart.add_data(data, titles_from_data=True)\n",
    "chart.set_categories(labels)"
   ]
  },
  {
   "cell_type": "code",
   "execution_count": 135,
   "id": "20724948-3e83-43be-a872-ba398cf239d0",
   "metadata": {},
   "outputs": [],
   "source": [
    "sh.add_chart(chart, 'E3')"
   ]
  },
  {
   "cell_type": "code",
   "execution_count": 136,
   "id": "8811505a-122e-4b01-8a96-942aeac4da4c",
   "metadata": {},
   "outputs": [],
   "source": [
    "wb.save('20210110_Python_Excel_02/graphs/企業別当月売上表.xlsx')"
   ]
  },
  {
   "cell_type": "code",
   "execution_count": 137,
   "id": "0bdfadfb-e468-421e-ba35-5c65ac47a663",
   "metadata": {},
   "outputs": [],
   "source": [
    "from copy import deepcopy"
   ]
  },
  {
   "cell_type": "code",
   "execution_count": 138,
   "id": "ff08cdd9-4a3f-4d2b-b4fc-b2420aa2a396",
   "metadata": {},
   "outputs": [
    {
     "data": {
      "text/plain": [
       "<openpyxl.chart.bar_chart.BarChart object>\n",
       "Parameters:\n",
       "barDir='col', grouping='clustered', varyColors=None, ser=[<openpyxl.chart.series.Series object>\n",
       "Parameters:\n",
       "idx=0, order=0, tx=<openpyxl.chart.series.SeriesLabel object>\n",
       "Parameters:\n",
       "strRef=<openpyxl.chart.data_source.StrRef object>\n",
       "Parameters:\n",
       "f=\"'Sheet1'!C1\", strCache=None, v=None, spPr=<openpyxl.chart.shapes.GraphicalProperties object>\n",
       "Parameters:\n",
       "bwMode=None, xfrm=None, prstGeom=None, noFill=False, solidFill=None, gradFill=None, pattFill=None, ln=<openpyxl.drawing.line.LineProperties object>\n",
       "Parameters:\n",
       "w=None, cap=None, cmpd=None, algn=None, noFill=False, solidFill=None, gradFill=None, pattFill=None, prstDash='solid', custDash=None, round=False, bevel=False, miter=None, headEnd=None, tailEnd=None, scene3d=None, sp3d=None, invertIfNegative=None, pictureOptions=None, dPt=[], dLbls=None, trendline=None, errBars=None, cat=<openpyxl.chart.data_source.AxDataSource object>\n",
       "Parameters:\n",
       "multiLvlStrRef=None, numLit=None, numRef=<openpyxl.chart.data_source.NumRef object>\n",
       "Parameters:\n",
       "f=\"'Sheet1'!$B$2:$B$11\", numCache=None, strLit=None, strRef=None, val=<openpyxl.chart.data_source.NumDataSource object>\n",
       "Parameters:\n",
       "numLit=None, numRef=<openpyxl.chart.data_source.NumRef object>\n",
       "Parameters:\n",
       "f=\"'Sheet1'!$C$2:$C$11\", numCache=None, shape=None], dLbls=None, gapWidth=150.0, overlap=None, serLines=None, axId=[10, 100]"
      ]
     },
     "execution_count": 138,
     "metadata": {},
     "output_type": "execute_result"
    }
   ],
   "source": [
    "deepcopy(chart)"
   ]
  },
  {
   "cell_type": "code",
   "execution_count": 139,
   "id": "7263d771-ba99-4982-9230-307738d04cdb",
   "metadata": {},
   "outputs": [],
   "source": [
    "chart2 = deepcopy(chart)"
   ]
  },
  {
   "cell_type": "code",
   "execution_count": 140,
   "id": "033203d9-f71b-43e3-9949-5b70c4f6cc60",
   "metadata": {},
   "outputs": [],
   "source": [
    "chart2.type = 'bar'\n",
    "sh.add_chart(chart2, 'E15')\n",
    "wb.save('20210110_Python_Excel_02/graphs/企業別当月売上表.xlsx')"
   ]
  }
 ],
 "metadata": {
  "kernelspec": {
   "display_name": "Python 3",
   "language": "python",
   "name": "python3"
  },
  "language_info": {
   "codemirror_mode": {
    "name": "ipython",
    "version": 3
   },
   "file_extension": ".py",
   "mimetype": "text/x-python",
   "name": "python",
   "nbconvert_exporter": "python",
   "pygments_lexer": "ipython3",
   "version": "3.8.8"
  }
 },
 "nbformat": 4,
 "nbformat_minor": 5
}
